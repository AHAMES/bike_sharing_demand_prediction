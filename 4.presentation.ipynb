{
 "cells": [
  {
   "cell_type": "markdown",
   "id": "4a0bd5d1",
   "metadata": {
    "slideshow": {
     "slide_type": "slide"
    }
   },
   "source": [
    "# Demand Prediction For Bike Sharing Systems With Timeseries Analysis"
   ]
  },
  {
   "cell_type": "code",
   "execution_count": 1,
   "id": "69af06d1",
   "metadata": {
    "slideshow": {
     "slide_type": "skip"
    }
   },
   "outputs": [],
   "source": [
    "#import pandas as pd\n",
    "#from IPython.display import display, HTML\n",
    "#import plotly.express as px\n",
    "#from IPython.display import HTML\n",
    "#import plotly.graph_objects as go"
   ]
  },
  {
   "cell_type": "markdown",
   "id": "0942afed",
   "metadata": {
    "slideshow": {
     "slide_type": "slide"
    }
   },
   "source": [
    "# Project Description\n",
    "\n",
    "## Introduction\n",
    "\n",
    "+ Bike Sharing Systems (BSS) have a very widely used method of transportation for many people worldwide.\n",
    "\n",
    "+ They have several advantages:\n",
    "    + Non-polluting.\n",
    "    + Circumvents traffic congestion.\n",
    "    + Excellent for last-mile connections.\n",
    "    + Have a convenient payment system."
   ]
  },
  {
   "cell_type": "markdown",
   "id": "9f6fd3b1",
   "metadata": {
    "slideshow": {
     "slide_type": "slide"
    }
   },
   "source": [
    "## Motivation\n",
    "\n",
    "+ BSS have a finite number of bikes and a finite number of station spaces.\n",
    "+ Not all stations have an equal amount of demand at any given time of the day.\n",
    "+ Companies responsible for BSSs conduct periodic re-positions of bikes from low demand to high demand stations.\n",
    "+ Companies need to have knowledge which stations have an excess of bikes and which requires them the most.\n"
   ]
  },
  {
   "cell_type": "markdown",
   "id": "8b259d69",
   "metadata": {
    "slideshow": {
     "slide_type": "slide"
    }
   },
   "source": [
    "\n",
    "## Objectives\n",
    "\n",
    "The objective is to create mutlivariate regression models capable of estimating the following\n",
    "\n",
    "+ **Demand prediction:** Number of bikes needed at each individual station.\n",
    "+ **Availability prediction:** Number of bikes available at each individual station."
   ]
  },
  {
   "cell_type": "markdown",
   "id": "7b87ef50",
   "metadata": {
    "slideshow": {
     "slide_type": "slide"
    }
   },
   "source": [
    "#  Literature Review"
   ]
  },
  {
   "cell_type": "markdown",
   "id": "7cb169f8",
   "metadata": {
    "slideshow": {
     "slide_type": "slide"
    }
   },
   "source": [
    "# Data Description"
   ]
  },
  {
   "cell_type": "markdown",
   "id": "27f08306",
   "metadata": {
    "slideshow": {
     "slide_type": "slide"
    }
   },
   "source": [
    "## Lyft/Baywheels\n",
    "\n",
    "The data was provided by Lyft, the owner of the BSS company Baywheels (formaly GoBike) operating in San Fransisco Bay Area.\n",
    "\n",
    "+ The data is available as far as 2017 before Lyft's aqcuisition of GoBike.\n",
    "+ The data used however is limited to 2021 and 2022 because:\n",
    "    + The disruption caused 2020 COVID pandemic.\n",
    "    + Potential business growth gap between 2019 and 2021."
   ]
  },
  {
   "cell_type": "markdown",
   "id": "b748a8a7",
   "metadata": {
    "slideshow": {
     "slide_type": "slide"
    }
   },
   "source": [
    "## Weather Data\n",
    "\n",
    "Weather data could be relevant in determining the demand, as demonstrated in the literature review (work in progress)\n",
    "\n",
    "The weather data for San Fransisco Bay Area is provided by Meteostat through a Python API"
   ]
  },
  {
   "cell_type": "markdown",
   "id": "60b09dfd",
   "metadata": {
    "slideshow": {
     "slide_type": "slide"
    }
   },
   "source": [
    "## Data Description\n",
    "\n",
    "### Size:\n",
    "\n",
    "+ **Original Number of Trips:** 4053524 trips from January 2021 to September (as far as when I am finished) 2022 (2023?).\n",
    "+ **Final Number of Trips:** 3463728 trips. (subject to change)\n",
    "\n",
    "### Relevant Columns:\n",
    "\n",
    "+ Station Name (start/end)\n",
    "+ Time (start/end)\n",
    "+ Coordinates (start/end)\n",
    "+ Ride ID"
   ]
  },
  {
   "cell_type": "markdown",
   "id": "5eb7cee6",
   "metadata": {
    "slideshow": {
     "slide_type": "slide"
    }
   },
   "source": [
    "## Cleaning Process\n",
    "\n",
    "+ **Station Standardization:** \n",
    "\n",
    "    + Stations in a particular street don't always have the same coordinates.\n",
    "    + Many stations don't have a standardized name or ID, making them unidentifiable.\n",
    "    + **Solution To Reduce Data Loss**: \n",
    "        + Use a single coordinate for any identifiable stations.\n",
    "        + Approximate the closest standard station to any trip.\n",
    "        + If the closest station is less than 500 meters away, keep the trip, otherwise, drop."
   ]
  },
  {
   "cell_type": "markdown",
   "id": "a462f246",
   "metadata": {
    "slideshow": {
     "slide_type": "slide"
    }
   },
   "source": [
    "+ **Same Station Trip:**\n",
    "    + Several trips usually take place in several minutes, with the end station being the same as start stations.\n",
    "    + This could be a result of users trying out the system or changed minds.\n",
    "    + To prevent redundancy, any same station trip with duration less than 4 minutes will be removed."
   ]
  },
  {
   "cell_type": "markdown",
   "id": "dbcde375",
   "metadata": {
    "slideshow": {
     "slide_type": "slide"
    }
   },
   "source": [
    "+ **Clustering**:\n",
    "    + Helps reduce weather data size by:\n",
    "        + Approximating areas closest to each other.\n",
    "        + Approximating the weather conditions for each cluster."
   ]
  },
  {
   "cell_type": "code",
   "execution_count": 2,
   "id": "f7b1a0bb",
   "metadata": {
    "slideshow": {
     "slide_type": "fragment"
    }
   },
   "outputs": [
    {
     "data": {
      "text/html": [
       "\n",
       "        <iframe\n",
       "            width=\"1200\"\n",
       "            height=\"600\"\n",
       "            src=\"Plots/clusters.html\"\n",
       "            frameborder=\"0\"\n",
       "            allowfullscreen\n",
       "            \n",
       "        ></iframe>\n",
       "        "
      ],
      "text/plain": [
       "<IPython.lib.display.IFrame at 0x7f996c09f850>"
      ]
     },
     "execution_count": 2,
     "metadata": {},
     "output_type": "execute_result"
    }
   ],
   "source": [
    "from IPython.display import IFrame\n",
    "IFrame(src='Plots/clusters.html', width=1200, height=600)"
   ]
  }
 ],
 "metadata": {
  "celltoolbar": "Slideshow",
  "kernelspec": {
   "display_name": "Python 3 (ipykernel)",
   "language": "python",
   "name": "python3"
  },
  "language_info": {
   "codemirror_mode": {
    "name": "ipython",
    "version": 3
   },
   "file_extension": ".py",
   "mimetype": "text/x-python",
   "name": "python",
   "nbconvert_exporter": "python",
   "pygments_lexer": "ipython3",
   "version": "3.7.9"
  }
 },
 "nbformat": 4,
 "nbformat_minor": 5
}
