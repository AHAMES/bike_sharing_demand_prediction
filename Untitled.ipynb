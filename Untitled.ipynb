{
 "cells": [
  {
   "cell_type": "code",
   "execution_count": 31,
   "metadata": {},
   "outputs": [],
   "source": [
    "import findspark\n",
    "import glob\n",
    "findspark.init()\n",
    "import pyspark\n",
    "from pyspark.sql import SparkSession"
   ]
  },
  {
   "cell_type": "code",
   "execution_count": 2,
   "metadata": {},
   "outputs": [
    {
     "name": "stderr",
     "output_type": "stream",
     "text": [
      "C:\\apps\\spark-3.4.0-bin-hadoop3\\python\\pyspark\\context.py:317: FutureWarning: Python 3.7 support is deprecated in Spark 3.4.\n",
      "  warnings.warn(\"Python 3.7 support is deprecated in Spark 3.4.\", FutureWarning)\n"
     ]
    }
   ],
   "source": [
    "spark = SparkSession.builder.master(\"local\").appName(\"Practise\").getOrCreate()"
   ]
  },
  {
   "cell_type": "code",
   "execution_count": 3,
   "metadata": {},
   "outputs": [],
   "source": [
    "def create_datetime_features(input_df, column_name):\n",
    "\n",
    "    input_df[column_name+'_hour'] = input_df[column_name].dt.hour\n",
    "    input_df[column_name+'_minute'] = input_df[column_name].dt.minute\n",
    "    input_df[column_name+'_quarter'] = input_df[column_name].dt.quarter\n",
    "    input_df[column_name+'_month'] = input_df[column_name].dt.month\n",
    "    input_df[column_name+'_year'] = input_df[column_name].dt.year\n",
    "    input_df[column_name+'_week'] = input_df[column_name].dt.isocalendar().week\n",
    "    input_df[column_name+'_day'] = input_df[column_name].dt.day\n",
    "    input_df[column_name+'_dayofweek'] = input_df[column_name].dt.dayofweek\n",
    "\n",
    "    return input_df"
   ]
  },
  {
   "cell_type": "code",
   "execution_count": 4,
   "metadata": {},
   "outputs": [],
   "source": [
    "def calculate_geodesic_distance(df_stations, point):\n",
    "    df = df_stations.copy()\n",
    "    for idx, i, j  in zip(df.index, df.station_latitude, df.station_longitude):\n",
    "        df.loc[idx, 'distance'] = distance.distance(point, (i,j)).m\n",
    "        if int(df.loc[idx, 'distance']) == 0:\n",
    "            \n",
    "            return df.loc[idx, \"station_name\"], df.loc[idx, 'distance']\n",
    "    df = df.sort_values(\"distance\")\n",
    "    return df.iloc[0][\"station_name\"], df.iloc[0][\"distance\"]"
   ]
  },
  {
   "cell_type": "code",
   "execution_count": 18,
   "metadata": {},
   "outputs": [],
   "source": [
    "df = spark.read.option(\"header\", \"true\").option(\"inferSchema\", \"true\").csv('data/baywheels_raw_rides.csv')"
   ]
  },
  {
   "cell_type": "code",
   "execution_count": 45,
   "metadata": {},
   "outputs": [],
   "source": [
    "df_missing_stations = df.filter(\"start_station_name is NULL or end_station_name is NULL\" )\n",
    "df_existing_stations = df.filter(\"start_station_name is not NULL and end_station_name is not NULL\" )"
   ]
  },
  {
   "cell_type": "code",
   "execution_count": 49,
   "metadata": {},
   "outputs": [],
   "source": [
    "df_missing_start_stations_no_duplicates = df_missing_stations.dropDuplicates([\"start_station_latitude\", \n",
    "                                                                              \"start_station_longitude\"])\n",
    "df_missing_start_stations_no_duplicates = df_missing_start_stations_no_duplicates.filter(\"start_station_name is NULL\" )"
   ]
  },
  {
   "cell_type": "code",
   "execution_count": 52,
   "metadata": {},
   "outputs": [],
   "source": [
    "df_missing_end_stations_no_duplicates = df_missing_stations.dropDuplicates([\"end_station_latitude\", \n",
    "                                                                              \"end_station_longitude\"])\n",
    "df_missing_end_stations_no_duplicates = df_missing_end_stations_no_duplicates.filter(\"end_station_name is NULL\" )"
   ]
  },
  {
   "cell_type": "code",
   "execution_count": 53,
   "metadata": {},
   "outputs": [
    {
     "data": {
      "text/plain": [
       "615"
      ]
     },
     "execution_count": 53,
     "metadata": {},
     "output_type": "execute_result"
    }
   ],
   "source": [
    "df_missing_end_stations_no_duplicates.count()"
   ]
  },
  {
   "cell_type": "code",
   "execution_count": 41,
   "metadata": {},
   "outputs": [
    {
     "data": {
      "text/plain": [
       "3869486"
      ]
     },
     "execution_count": 41,
     "metadata": {},
     "output_type": "execute_result"
    }
   ],
   "source": [
    "df_missing_start_stations_no_duplicates = df_missing_stations.drop_duplicates(\n",
    "                                        subset=['start_station_latitude', 'start_station_longitude']).copy()\\\n",
    "                                            .reset_index(drop=True)\n",
    "df_missing_start_stations_no_duplicates = df_missing_start_stations_no_duplicates[\n",
    "                                            df_missing_start_stations_no_duplicates['start_station_name'].isna()].copy()\\\n",
    "                                            .reset_index(drop=True)"
   ]
  },
  {
   "cell_type": "code",
   "execution_count": 25,
   "metadata": {},
   "outputs": [
    {
     "name": "stdout",
     "output_type": "stream",
     "text": [
      "+--------------------+--------------------+------+\n",
      "|  start_station_name|    end_station_name| count|\n",
      "+--------------------+--------------------+------+\n",
      "|                null|                null|463357|\n",
      "|Market St at 10th St|                null|  7055|\n",
      "|Powell St BART St...|                null|  5930|\n",
      "|                null|Market St at 10th St|  5894|\n",
      "|Market St at Steu...|                null|  5752|\n",
      "|Fell St at Stanya...|                null|  5570|\n",
      "|Jackson St at Pol...|                null|  5459|\n",
      "|                null|Market St at Steu...|  5380|\n",
      "|Powell St BART St...|                null|  5248|\n",
      "|Sanchez St at 15t...|                null|  5092|\n",
      "|Pierce St at Haig...|                null|  5016|\n",
      "|Powell St at Colu...|                null|  4958|\n",
      "|Union Square (Pow...|                null|  4760|\n",
      "|                null|Powell St BART St...|  4716|\n",
      "|Market St at Dolo...|                null|  4682|\n",
      "|North Point St at...|                null|  4680|\n",
      "|Grove St at Divis...|                null|  4632|\n",
      "| Page St at Scott St|                null|  4485|\n",
      "|                null|Jackson St at Pol...|  4363|\n",
      "|                null|Sanchez St at 15t...|  4299|\n",
      "+--------------------+--------------------+------+\n",
      "only showing top 20 rows\n",
      "\n"
     ]
    }
   ],
   "source": [
    "df.groupBy(\"start_station_name\", \"end_station_name\").count().orderBy(\"count\", ascending=False).show()"
   ]
  },
  {
   "cell_type": "code",
   "execution_count": 23,
   "metadata": {},
   "outputs": [
    {
     "name": "stdout",
     "output_type": "stream",
     "text": [
      "root\n",
      " |-- _c0: integer (nullable = true)\n",
      " |-- ride_id: string (nullable = true)\n",
      " |-- rideable_type: string (nullable = true)\n",
      " |-- start_time: timestamp (nullable = true)\n",
      " |-- end_time: timestamp (nullable = true)\n",
      " |-- start_station_name: string (nullable = true)\n",
      " |-- start_station_id: string (nullable = true)\n",
      " |-- end_station_name: string (nullable = true)\n",
      " |-- end_station_id: string (nullable = true)\n",
      " |-- start_station_latitude: double (nullable = true)\n",
      " |-- start_station_longitude: double (nullable = true)\n",
      " |-- end_station_latitude: double (nullable = true)\n",
      " |-- end_station_longitude: double (nullable = true)\n",
      " |-- user_type: string (nullable = true)\n",
      "\n"
     ]
    }
   ],
   "source": [
    "df.printSchema()"
   ]
  },
  {
   "cell_type": "code",
   "execution_count": 19,
   "metadata": {},
   "outputs": [],
   "source": [
    "df = df.na.drop(subset=[\n",
    "    'start_station_latitude',\n",
    "    'start_station_longitude',\n",
    "    'end_station_latitude',\n",
    "    'end_station_longitude'\n",
    "])"
   ]
  }
 ],
 "metadata": {
  "kernelspec": {
   "display_name": "Python 3",
   "language": "python",
   "name": "python3"
  },
  "language_info": {
   "codemirror_mode": {
    "name": "ipython",
    "version": 3
   },
   "file_extension": ".py",
   "mimetype": "text/x-python",
   "name": "python",
   "nbconvert_exporter": "python",
   "pygments_lexer": "ipython3",
   "version": "3.7.6"
  }
 },
 "nbformat": 4,
 "nbformat_minor": 4
}
