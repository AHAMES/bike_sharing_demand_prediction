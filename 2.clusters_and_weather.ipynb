{
 "cells": [
  {
   "cell_type": "code",
   "execution_count": 1,
   "metadata": {},
   "outputs": [
    {
     "ename": "ModuleNotFoundError",
     "evalue": "No module named 'meteostat'",
     "output_type": "error",
     "traceback": [
      "\u001b[1;31m---------------------------------------------------------------------------\u001b[0m",
      "\u001b[1;31mModuleNotFoundError\u001b[0m                       Traceback (most recent call last)",
      "\u001b[1;32m<ipython-input-1-7536ad6a7b92>\u001b[0m in \u001b[0;36m<module>\u001b[1;34m\u001b[0m\n\u001b[0;32m      6\u001b[0m \u001b[1;32mimport\u001b[0m \u001b[0mplotly\u001b[0m\u001b[1;33m.\u001b[0m\u001b[0mgraph_objects\u001b[0m \u001b[1;32mas\u001b[0m \u001b[0mgo\u001b[0m\u001b[1;33m\u001b[0m\u001b[1;33m\u001b[0m\u001b[0m\n\u001b[0;32m      7\u001b[0m \u001b[1;32mfrom\u001b[0m \u001b[0msklearn\u001b[0m\u001b[1;33m.\u001b[0m\u001b[0mcluster\u001b[0m \u001b[1;32mimport\u001b[0m \u001b[0mDBSCAN\u001b[0m\u001b[1;33m\u001b[0m\u001b[1;33m\u001b[0m\u001b[0m\n\u001b[1;32m----> 8\u001b[1;33m \u001b[1;32mfrom\u001b[0m \u001b[0mmeteostat\u001b[0m \u001b[1;32mimport\u001b[0m \u001b[0mPoint\u001b[0m\u001b[1;33m,\u001b[0m \u001b[0mHourly\u001b[0m\u001b[1;33m\u001b[0m\u001b[1;33m\u001b[0m\u001b[0m\n\u001b[0m\u001b[0;32m      9\u001b[0m \u001b[1;32mfrom\u001b[0m \u001b[0msklearn\u001b[0m\u001b[1;33m.\u001b[0m\u001b[0mpreprocessing\u001b[0m \u001b[1;32mimport\u001b[0m \u001b[0mMinMaxScaler\u001b[0m\u001b[1;33m\u001b[0m\u001b[1;33m\u001b[0m\u001b[0m\n\u001b[0;32m     10\u001b[0m \u001b[1;32mfrom\u001b[0m \u001b[0msklearn\u001b[0m\u001b[1;33m.\u001b[0m\u001b[0mmetrics\u001b[0m\u001b[1;33m.\u001b[0m\u001b[0mpairwise\u001b[0m \u001b[1;32mimport\u001b[0m \u001b[0mhaversine_distances\u001b[0m\u001b[1;33m\u001b[0m\u001b[1;33m\u001b[0m\u001b[0m\n",
      "\u001b[1;31mModuleNotFoundError\u001b[0m: No module named 'meteostat'"
     ]
    }
   ],
   "source": [
    "import numpy as np\n",
    "import pandas as pd\n",
    "import geopandas as gp\n",
    "import datetime as datetime\n",
    "import plotly.express as px\n",
    "import plotly.graph_objects as go\n",
    "from sklearn.cluster import DBSCAN\n",
    "from meteostat import Point, Hourly\n",
    "from sklearn.preprocessing import MinMaxScaler\n",
    "from sklearn.metrics.pairwise import haversine_distances\n",
    "\n"
   ]
  },
  {
   "cell_type": "code",
   "execution_count": null,
   "metadata": {},
   "outputs": [],
   "source": [
    "standard_stations = pd.read_csv(\"standard_stations.csv\")\n",
    "#df = pd.read_csv(\"baywheels_cleaned.csv\")"
   ]
  },
  {
   "cell_type": "code",
   "execution_count": null,
   "metadata": {},
   "outputs": [],
   "source": [
    "points_in_radians = standard_stations[['station_latitude','station_longitude']].apply(np.radians).values\n",
    "distances_in_km = haversine_distances(points_in_radians) * 6371"
   ]
  },
  {
   "cell_type": "code",
   "execution_count": null,
   "metadata": {},
   "outputs": [],
   "source": [
    "distance_matrix = distances_in_km\n",
    "\n",
    "clustering = DBSCAN(eps= 0.1, min_samples=20)\n",
    "scaler = MinMaxScaler()\n",
    "df = standard_stations.copy()\n",
    "df[['station_latitude', 'station_longitude']] = \\\n",
    "                            scaler.fit_transform(df[['station_latitude', 'station_longitude']])\n",
    "clusters = clustering.fit_predict(df[['station_latitude', 'station_longitude']])"
   ]
  },
  {
   "cell_type": "code",
   "execution_count": null,
   "metadata": {},
   "outputs": [],
   "source": [
    "standard_stations['clusters'] = clusters\n",
    "centroids = standard_stations.groupby(\"clusters\")[['station_latitude', 'station_longitude']].mean()\n",
    "centroids = centroids.reset_index().rename(columns={\n",
    "    \"station_latitude\": \"station_latitude_centroid\",\n",
    "    \"station_longitude\": \"station_longitude_centroid\",\n",
    "})"
   ]
  },
  {
   "cell_type": "code",
   "execution_count": null,
   "metadata": {},
   "outputs": [],
   "source": [
    "centroids"
   ]
  },
  {
   "cell_type": "code",
   "execution_count": null,
   "metadata": {},
   "outputs": [],
   "source": [
    "centroids.to_csv(\"centroids.csv\")"
   ]
  },
  {
   "cell_type": "code",
   "execution_count": null,
   "metadata": {},
   "outputs": [],
   "source": [
    "cluster_weather_dict = {}"
   ]
  },
  {
   "cell_type": "code",
   "execution_count": null,
   "metadata": {
    "scrolled": true
   },
   "outputs": [],
   "source": [
    "start = datetime.datetime(2020, 12, 31)\n",
    "end = datetime.datetime(2023, 1, 1)\n",
    "\n",
    "for ii in centroids.index:\n",
    "    \n",
    "    \n",
    "    # Create Point for Vancouver, BC\n",
    "    location = Point(centroids.loc[ii]['station_latitude_centroid'], \n",
    "                     centroids.loc[ii]['station_longitude_centroid'])\n",
    "\n",
    "    # Get daily data for 2018\n",
    "    data = Hourly(location, start, end)\n",
    "    data = data.fetch()\n",
    "    cluster_weather_dict[centroids.loc[ii]['clusters']] = data\n",
    "    # Plot line chart including average, minimum and maximum temperature\n",
    "    data.plot(y=['temp', 'dwpt', 'rhum', 'prcp', 'snow', \n",
    "                 'wdir', 'wspd', 'wpgt', 'pres', 'tsun', 'coco'])\n"
   ]
  },
  {
   "cell_type": "code",
   "execution_count": null,
   "metadata": {},
   "outputs": [],
   "source": [
    "weather_data = pd.DataFrame()\n",
    "\n",
    "for ii in cluster_weather_dict:\n",
    "    cluster_weather_dict[ii]['centroid'] = ii\n",
    "    weather_data = weather_data.append(cluster_weather_dict[ii])\n",
    "    "
   ]
  },
  {
   "cell_type": "code",
   "execution_count": null,
   "metadata": {},
   "outputs": [],
   "source": [
    "weather_data.to_csv(\"weather_data.csv\")"
   ]
  },
  {
   "cell_type": "code",
   "execution_count": null,
   "metadata": {},
   "outputs": [],
   "source": [
    "standard_stations['clusters'] = standard_stations['clusters'].astype(str)"
   ]
  },
  {
   "cell_type": "code",
   "execution_count": null,
   "metadata": {},
   "outputs": [],
   "source": [
    "fig = px.scatter_mapbox(standard_stations, lat='station_latitude', lon='station_longitude',\n",
    "                        color = \"clusters\", \n",
    "                        mapbox_style=\"open-street-map\",\n",
    "                       )\n",
    "\n",
    "fig.add_trace(go.Scattermapbox(\n",
    "        lat=centroids['station_latitude_centroid'],\n",
    "        lon=centroids['station_longitude_centroid'],\n",
    "        mode='markers',\n",
    "        hoverinfo='text',\n",
    "        name=\"Cluster Centroids\",\n",
    "        marker=go.scattermapbox.Marker(\n",
    "            size=15,\n",
    "            color='rgb(0, 0, 0)',\n",
    "            opacity=0.7\n",
    "        ),\n",
    "    ))\n",
    "\n",
    "fig.update_geos(fitbounds=\"locations\")\n",
    "fig.show()\n",
    "fig.write_html(\"Plots/clusters.html\")"
   ]
  },
  {
   "cell_type": "code",
   "execution_count": null,
   "metadata": {},
   "outputs": [],
   "source": []
  },
  {
   "cell_type": "code",
   "execution_count": null,
   "metadata": {},
   "outputs": [],
   "source": []
  },
  {
   "cell_type": "code",
   "execution_count": null,
   "metadata": {},
   "outputs": [],
   "source": []
  }
 ],
 "metadata": {
  "kernelspec": {
   "display_name": "Python 3",
   "language": "python",
   "name": "python3"
  },
  "language_info": {
   "codemirror_mode": {
    "name": "ipython",
    "version": 3
   },
   "file_extension": ".py",
   "mimetype": "text/x-python",
   "name": "python",
   "nbconvert_exporter": "python",
   "pygments_lexer": "ipython3",
   "version": "3.7.6"
  }
 },
 "nbformat": 4,
 "nbformat_minor": 5
}
