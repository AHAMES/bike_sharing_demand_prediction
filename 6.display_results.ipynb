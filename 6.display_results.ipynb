{
 "cells": [
  {
   "cell_type": "code",
   "execution_count": 107,
   "id": "7f9f80ef",
   "metadata": {},
   "outputs": [],
   "source": [
    "import numpy as np\n",
    "import pandas as pd\n",
    "import plotly.express as px\n",
    "import plotly.graph_objs as go\n",
    "from sklearn.metrics import mean_squared_error, mean_absolute_error\n",
    "from sklearn.metrics import mean_absolute_percentage_error"
   ]
  },
  {
   "cell_type": "code",
   "execution_count": 108,
   "id": "08ff049d",
   "metadata": {},
   "outputs": [],
   "source": [
    "\n",
    "import joblib\n",
    "#model = joblib.load(open('demand_model_dec_2022_weather_lags.sav', 'rb'))"
   ]
  },
  {
   "cell_type": "code",
   "execution_count": 109,
   "id": "2c180681",
   "metadata": {},
   "outputs": [],
   "source": [
    "def add_datetime(df, column_name=\"start_time\"):\n",
    "    conversion_dict_hourly = dict(year= df[f'{column_name}_year'],\n",
    "                                  month=df[f'{column_name}_month'],\n",
    "                                  day=  df[f'{column_name}_day'],\n",
    "                                  hour= df[f'{column_name}_hour']\n",
    "                                 )\n",
    "    conversion_dict_daily = dict(year= df[f'{column_name}_year'],\n",
    "                           month=df[f'{column_name}_month'],\n",
    "                           day=  df[f'{column_name}_day']\n",
    "                                 )\n",
    "    #print(conversion_dict_daily)\n",
    "    df[f'{column_name}_hourly'] = pd.to_datetime(conversion_dict_hourly)\n",
    "\n",
    "    df[f'{column_name}_daily'] = pd.to_datetime(conversion_dict_daily)\n",
    "\n",
    "\n",
    "    return df"
   ]
  },
  {
   "cell_type": "code",
   "execution_count": 110,
   "id": "f0b87ca4",
   "metadata": {},
   "outputs": [],
   "source": [
    "\n",
    "def get_prediction_results(test_file_name, target_scaler_file, scaler_file, \n",
    "                           time_feature = \"start_time\", target ='actual_demand',\n",
    "                           period_start=\"2022-12-15\", period_end=\"2022-12-30\"):\n",
    "    test_file = pd.read_csv(test_file_name)\n",
    "    target_scaler = joblib.load(open(target_scaler_file, 'rb'))\n",
    "    scaler = joblib.load(open(scaler_file, 'rb'))\n",
    "    \n",
    "    test_file['pred'] = target_scaler.inverse_transform(test_file[['pred']]) \n",
    "    test_file[target] = target_scaler.inverse_transform(test_file[[target]]) \n",
    "    \n",
    "    \n",
    "    rmse_score = np.sqrt(mean_squared_error(test_file[target], test_file['pred']))\n",
    "    #mape_score = mean_absolute_percentage_error(test_file[target], test_file['pred'])\n",
    "    mae_score = mean_absolute_error(test_file[target], test_file['pred'])\n",
    "    \n",
    "    features = scaler.get_feature_names_out()\n",
    "    test_file[features] =  scaler.inverse_transform(test_file[features])\n",
    "    \n",
    "    df = add_datetime(test_file, time_feature)\n",
    "    sorted_df = df.sort_values(f'{time_feature}_hourly').groupby(\n",
    "                                                f\"{time_feature}_daily\")[[target, 'pred']].sum().reset_index()\n",
    "    daily_fig = go.Figure()\n",
    "    daily_fig.add_scatter(x=sorted_df[f'{time_feature}_daily'], y=sorted_df[target], mode='lines', name=\"Actual\")\n",
    "    daily_fig.add_scatter(x=sorted_df[f'{time_feature}_daily'], y=sorted_df['pred'], mode='lines', name=\"Prediction\")\n",
    "    daily_fig.update_layout(hovermode=\"x\")\n",
    "    #daily_fig.show()\n",
    "    \n",
    "    sorted_df = df.sort_values(f'{time_feature}_hourly').groupby(\n",
    "                                                f\"{time_feature}_hourly\")[[target, 'pred']].sum().reset_index()\n",
    "\n",
    "    sorted_df = sorted_df[(sorted_df[f'{time_feature}_hourly']>=pd.to_datetime(period_start))\n",
    "                          & (sorted_df[f'{time_feature}_hourly']<=pd.to_datetime(period_end))]\n",
    "    hourly_fig = go.Figure()\n",
    "    hourly_fig.add_scatter(x=sorted_df[f'{time_feature}_hourly'], y=sorted_df[target], mode='lines', name=\"Actual\")\n",
    "    hourly_fig.add_scatter(x=sorted_df[f'{time_feature}_hourly'], y=sorted_df['pred'], mode='lines', name=\"Prediction\")\n",
    "    hourly_fig.update_layout(hovermode=\"x\")\n",
    "    #hourly_fig.show()\n",
    "    \n",
    "    print(rmse_score)\n",
    "    print(mae_score)\n",
    "    #print(mape_score)\n",
    "    return df, daily_fig, hourly_fig, rmse_score, mae_score\n",
    "\n",
    "\n",
    "def get_prediction_results_single_station(test_file_name, target_scaler_file, scaler_file, \n",
    "                           time_feature = \"start_time\", target ='actual_demand',\n",
    "                           period_start=\"2022-12-15\", period_end=\"2022-12-30\", station_id=253.0):\n",
    "    test_file = pd.read_csv(test_file_name).query(f\"start_station_name=={station_id}\")\n",
    "    target_scaler = joblib.load(open(target_scaler_file, 'rb'))\n",
    "    scaler = joblib.load(open(scaler_file, 'rb'))\n",
    "    \n",
    "    test_file['pred'] = target_scaler.inverse_transform(test_file[['pred']]) \n",
    "    test_file[target] = target_scaler.inverse_transform(test_file[[target]]) \n",
    "    \n",
    "    \n",
    "    rmse_score = np.sqrt(mean_squared_error(test_file[target], test_file['pred']))\n",
    "    #mape_score = mean_absolute_percentage_error(test_file[target], test_file['pred'])\n",
    "    mae_score = mean_absolute_error(test_file[target], test_file['pred'])\n",
    "    \n",
    "    features = scaler.get_feature_names_out()\n",
    "    test_file[features] =  scaler.inverse_transform(test_file[features])\n",
    "    \n",
    "    df = add_datetime(test_file, time_feature)\n",
    "    sorted_df = df.sort_values(f'{time_feature}_hourly').groupby(\n",
    "                                                f\"{time_feature}_daily\")[[target, 'pred']].sum().reset_index()\n",
    "    daily_fig = go.Figure()\n",
    "    daily_fig.add_scatter(x=sorted_df[f'{time_feature}_daily'], y=sorted_df[target], mode='lines', name=\"Actual\")\n",
    "    daily_fig.add_scatter(x=sorted_df[f'{time_feature}_daily'], y=sorted_df['pred'], mode='lines', name=\"Prediction\")\n",
    "    daily_fig.update_layout(hovermode=\"x\")\n",
    "    #daily_fig.show()\n",
    "    \n",
    "    sorted_df = df.sort_values(f'{time_feature}_hourly').groupby(\n",
    "                                                f\"{time_feature}_hourly\")[[target, 'pred']].sum().reset_index()\n",
    "\n",
    "    sorted_df = sorted_df[(sorted_df[f'{time_feature}_hourly']>=pd.to_datetime(period_start))\n",
    "                          & (sorted_df[f'{time_feature}_hourly']<=pd.to_datetime(period_end))]\n",
    "    hourly_fig = go.Figure()\n",
    "    hourly_fig.add_scatter(x=sorted_df[f'{time_feature}_hourly'], y=sorted_df[target], mode='lines', name=\"Actual\")\n",
    "    hourly_fig.add_scatter(x=sorted_df[f'{time_feature}_hourly'], y=sorted_df['pred'], mode='lines', name=\"Prediction\")\n",
    "    hourly_fig.update_layout(hovermode=\"x\")\n",
    "    #hourly_fig.show()\n",
    "    \n",
    "    print(rmse_score)\n",
    "    print(mae_score)\n",
    "    #print(mape_score)\n",
    "    return df, daily_fig, hourly_fig, rmse_score, mae_score"
   ]
  },
  {
   "cell_type": "code",
   "execution_count": 111,
   "id": "7f0a2da7",
   "metadata": {},
   "outputs": [],
   "source": [
    "def compare_outputs(test1, test2, period_start=\"2022-12-15\", period_end=\"2022-12-19\"):\n",
    "    sorted_df = test1.sort_values('start_time_hourly').groupby(\n",
    "                                                \"start_time_daily\")[['pred']].sum().reset_index()\n",
    "    daily_fig = go.Figure()\n",
    "    daily_fig.add_scatter(x=sorted_df['start_time_daily'], y=sorted_df['pred'], \n",
    "                          mode='lines', name=\"Prediction 2021-2022\")\n",
    "    \n",
    "    sorted_df = test1.sort_values('start_time_hourly').groupby(\n",
    "                                            \"start_time_hourly\")[['actual_demand', 'pred']].sum().reset_index()\n",
    "    sorted_df = sorted_df[(sorted_df['start_time_hourly']>=pd.to_datetime(period_start))\n",
    "                      & (sorted_df['start_time_hourly']<=pd.to_datetime(period_end))]\n",
    "    hourly_fig = go.Figure()\n",
    "    hourly_fig.add_scatter(x=sorted_df['start_time_hourly'], y=sorted_df['pred'], \n",
    "                          mode='lines', name=\"Prediction 2021-2022\")\n",
    "    \n",
    "    sorted_df = test2.sort_values('start_time_hourly').groupby(\n",
    "                                                \"start_time_daily\")[['actual_demand', 'pred']].sum().reset_index()\n",
    "    \n",
    "    daily_fig.add_scatter(x=sorted_df['start_time_daily'], y=sorted_df['pred'], \n",
    "                          mode='lines', name=\"Prediction 2022\")\n",
    "    \n",
    "    daily_fig.add_scatter(x=sorted_df['start_time_daily'], y=sorted_df['actual_demand'], \n",
    "                          mode='lines', name=\"Actual Demand\")\n",
    "    \n",
    "    sorted_df = test2.sort_values('start_time_hourly').groupby(\n",
    "                                            \"start_time_hourly\")[['actual_demand', 'pred']].sum().reset_index()\n",
    "    sorted_df = sorted_df[(sorted_df['start_time_hourly']>=pd.to_datetime(period_start))\n",
    "                      & (sorted_df['start_time_hourly']<=pd.to_datetime(period_end))]\n",
    "    hourly_fig.add_scatter(x=sorted_df['start_time_hourly'], y=sorted_df['pred'], \n",
    "                          mode='lines', name=\"Prediction 2021\")\n",
    "    hourly_fig.add_scatter(x=sorted_df['start_time_hourly'], y=sorted_df['actual_demand'], \n",
    "                      mode='lines', name=\"Actual Demand\")\n",
    "    \n",
    "    daily_fig.update_layout(hovermode=\"x\")    \n",
    "    hourly_fig.update_layout(hovermode=\"x\")\n",
    "    \n",
    "    return daily_fig, hourly_fig"
   ]
  },
  {
   "cell_type": "markdown",
   "id": "5272459a",
   "metadata": {},
   "source": [
    "# Demand Prediction"
   ]
  },
  {
   "cell_type": "markdown",
   "id": "999bdf4f",
   "metadata": {},
   "source": [
    "## Full Dataset"
   ]
  },
  {
   "cell_type": "code",
   "execution_count": 112,
   "id": "353b607d",
   "metadata": {},
   "outputs": [
    {
     "data": {
      "text/plain": [
       "'test_predictions_dec_2022_weather_lags.csv'"
      ]
     },
     "execution_count": 112,
     "metadata": {},
     "output_type": "execute_result"
    }
   ],
   "source": [
    "test_file_name"
   ]
  },
  {
   "cell_type": "code",
   "execution_count": 113,
   "id": "66eb6079",
   "metadata": {},
   "outputs": [
    {
     "name": "stdout",
     "output_type": "stream",
     "text": [
      "1.4093498536497888\n",
      "1.0116693142361406\n"
     ]
    }
   ],
   "source": [
    "test_file_name = \"test_predictions_dec_2022_weather_lags.csv\"\n",
    "target_scaler_file = 'target_scaler_dec_2022_weather_lags.sav'\n",
    "scaler_file = 'scaler_dec_2022_weather_lags.sav'\n",
    "\n",
    "test_file, daily_fig, hourly_fig, rmse_score, mae_score = get_prediction_results(test_file_name, \n",
    "                                                                                 target_scaler_file, scaler_file,\n",
    "                                                                                 period_start=\"2022-10-15\",\n",
    "                                                                                 period_end=\"2022-10-20\")"
   ]
  },
  {
   "cell_type": "code",
   "execution_count": 114,
   "id": "53915baf",
   "metadata": {},
   "outputs": [
    {
     "data": {
      "application/vnd.plotly.v1+json": {
       "config": {
        "plotlyServerURL": "https://plot.ly"
       },
       "data": [
        {
         "mode": "lines",
         "name": "Actual",
         "type": "scatter",
         "x": [
          "2022-10-04T00:00:00",
          "2022-10-05T00:00:00",
          "2022-10-06T00:00:00",
          "2022-10-07T00:00:00",
          "2022-10-08T00:00:00",
          "2022-10-09T00:00:00",
          "2022-10-10T00:00:00",
          "2022-10-11T00:00:00",
          "2022-10-12T00:00:00",
          "2022-10-13T00:00:00",
          "2022-10-14T00:00:00",
          "2022-10-15T00:00:00",
          "2022-10-16T00:00:00",
          "2022-10-17T00:00:00",
          "2022-10-18T00:00:00",
          "2022-10-19T00:00:00",
          "2022-10-20T00:00:00",
          "2022-10-21T00:00:00",
          "2022-10-22T00:00:00",
          "2022-10-23T00:00:00",
          "2022-10-24T00:00:00",
          "2022-10-25T00:00:00",
          "2022-10-26T00:00:00",
          "2022-10-27T00:00:00",
          "2022-10-28T00:00:00",
          "2022-10-29T00:00:00",
          "2022-10-30T00:00:00",
          "2022-10-31T00:00:00",
          "2022-11-01T00:00:00",
          "2022-11-02T00:00:00",
          "2022-11-03T00:00:00",
          "2022-11-04T00:00:00",
          "2022-11-05T00:00:00",
          "2022-11-06T00:00:00",
          "2022-11-07T00:00:00",
          "2022-11-08T00:00:00",
          "2022-11-09T00:00:00",
          "2022-11-10T00:00:00",
          "2022-11-11T00:00:00",
          "2022-11-12T00:00:00",
          "2022-11-13T00:00:00",
          "2022-11-14T00:00:00",
          "2022-11-15T00:00:00",
          "2022-11-16T00:00:00",
          "2022-11-17T00:00:00",
          "2022-11-18T00:00:00",
          "2022-11-19T00:00:00",
          "2022-11-20T00:00:00",
          "2022-11-21T00:00:00",
          "2022-11-22T00:00:00",
          "2022-11-23T00:00:00",
          "2022-11-24T00:00:00",
          "2022-11-25T00:00:00",
          "2022-11-26T00:00:00",
          "2022-11-27T00:00:00",
          "2022-11-28T00:00:00",
          "2022-11-29T00:00:00",
          "2022-11-30T00:00:00",
          "2022-12-01T00:00:00",
          "2022-12-02T00:00:00",
          "2022-12-03T00:00:00",
          "2022-12-04T00:00:00",
          "2022-12-05T00:00:00",
          "2022-12-06T00:00:00",
          "2022-12-07T00:00:00",
          "2022-12-08T00:00:00",
          "2022-12-09T00:00:00",
          "2022-12-10T00:00:00",
          "2022-12-11T00:00:00",
          "2022-12-12T00:00:00",
          "2022-12-13T00:00:00",
          "2022-12-14T00:00:00",
          "2022-12-15T00:00:00",
          "2022-12-16T00:00:00",
          "2022-12-17T00:00:00",
          "2022-12-18T00:00:00",
          "2022-12-19T00:00:00",
          "2022-12-20T00:00:00",
          "2022-12-21T00:00:00",
          "2022-12-22T00:00:00",
          "2022-12-23T00:00:00",
          "2022-12-24T00:00:00",
          "2022-12-25T00:00:00",
          "2022-12-26T00:00:00",
          "2022-12-27T00:00:00",
          "2022-12-28T00:00:00",
          "2022-12-29T00:00:00",
          "2022-12-30T00:00:00",
          "2022-12-31T00:00:00"
         ],
         "y": [
          5604,
          7442,
          7910,
          7483.999999999999,
          7646.000000000001,
          5671,
          5799,
          7203,
          7198,
          7647.999999999999,
          6939.999999999999,
          6310,
          5386,
          6455,
          8211,
          8200,
          7772,
          6904,
          6561,
          5887,
          6327,
          7289,
          7533,
          8241,
          7133,
          6509,
          5414,
          6060,
          5466,
          6885,
          7193,
          6768,
          4531.999999999999,
          5076,
          5787,
          4076.0000000000005,
          6578,
          6927.000000000001,
          6220,
          5808,
          4786,
          5553,
          6580,
          6728.000000000001,
          6673,
          6240,
          5565.000000000001,
          4596,
          4912,
          5071,
          4506,
          2361.9999999999995,
          3419,
          3682.9999999999995,
          3533.0000000000005,
          4433,
          5436,
          5568,
          3475,
          5707,
          2134,
          3804,
          5187,
          6132,
          6358,
          5189,
          5807,
          2249,
          2818.9999999999995,
          4706,
          5698.999999999999,
          5513,
          5714,
          5031,
          4222,
          3334.9999999999995,
          3486,
          3892,
          3732,
          3310,
          2930.9999999999995,
          2120.9999999999995,
          1505.9999999999998,
          1455.9999999999998,
          1624.9999999999998,
          2919,
          1018.9999999999999,
          1456.9999999999998,
          805.9999999999998
         ]
        },
        {
         "mode": "lines",
         "name": "Prediction",
         "type": "scatter",
         "x": [
          "2022-10-04T00:00:00",
          "2022-10-05T00:00:00",
          "2022-10-06T00:00:00",
          "2022-10-07T00:00:00",
          "2022-10-08T00:00:00",
          "2022-10-09T00:00:00",
          "2022-10-10T00:00:00",
          "2022-10-11T00:00:00",
          "2022-10-12T00:00:00",
          "2022-10-13T00:00:00",
          "2022-10-14T00:00:00",
          "2022-10-15T00:00:00",
          "2022-10-16T00:00:00",
          "2022-10-17T00:00:00",
          "2022-10-18T00:00:00",
          "2022-10-19T00:00:00",
          "2022-10-20T00:00:00",
          "2022-10-21T00:00:00",
          "2022-10-22T00:00:00",
          "2022-10-23T00:00:00",
          "2022-10-24T00:00:00",
          "2022-10-25T00:00:00",
          "2022-10-26T00:00:00",
          "2022-10-27T00:00:00",
          "2022-10-28T00:00:00",
          "2022-10-29T00:00:00",
          "2022-10-30T00:00:00",
          "2022-10-31T00:00:00",
          "2022-11-01T00:00:00",
          "2022-11-02T00:00:00",
          "2022-11-03T00:00:00",
          "2022-11-04T00:00:00",
          "2022-11-05T00:00:00",
          "2022-11-06T00:00:00",
          "2022-11-07T00:00:00",
          "2022-11-08T00:00:00",
          "2022-11-09T00:00:00",
          "2022-11-10T00:00:00",
          "2022-11-11T00:00:00",
          "2022-11-12T00:00:00",
          "2022-11-13T00:00:00",
          "2022-11-14T00:00:00",
          "2022-11-15T00:00:00",
          "2022-11-16T00:00:00",
          "2022-11-17T00:00:00",
          "2022-11-18T00:00:00",
          "2022-11-19T00:00:00",
          "2022-11-20T00:00:00",
          "2022-11-21T00:00:00",
          "2022-11-22T00:00:00",
          "2022-11-23T00:00:00",
          "2022-11-24T00:00:00",
          "2022-11-25T00:00:00",
          "2022-11-26T00:00:00",
          "2022-11-27T00:00:00",
          "2022-11-28T00:00:00",
          "2022-11-29T00:00:00",
          "2022-11-30T00:00:00",
          "2022-12-01T00:00:00",
          "2022-12-02T00:00:00",
          "2022-12-03T00:00:00",
          "2022-12-04T00:00:00",
          "2022-12-05T00:00:00",
          "2022-12-06T00:00:00",
          "2022-12-07T00:00:00",
          "2022-12-08T00:00:00",
          "2022-12-09T00:00:00",
          "2022-12-10T00:00:00",
          "2022-12-11T00:00:00",
          "2022-12-12T00:00:00",
          "2022-12-13T00:00:00",
          "2022-12-14T00:00:00",
          "2022-12-15T00:00:00",
          "2022-12-16T00:00:00",
          "2022-12-17T00:00:00",
          "2022-12-18T00:00:00",
          "2022-12-19T00:00:00",
          "2022-12-20T00:00:00",
          "2022-12-21T00:00:00",
          "2022-12-22T00:00:00",
          "2022-12-23T00:00:00",
          "2022-12-24T00:00:00",
          "2022-12-25T00:00:00",
          "2022-12-26T00:00:00",
          "2022-12-27T00:00:00",
          "2022-12-28T00:00:00",
          "2022-12-29T00:00:00",
          "2022-12-30T00:00:00",
          "2022-12-31T00:00:00"
         ],
         "y": [
          5712.520000000162,
          7922.930000000211,
          8393.610000000212,
          8392.37000000022,
          8365.620000000212,
          6848.200000000179,
          6430.310000000196,
          7544.690000000203,
          7567.150000000218,
          7591.070000000213,
          7680.970000000204,
          6749.550000000195,
          5745.620000000182,
          6634.600000000199,
          8341.540000000194,
          9106.100000000213,
          8649.600000000191,
          7495.0000000002,
          8041.480000000181,
          6930.00000000018,
          7252.470000000214,
          8034.9300000001995,
          8058.190000000209,
          8235.79000000022,
          7740.640000000197,
          6803.130000000205,
          6798.450000000163,
          6827.030000000201,
          6614.3600000001725,
          7303.1600000002,
          7422.7200000002185,
          7334.530000000206,
          5818.190000000177,
          5602.690000000169,
          6026.750000000191,
          5711.330000000144,
          6764.8300000002,
          7187.520000000202,
          6480.690000000207,
          6230.260000000177,
          5272.350000000162,
          5799.920000000201,
          6885.8000000001875,
          7771.7100000002165,
          7310.1600000002045,
          6605.180000000213,
          6603.750000000204,
          5193.9400000001615,
          5483.140000000184,
          5525.120000000169,
          5225.370000000169,
          2908.330000000101,
          3797.320000000136,
          4336.530000000133,
          3957.6400000001277,
          5016.760000000161,
          6085.660000000177,
          6480.6100000001925,
          4666.10000000013,
          6690.970000000208,
          3130.8800000000974,
          4617.780000000147,
          5374.47000000017,
          6381.030000000196,
          6903.03000000019,
          6185.630000000194,
          6100.030000000195,
          3280.9500000001017,
          3756.7300000001196,
          5484.390000000172,
          6402.030000000189,
          6495.530000000212,
          6307.860000000206,
          5834.01000000019,
          4917.250000000175,
          4167.080000000145,
          4316.830000000158,
          4825.500000000157,
          4456.900000000153,
          3867.8400000001398,
          3447.0800000001245,
          2815.270000000096,
          1910.6200000000688,
          1840.8800000000676,
          2461.110000000085,
          3803.2900000001305,
          1587.6800000000585,
          2411.6500000000747,
          1391.4100000000453
         ]
        }
       ],
       "layout": {
        "hovermode": "x",
        "template": {
         "data": {
          "bar": [
           {
            "error_x": {
             "color": "#2a3f5f"
            },
            "error_y": {
             "color": "#2a3f5f"
            },
            "marker": {
             "line": {
              "color": "#E5ECF6",
              "width": 0.5
             },
             "pattern": {
              "fillmode": "overlay",
              "size": 10,
              "solidity": 0.2
             }
            },
            "type": "bar"
           }
          ],
          "barpolar": [
           {
            "marker": {
             "line": {
              "color": "#E5ECF6",
              "width": 0.5
             },
             "pattern": {
              "fillmode": "overlay",
              "size": 10,
              "solidity": 0.2
             }
            },
            "type": "barpolar"
           }
          ],
          "carpet": [
           {
            "aaxis": {
             "endlinecolor": "#2a3f5f",
             "gridcolor": "white",
             "linecolor": "white",
             "minorgridcolor": "white",
             "startlinecolor": "#2a3f5f"
            },
            "baxis": {
             "endlinecolor": "#2a3f5f",
             "gridcolor": "white",
             "linecolor": "white",
             "minorgridcolor": "white",
             "startlinecolor": "#2a3f5f"
            },
            "type": "carpet"
           }
          ],
          "choropleth": [
           {
            "colorbar": {
             "outlinewidth": 0,
             "ticks": ""
            },
            "type": "choropleth"
           }
          ],
          "contour": [
           {
            "colorbar": {
             "outlinewidth": 0,
             "ticks": ""
            },
            "colorscale": [
             [
              0,
              "#0d0887"
             ],
             [
              0.1111111111111111,
              "#46039f"
             ],
             [
              0.2222222222222222,
              "#7201a8"
             ],
             [
              0.3333333333333333,
              "#9c179e"
             ],
             [
              0.4444444444444444,
              "#bd3786"
             ],
             [
              0.5555555555555556,
              "#d8576b"
             ],
             [
              0.6666666666666666,
              "#ed7953"
             ],
             [
              0.7777777777777778,
              "#fb9f3a"
             ],
             [
              0.8888888888888888,
              "#fdca26"
             ],
             [
              1,
              "#f0f921"
             ]
            ],
            "type": "contour"
           }
          ],
          "contourcarpet": [
           {
            "colorbar": {
             "outlinewidth": 0,
             "ticks": ""
            },
            "type": "contourcarpet"
           }
          ],
          "heatmap": [
           {
            "colorbar": {
             "outlinewidth": 0,
             "ticks": ""
            },
            "colorscale": [
             [
              0,
              "#0d0887"
             ],
             [
              0.1111111111111111,
              "#46039f"
             ],
             [
              0.2222222222222222,
              "#7201a8"
             ],
             [
              0.3333333333333333,
              "#9c179e"
             ],
             [
              0.4444444444444444,
              "#bd3786"
             ],
             [
              0.5555555555555556,
              "#d8576b"
             ],
             [
              0.6666666666666666,
              "#ed7953"
             ],
             [
              0.7777777777777778,
              "#fb9f3a"
             ],
             [
              0.8888888888888888,
              "#fdca26"
             ],
             [
              1,
              "#f0f921"
             ]
            ],
            "type": "heatmap"
           }
          ],
          "heatmapgl": [
           {
            "colorbar": {
             "outlinewidth": 0,
             "ticks": ""
            },
            "colorscale": [
             [
              0,
              "#0d0887"
             ],
             [
              0.1111111111111111,
              "#46039f"
             ],
             [
              0.2222222222222222,
              "#7201a8"
             ],
             [
              0.3333333333333333,
              "#9c179e"
             ],
             [
              0.4444444444444444,
              "#bd3786"
             ],
             [
              0.5555555555555556,
              "#d8576b"
             ],
             [
              0.6666666666666666,
              "#ed7953"
             ],
             [
              0.7777777777777778,
              "#fb9f3a"
             ],
             [
              0.8888888888888888,
              "#fdca26"
             ],
             [
              1,
              "#f0f921"
             ]
            ],
            "type": "heatmapgl"
           }
          ],
          "histogram": [
           {
            "marker": {
             "pattern": {
              "fillmode": "overlay",
              "size": 10,
              "solidity": 0.2
             }
            },
            "type": "histogram"
           }
          ],
          "histogram2d": [
           {
            "colorbar": {
             "outlinewidth": 0,
             "ticks": ""
            },
            "colorscale": [
             [
              0,
              "#0d0887"
             ],
             [
              0.1111111111111111,
              "#46039f"
             ],
             [
              0.2222222222222222,
              "#7201a8"
             ],
             [
              0.3333333333333333,
              "#9c179e"
             ],
             [
              0.4444444444444444,
              "#bd3786"
             ],
             [
              0.5555555555555556,
              "#d8576b"
             ],
             [
              0.6666666666666666,
              "#ed7953"
             ],
             [
              0.7777777777777778,
              "#fb9f3a"
             ],
             [
              0.8888888888888888,
              "#fdca26"
             ],
             [
              1,
              "#f0f921"
             ]
            ],
            "type": "histogram2d"
           }
          ],
          "histogram2dcontour": [
           {
            "colorbar": {
             "outlinewidth": 0,
             "ticks": ""
            },
            "colorscale": [
             [
              0,
              "#0d0887"
             ],
             [
              0.1111111111111111,
              "#46039f"
             ],
             [
              0.2222222222222222,
              "#7201a8"
             ],
             [
              0.3333333333333333,
              "#9c179e"
             ],
             [
              0.4444444444444444,
              "#bd3786"
             ],
             [
              0.5555555555555556,
              "#d8576b"
             ],
             [
              0.6666666666666666,
              "#ed7953"
             ],
             [
              0.7777777777777778,
              "#fb9f3a"
             ],
             [
              0.8888888888888888,
              "#fdca26"
             ],
             [
              1,
              "#f0f921"
             ]
            ],
            "type": "histogram2dcontour"
           }
          ],
          "mesh3d": [
           {
            "colorbar": {
             "outlinewidth": 0,
             "ticks": ""
            },
            "type": "mesh3d"
           }
          ],
          "parcoords": [
           {
            "line": {
             "colorbar": {
              "outlinewidth": 0,
              "ticks": ""
             }
            },
            "type": "parcoords"
           }
          ],
          "pie": [
           {
            "automargin": true,
            "type": "pie"
           }
          ],
          "scatter": [
           {
            "fillpattern": {
             "fillmode": "overlay",
             "size": 10,
             "solidity": 0.2
            },
            "type": "scatter"
           }
          ],
          "scatter3d": [
           {
            "line": {
             "colorbar": {
              "outlinewidth": 0,
              "ticks": ""
             }
            },
            "marker": {
             "colorbar": {
              "outlinewidth": 0,
              "ticks": ""
             }
            },
            "type": "scatter3d"
           }
          ],
          "scattercarpet": [
           {
            "marker": {
             "colorbar": {
              "outlinewidth": 0,
              "ticks": ""
             }
            },
            "type": "scattercarpet"
           }
          ],
          "scattergeo": [
           {
            "marker": {
             "colorbar": {
              "outlinewidth": 0,
              "ticks": ""
             }
            },
            "type": "scattergeo"
           }
          ],
          "scattergl": [
           {
            "marker": {
             "colorbar": {
              "outlinewidth": 0,
              "ticks": ""
             }
            },
            "type": "scattergl"
           }
          ],
          "scattermapbox": [
           {
            "marker": {
             "colorbar": {
              "outlinewidth": 0,
              "ticks": ""
             }
            },
            "type": "scattermapbox"
           }
          ],
          "scatterpolar": [
           {
            "marker": {
             "colorbar": {
              "outlinewidth": 0,
              "ticks": ""
             }
            },
            "type": "scatterpolar"
           }
          ],
          "scatterpolargl": [
           {
            "marker": {
             "colorbar": {
              "outlinewidth": 0,
              "ticks": ""
             }
            },
            "type": "scatterpolargl"
           }
          ],
          "scatterternary": [
           {
            "marker": {
             "colorbar": {
              "outlinewidth": 0,
              "ticks": ""
             }
            },
            "type": "scatterternary"
           }
          ],
          "surface": [
           {
            "colorbar": {
             "outlinewidth": 0,
             "ticks": ""
            },
            "colorscale": [
             [
              0,
              "#0d0887"
             ],
             [
              0.1111111111111111,
              "#46039f"
             ],
             [
              0.2222222222222222,
              "#7201a8"
             ],
             [
              0.3333333333333333,
              "#9c179e"
             ],
             [
              0.4444444444444444,
              "#bd3786"
             ],
             [
              0.5555555555555556,
              "#d8576b"
             ],
             [
              0.6666666666666666,
              "#ed7953"
             ],
             [
              0.7777777777777778,
              "#fb9f3a"
             ],
             [
              0.8888888888888888,
              "#fdca26"
             ],
             [
              1,
              "#f0f921"
             ]
            ],
            "type": "surface"
           }
          ],
          "table": [
           {
            "cells": {
             "fill": {
              "color": "#EBF0F8"
             },
             "line": {
              "color": "white"
             }
            },
            "header": {
             "fill": {
              "color": "#C8D4E3"
             },
             "line": {
              "color": "white"
             }
            },
            "type": "table"
           }
          ]
         },
         "layout": {
          "annotationdefaults": {
           "arrowcolor": "#2a3f5f",
           "arrowhead": 0,
           "arrowwidth": 1
          },
          "autotypenumbers": "strict",
          "coloraxis": {
           "colorbar": {
            "outlinewidth": 0,
            "ticks": ""
           }
          },
          "colorscale": {
           "diverging": [
            [
             0,
             "#8e0152"
            ],
            [
             0.1,
             "#c51b7d"
            ],
            [
             0.2,
             "#de77ae"
            ],
            [
             0.3,
             "#f1b6da"
            ],
            [
             0.4,
             "#fde0ef"
            ],
            [
             0.5,
             "#f7f7f7"
            ],
            [
             0.6,
             "#e6f5d0"
            ],
            [
             0.7,
             "#b8e186"
            ],
            [
             0.8,
             "#7fbc41"
            ],
            [
             0.9,
             "#4d9221"
            ],
            [
             1,
             "#276419"
            ]
           ],
           "sequential": [
            [
             0,
             "#0d0887"
            ],
            [
             0.1111111111111111,
             "#46039f"
            ],
            [
             0.2222222222222222,
             "#7201a8"
            ],
            [
             0.3333333333333333,
             "#9c179e"
            ],
            [
             0.4444444444444444,
             "#bd3786"
            ],
            [
             0.5555555555555556,
             "#d8576b"
            ],
            [
             0.6666666666666666,
             "#ed7953"
            ],
            [
             0.7777777777777778,
             "#fb9f3a"
            ],
            [
             0.8888888888888888,
             "#fdca26"
            ],
            [
             1,
             "#f0f921"
            ]
           ],
           "sequentialminus": [
            [
             0,
             "#0d0887"
            ],
            [
             0.1111111111111111,
             "#46039f"
            ],
            [
             0.2222222222222222,
             "#7201a8"
            ],
            [
             0.3333333333333333,
             "#9c179e"
            ],
            [
             0.4444444444444444,
             "#bd3786"
            ],
            [
             0.5555555555555556,
             "#d8576b"
            ],
            [
             0.6666666666666666,
             "#ed7953"
            ],
            [
             0.7777777777777778,
             "#fb9f3a"
            ],
            [
             0.8888888888888888,
             "#fdca26"
            ],
            [
             1,
             "#f0f921"
            ]
           ]
          },
          "colorway": [
           "#636efa",
           "#EF553B",
           "#00cc96",
           "#ab63fa",
           "#FFA15A",
           "#19d3f3",
           "#FF6692",
           "#B6E880",
           "#FF97FF",
           "#FECB52"
          ],
          "font": {
           "color": "#2a3f5f"
          },
          "geo": {
           "bgcolor": "white",
           "lakecolor": "white",
           "landcolor": "#E5ECF6",
           "showlakes": true,
           "showland": true,
           "subunitcolor": "white"
          },
          "hoverlabel": {
           "align": "left"
          },
          "hovermode": "closest",
          "mapbox": {
           "style": "light"
          },
          "paper_bgcolor": "white",
          "plot_bgcolor": "#E5ECF6",
          "polar": {
           "angularaxis": {
            "gridcolor": "white",
            "linecolor": "white",
            "ticks": ""
           },
           "bgcolor": "#E5ECF6",
           "radialaxis": {
            "gridcolor": "white",
            "linecolor": "white",
            "ticks": ""
           }
          },
          "scene": {
           "xaxis": {
            "backgroundcolor": "#E5ECF6",
            "gridcolor": "white",
            "gridwidth": 2,
            "linecolor": "white",
            "showbackground": true,
            "ticks": "",
            "zerolinecolor": "white"
           },
           "yaxis": {
            "backgroundcolor": "#E5ECF6",
            "gridcolor": "white",
            "gridwidth": 2,
            "linecolor": "white",
            "showbackground": true,
            "ticks": "",
            "zerolinecolor": "white"
           },
           "zaxis": {
            "backgroundcolor": "#E5ECF6",
            "gridcolor": "white",
            "gridwidth": 2,
            "linecolor": "white",
            "showbackground": true,
            "ticks": "",
            "zerolinecolor": "white"
           }
          },
          "shapedefaults": {
           "line": {
            "color": "#2a3f5f"
           }
          },
          "ternary": {
           "aaxis": {
            "gridcolor": "white",
            "linecolor": "white",
            "ticks": ""
           },
           "baxis": {
            "gridcolor": "white",
            "linecolor": "white",
            "ticks": ""
           },
           "bgcolor": "#E5ECF6",
           "caxis": {
            "gridcolor": "white",
            "linecolor": "white",
            "ticks": ""
           }
          },
          "title": {
           "x": 0.05
          },
          "xaxis": {
           "automargin": true,
           "gridcolor": "white",
           "linecolor": "white",
           "ticks": "",
           "title": {
            "standoff": 15
           },
           "zerolinecolor": "white",
           "zerolinewidth": 2
          },
          "yaxis": {
           "automargin": true,
           "gridcolor": "white",
           "linecolor": "white",
           "ticks": "",
           "title": {
            "standoff": 15
           },
           "zerolinecolor": "white",
           "zerolinewidth": 2
          }
         }
        },
        "title": {
         "text": "Demand Daily Prediction Output"
        }
       }
      },
      "text/html": [
       "<div>                            <div id=\"93cf855d-3490-4605-9e46-f8ba889853f0\" class=\"plotly-graph-div\" style=\"height:525px; width:100%;\"></div>            <script type=\"text/javascript\">                require([\"plotly\"], function(Plotly) {                    window.PLOTLYENV=window.PLOTLYENV || {};                                    if (document.getElementById(\"93cf855d-3490-4605-9e46-f8ba889853f0\")) {                    Plotly.newPlot(                        \"93cf855d-3490-4605-9e46-f8ba889853f0\",                        [{\"mode\":\"lines\",\"name\":\"Actual\",\"x\":[\"2022-10-04T00:00:00\",\"2022-10-05T00:00:00\",\"2022-10-06T00:00:00\",\"2022-10-07T00:00:00\",\"2022-10-08T00:00:00\",\"2022-10-09T00:00:00\",\"2022-10-10T00:00:00\",\"2022-10-11T00:00:00\",\"2022-10-12T00:00:00\",\"2022-10-13T00:00:00\",\"2022-10-14T00:00:00\",\"2022-10-15T00:00:00\",\"2022-10-16T00:00:00\",\"2022-10-17T00:00:00\",\"2022-10-18T00:00:00\",\"2022-10-19T00:00:00\",\"2022-10-20T00:00:00\",\"2022-10-21T00:00:00\",\"2022-10-22T00:00:00\",\"2022-10-23T00:00:00\",\"2022-10-24T00:00:00\",\"2022-10-25T00:00:00\",\"2022-10-26T00:00:00\",\"2022-10-27T00:00:00\",\"2022-10-28T00:00:00\",\"2022-10-29T00:00:00\",\"2022-10-30T00:00:00\",\"2022-10-31T00:00:00\",\"2022-11-01T00:00:00\",\"2022-11-02T00:00:00\",\"2022-11-03T00:00:00\",\"2022-11-04T00:00:00\",\"2022-11-05T00:00:00\",\"2022-11-06T00:00:00\",\"2022-11-07T00:00:00\",\"2022-11-08T00:00:00\",\"2022-11-09T00:00:00\",\"2022-11-10T00:00:00\",\"2022-11-11T00:00:00\",\"2022-11-12T00:00:00\",\"2022-11-13T00:00:00\",\"2022-11-14T00:00:00\",\"2022-11-15T00:00:00\",\"2022-11-16T00:00:00\",\"2022-11-17T00:00:00\",\"2022-11-18T00:00:00\",\"2022-11-19T00:00:00\",\"2022-11-20T00:00:00\",\"2022-11-21T00:00:00\",\"2022-11-22T00:00:00\",\"2022-11-23T00:00:00\",\"2022-11-24T00:00:00\",\"2022-11-25T00:00:00\",\"2022-11-26T00:00:00\",\"2022-11-27T00:00:00\",\"2022-11-28T00:00:00\",\"2022-11-29T00:00:00\",\"2022-11-30T00:00:00\",\"2022-12-01T00:00:00\",\"2022-12-02T00:00:00\",\"2022-12-03T00:00:00\",\"2022-12-04T00:00:00\",\"2022-12-05T00:00:00\",\"2022-12-06T00:00:00\",\"2022-12-07T00:00:00\",\"2022-12-08T00:00:00\",\"2022-12-09T00:00:00\",\"2022-12-10T00:00:00\",\"2022-12-11T00:00:00\",\"2022-12-12T00:00:00\",\"2022-12-13T00:00:00\",\"2022-12-14T00:00:00\",\"2022-12-15T00:00:00\",\"2022-12-16T00:00:00\",\"2022-12-17T00:00:00\",\"2022-12-18T00:00:00\",\"2022-12-19T00:00:00\",\"2022-12-20T00:00:00\",\"2022-12-21T00:00:00\",\"2022-12-22T00:00:00\",\"2022-12-23T00:00:00\",\"2022-12-24T00:00:00\",\"2022-12-25T00:00:00\",\"2022-12-26T00:00:00\",\"2022-12-27T00:00:00\",\"2022-12-28T00:00:00\",\"2022-12-29T00:00:00\",\"2022-12-30T00:00:00\",\"2022-12-31T00:00:00\"],\"y\":[5604.0,7442.0,7910.0,7483.999999999999,7646.000000000001,5671.0,5799.0,7203.0,7198.0,7647.999999999999,6939.999999999999,6310.0,5386.0,6455.0,8211.0,8200.0,7772.0,6904.0,6561.0,5887.0,6327.0,7289.0,7533.0,8241.0,7133.0,6509.0,5414.0,6060.0,5466.0,6885.0,7193.0,6768.0,4531.999999999999,5076.0,5787.0,4076.0000000000005,6578.0,6927.000000000001,6220.0,5808.0,4786.0,5553.0,6580.0,6728.000000000001,6673.0,6240.0,5565.000000000001,4596.0,4912.0,5071.0,4506.0,2361.9999999999995,3419.0,3682.9999999999995,3533.0000000000005,4433.0,5436.0,5568.0,3475.0,5707.0,2134.0,3804.0,5187.0,6132.0,6358.0,5189.0,5807.0,2249.0,2818.9999999999995,4706.0,5698.999999999999,5513.0,5714.0,5031.0,4222.0,3334.9999999999995,3486.0,3892.0,3732.0,3310.0,2930.9999999999995,2120.9999999999995,1505.9999999999998,1455.9999999999998,1624.9999999999998,2919.0,1018.9999999999999,1456.9999999999998,805.9999999999998],\"type\":\"scatter\"},{\"mode\":\"lines\",\"name\":\"Prediction\",\"x\":[\"2022-10-04T00:00:00\",\"2022-10-05T00:00:00\",\"2022-10-06T00:00:00\",\"2022-10-07T00:00:00\",\"2022-10-08T00:00:00\",\"2022-10-09T00:00:00\",\"2022-10-10T00:00:00\",\"2022-10-11T00:00:00\",\"2022-10-12T00:00:00\",\"2022-10-13T00:00:00\",\"2022-10-14T00:00:00\",\"2022-10-15T00:00:00\",\"2022-10-16T00:00:00\",\"2022-10-17T00:00:00\",\"2022-10-18T00:00:00\",\"2022-10-19T00:00:00\",\"2022-10-20T00:00:00\",\"2022-10-21T00:00:00\",\"2022-10-22T00:00:00\",\"2022-10-23T00:00:00\",\"2022-10-24T00:00:00\",\"2022-10-25T00:00:00\",\"2022-10-26T00:00:00\",\"2022-10-27T00:00:00\",\"2022-10-28T00:00:00\",\"2022-10-29T00:00:00\",\"2022-10-30T00:00:00\",\"2022-10-31T00:00:00\",\"2022-11-01T00:00:00\",\"2022-11-02T00:00:00\",\"2022-11-03T00:00:00\",\"2022-11-04T00:00:00\",\"2022-11-05T00:00:00\",\"2022-11-06T00:00:00\",\"2022-11-07T00:00:00\",\"2022-11-08T00:00:00\",\"2022-11-09T00:00:00\",\"2022-11-10T00:00:00\",\"2022-11-11T00:00:00\",\"2022-11-12T00:00:00\",\"2022-11-13T00:00:00\",\"2022-11-14T00:00:00\",\"2022-11-15T00:00:00\",\"2022-11-16T00:00:00\",\"2022-11-17T00:00:00\",\"2022-11-18T00:00:00\",\"2022-11-19T00:00:00\",\"2022-11-20T00:00:00\",\"2022-11-21T00:00:00\",\"2022-11-22T00:00:00\",\"2022-11-23T00:00:00\",\"2022-11-24T00:00:00\",\"2022-11-25T00:00:00\",\"2022-11-26T00:00:00\",\"2022-11-27T00:00:00\",\"2022-11-28T00:00:00\",\"2022-11-29T00:00:00\",\"2022-11-30T00:00:00\",\"2022-12-01T00:00:00\",\"2022-12-02T00:00:00\",\"2022-12-03T00:00:00\",\"2022-12-04T00:00:00\",\"2022-12-05T00:00:00\",\"2022-12-06T00:00:00\",\"2022-12-07T00:00:00\",\"2022-12-08T00:00:00\",\"2022-12-09T00:00:00\",\"2022-12-10T00:00:00\",\"2022-12-11T00:00:00\",\"2022-12-12T00:00:00\",\"2022-12-13T00:00:00\",\"2022-12-14T00:00:00\",\"2022-12-15T00:00:00\",\"2022-12-16T00:00:00\",\"2022-12-17T00:00:00\",\"2022-12-18T00:00:00\",\"2022-12-19T00:00:00\",\"2022-12-20T00:00:00\",\"2022-12-21T00:00:00\",\"2022-12-22T00:00:00\",\"2022-12-23T00:00:00\",\"2022-12-24T00:00:00\",\"2022-12-25T00:00:00\",\"2022-12-26T00:00:00\",\"2022-12-27T00:00:00\",\"2022-12-28T00:00:00\",\"2022-12-29T00:00:00\",\"2022-12-30T00:00:00\",\"2022-12-31T00:00:00\"],\"y\":[5712.520000000162,7922.930000000211,8393.610000000212,8392.37000000022,8365.620000000212,6848.200000000179,6430.310000000196,7544.690000000203,7567.150000000218,7591.070000000213,7680.970000000204,6749.550000000195,5745.620000000182,6634.600000000199,8341.540000000194,9106.100000000213,8649.600000000191,7495.0000000002,8041.480000000181,6930.00000000018,7252.470000000214,8034.9300000001995,8058.190000000209,8235.79000000022,7740.640000000197,6803.130000000205,6798.450000000163,6827.030000000201,6614.3600000001725,7303.1600000002,7422.7200000002185,7334.530000000206,5818.190000000177,5602.690000000169,6026.750000000191,5711.330000000144,6764.8300000002,7187.520000000202,6480.690000000207,6230.260000000177,5272.350000000162,5799.920000000201,6885.8000000001875,7771.7100000002165,7310.1600000002045,6605.180000000213,6603.750000000204,5193.9400000001615,5483.140000000184,5525.120000000169,5225.370000000169,2908.330000000101,3797.320000000136,4336.530000000133,3957.6400000001277,5016.760000000161,6085.660000000177,6480.6100000001925,4666.10000000013,6690.970000000208,3130.8800000000974,4617.780000000147,5374.47000000017,6381.030000000196,6903.03000000019,6185.630000000194,6100.030000000195,3280.9500000001017,3756.7300000001196,5484.390000000172,6402.030000000189,6495.530000000212,6307.860000000206,5834.01000000019,4917.250000000175,4167.080000000145,4316.830000000158,4825.500000000157,4456.900000000153,3867.8400000001398,3447.0800000001245,2815.270000000096,1910.6200000000688,1840.8800000000676,2461.110000000085,3803.2900000001305,1587.6800000000585,2411.6500000000747,1391.4100000000453],\"type\":\"scatter\"}],                        {\"template\":{\"data\":{\"histogram2dcontour\":[{\"type\":\"histogram2dcontour\",\"colorbar\":{\"outlinewidth\":0,\"ticks\":\"\"},\"colorscale\":[[0.0,\"#0d0887\"],[0.1111111111111111,\"#46039f\"],[0.2222222222222222,\"#7201a8\"],[0.3333333333333333,\"#9c179e\"],[0.4444444444444444,\"#bd3786\"],[0.5555555555555556,\"#d8576b\"],[0.6666666666666666,\"#ed7953\"],[0.7777777777777778,\"#fb9f3a\"],[0.8888888888888888,\"#fdca26\"],[1.0,\"#f0f921\"]]}],\"choropleth\":[{\"type\":\"choropleth\",\"colorbar\":{\"outlinewidth\":0,\"ticks\":\"\"}}],\"histogram2d\":[{\"type\":\"histogram2d\",\"colorbar\":{\"outlinewidth\":0,\"ticks\":\"\"},\"colorscale\":[[0.0,\"#0d0887\"],[0.1111111111111111,\"#46039f\"],[0.2222222222222222,\"#7201a8\"],[0.3333333333333333,\"#9c179e\"],[0.4444444444444444,\"#bd3786\"],[0.5555555555555556,\"#d8576b\"],[0.6666666666666666,\"#ed7953\"],[0.7777777777777778,\"#fb9f3a\"],[0.8888888888888888,\"#fdca26\"],[1.0,\"#f0f921\"]]}],\"heatmap\":[{\"type\":\"heatmap\",\"colorbar\":{\"outlinewidth\":0,\"ticks\":\"\"},\"colorscale\":[[0.0,\"#0d0887\"],[0.1111111111111111,\"#46039f\"],[0.2222222222222222,\"#7201a8\"],[0.3333333333333333,\"#9c179e\"],[0.4444444444444444,\"#bd3786\"],[0.5555555555555556,\"#d8576b\"],[0.6666666666666666,\"#ed7953\"],[0.7777777777777778,\"#fb9f3a\"],[0.8888888888888888,\"#fdca26\"],[1.0,\"#f0f921\"]]}],\"heatmapgl\":[{\"type\":\"heatmapgl\",\"colorbar\":{\"outlinewidth\":0,\"ticks\":\"\"},\"colorscale\":[[0.0,\"#0d0887\"],[0.1111111111111111,\"#46039f\"],[0.2222222222222222,\"#7201a8\"],[0.3333333333333333,\"#9c179e\"],[0.4444444444444444,\"#bd3786\"],[0.5555555555555556,\"#d8576b\"],[0.6666666666666666,\"#ed7953\"],[0.7777777777777778,\"#fb9f3a\"],[0.8888888888888888,\"#fdca26\"],[1.0,\"#f0f921\"]]}],\"contourcarpet\":[{\"type\":\"contourcarpet\",\"colorbar\":{\"outlinewidth\":0,\"ticks\":\"\"}}],\"contour\":[{\"type\":\"contour\",\"colorbar\":{\"outlinewidth\":0,\"ticks\":\"\"},\"colorscale\":[[0.0,\"#0d0887\"],[0.1111111111111111,\"#46039f\"],[0.2222222222222222,\"#7201a8\"],[0.3333333333333333,\"#9c179e\"],[0.4444444444444444,\"#bd3786\"],[0.5555555555555556,\"#d8576b\"],[0.6666666666666666,\"#ed7953\"],[0.7777777777777778,\"#fb9f3a\"],[0.8888888888888888,\"#fdca26\"],[1.0,\"#f0f921\"]]}],\"surface\":[{\"type\":\"surface\",\"colorbar\":{\"outlinewidth\":0,\"ticks\":\"\"},\"colorscale\":[[0.0,\"#0d0887\"],[0.1111111111111111,\"#46039f\"],[0.2222222222222222,\"#7201a8\"],[0.3333333333333333,\"#9c179e\"],[0.4444444444444444,\"#bd3786\"],[0.5555555555555556,\"#d8576b\"],[0.6666666666666666,\"#ed7953\"],[0.7777777777777778,\"#fb9f3a\"],[0.8888888888888888,\"#fdca26\"],[1.0,\"#f0f921\"]]}],\"mesh3d\":[{\"type\":\"mesh3d\",\"colorbar\":{\"outlinewidth\":0,\"ticks\":\"\"}}],\"scatter\":[{\"fillpattern\":{\"fillmode\":\"overlay\",\"size\":10,\"solidity\":0.2},\"type\":\"scatter\"}],\"parcoords\":[{\"type\":\"parcoords\",\"line\":{\"colorbar\":{\"outlinewidth\":0,\"ticks\":\"\"}}}],\"scatterpolargl\":[{\"type\":\"scatterpolargl\",\"marker\":{\"colorbar\":{\"outlinewidth\":0,\"ticks\":\"\"}}}],\"bar\":[{\"error_x\":{\"color\":\"#2a3f5f\"},\"error_y\":{\"color\":\"#2a3f5f\"},\"marker\":{\"line\":{\"color\":\"#E5ECF6\",\"width\":0.5},\"pattern\":{\"fillmode\":\"overlay\",\"size\":10,\"solidity\":0.2}},\"type\":\"bar\"}],\"scattergeo\":[{\"type\":\"scattergeo\",\"marker\":{\"colorbar\":{\"outlinewidth\":0,\"ticks\":\"\"}}}],\"scatterpolar\":[{\"type\":\"scatterpolar\",\"marker\":{\"colorbar\":{\"outlinewidth\":0,\"ticks\":\"\"}}}],\"histogram\":[{\"marker\":{\"pattern\":{\"fillmode\":\"overlay\",\"size\":10,\"solidity\":0.2}},\"type\":\"histogram\"}],\"scattergl\":[{\"type\":\"scattergl\",\"marker\":{\"colorbar\":{\"outlinewidth\":0,\"ticks\":\"\"}}}],\"scatter3d\":[{\"type\":\"scatter3d\",\"line\":{\"colorbar\":{\"outlinewidth\":0,\"ticks\":\"\"}},\"marker\":{\"colorbar\":{\"outlinewidth\":0,\"ticks\":\"\"}}}],\"scattermapbox\":[{\"type\":\"scattermapbox\",\"marker\":{\"colorbar\":{\"outlinewidth\":0,\"ticks\":\"\"}}}],\"scatterternary\":[{\"type\":\"scatterternary\",\"marker\":{\"colorbar\":{\"outlinewidth\":0,\"ticks\":\"\"}}}],\"scattercarpet\":[{\"type\":\"scattercarpet\",\"marker\":{\"colorbar\":{\"outlinewidth\":0,\"ticks\":\"\"}}}],\"carpet\":[{\"aaxis\":{\"endlinecolor\":\"#2a3f5f\",\"gridcolor\":\"white\",\"linecolor\":\"white\",\"minorgridcolor\":\"white\",\"startlinecolor\":\"#2a3f5f\"},\"baxis\":{\"endlinecolor\":\"#2a3f5f\",\"gridcolor\":\"white\",\"linecolor\":\"white\",\"minorgridcolor\":\"white\",\"startlinecolor\":\"#2a3f5f\"},\"type\":\"carpet\"}],\"table\":[{\"cells\":{\"fill\":{\"color\":\"#EBF0F8\"},\"line\":{\"color\":\"white\"}},\"header\":{\"fill\":{\"color\":\"#C8D4E3\"},\"line\":{\"color\":\"white\"}},\"type\":\"table\"}],\"barpolar\":[{\"marker\":{\"line\":{\"color\":\"#E5ECF6\",\"width\":0.5},\"pattern\":{\"fillmode\":\"overlay\",\"size\":10,\"solidity\":0.2}},\"type\":\"barpolar\"}],\"pie\":[{\"automargin\":true,\"type\":\"pie\"}]},\"layout\":{\"autotypenumbers\":\"strict\",\"colorway\":[\"#636efa\",\"#EF553B\",\"#00cc96\",\"#ab63fa\",\"#FFA15A\",\"#19d3f3\",\"#FF6692\",\"#B6E880\",\"#FF97FF\",\"#FECB52\"],\"font\":{\"color\":\"#2a3f5f\"},\"hovermode\":\"closest\",\"hoverlabel\":{\"align\":\"left\"},\"paper_bgcolor\":\"white\",\"plot_bgcolor\":\"#E5ECF6\",\"polar\":{\"bgcolor\":\"#E5ECF6\",\"angularaxis\":{\"gridcolor\":\"white\",\"linecolor\":\"white\",\"ticks\":\"\"},\"radialaxis\":{\"gridcolor\":\"white\",\"linecolor\":\"white\",\"ticks\":\"\"}},\"ternary\":{\"bgcolor\":\"#E5ECF6\",\"aaxis\":{\"gridcolor\":\"white\",\"linecolor\":\"white\",\"ticks\":\"\"},\"baxis\":{\"gridcolor\":\"white\",\"linecolor\":\"white\",\"ticks\":\"\"},\"caxis\":{\"gridcolor\":\"white\",\"linecolor\":\"white\",\"ticks\":\"\"}},\"coloraxis\":{\"colorbar\":{\"outlinewidth\":0,\"ticks\":\"\"}},\"colorscale\":{\"sequential\":[[0.0,\"#0d0887\"],[0.1111111111111111,\"#46039f\"],[0.2222222222222222,\"#7201a8\"],[0.3333333333333333,\"#9c179e\"],[0.4444444444444444,\"#bd3786\"],[0.5555555555555556,\"#d8576b\"],[0.6666666666666666,\"#ed7953\"],[0.7777777777777778,\"#fb9f3a\"],[0.8888888888888888,\"#fdca26\"],[1.0,\"#f0f921\"]],\"sequentialminus\":[[0.0,\"#0d0887\"],[0.1111111111111111,\"#46039f\"],[0.2222222222222222,\"#7201a8\"],[0.3333333333333333,\"#9c179e\"],[0.4444444444444444,\"#bd3786\"],[0.5555555555555556,\"#d8576b\"],[0.6666666666666666,\"#ed7953\"],[0.7777777777777778,\"#fb9f3a\"],[0.8888888888888888,\"#fdca26\"],[1.0,\"#f0f921\"]],\"diverging\":[[0,\"#8e0152\"],[0.1,\"#c51b7d\"],[0.2,\"#de77ae\"],[0.3,\"#f1b6da\"],[0.4,\"#fde0ef\"],[0.5,\"#f7f7f7\"],[0.6,\"#e6f5d0\"],[0.7,\"#b8e186\"],[0.8,\"#7fbc41\"],[0.9,\"#4d9221\"],[1,\"#276419\"]]},\"xaxis\":{\"gridcolor\":\"white\",\"linecolor\":\"white\",\"ticks\":\"\",\"title\":{\"standoff\":15},\"zerolinecolor\":\"white\",\"automargin\":true,\"zerolinewidth\":2},\"yaxis\":{\"gridcolor\":\"white\",\"linecolor\":\"white\",\"ticks\":\"\",\"title\":{\"standoff\":15},\"zerolinecolor\":\"white\",\"automargin\":true,\"zerolinewidth\":2},\"scene\":{\"xaxis\":{\"backgroundcolor\":\"#E5ECF6\",\"gridcolor\":\"white\",\"linecolor\":\"white\",\"showbackground\":true,\"ticks\":\"\",\"zerolinecolor\":\"white\",\"gridwidth\":2},\"yaxis\":{\"backgroundcolor\":\"#E5ECF6\",\"gridcolor\":\"white\",\"linecolor\":\"white\",\"showbackground\":true,\"ticks\":\"\",\"zerolinecolor\":\"white\",\"gridwidth\":2},\"zaxis\":{\"backgroundcolor\":\"#E5ECF6\",\"gridcolor\":\"white\",\"linecolor\":\"white\",\"showbackground\":true,\"ticks\":\"\",\"zerolinecolor\":\"white\",\"gridwidth\":2}},\"shapedefaults\":{\"line\":{\"color\":\"#2a3f5f\"}},\"annotationdefaults\":{\"arrowcolor\":\"#2a3f5f\",\"arrowhead\":0,\"arrowwidth\":1},\"geo\":{\"bgcolor\":\"white\",\"landcolor\":\"#E5ECF6\",\"subunitcolor\":\"white\",\"showland\":true,\"showlakes\":true,\"lakecolor\":\"white\"},\"title\":{\"x\":0.05},\"mapbox\":{\"style\":\"light\"}}},\"hovermode\":\"x\",\"title\":{\"text\":\"Demand Daily Prediction Output\"}},                        {\"responsive\": true}                    ).then(function(){\n",
       "                            \n",
       "var gd = document.getElementById('93cf855d-3490-4605-9e46-f8ba889853f0');\n",
       "var x = new MutationObserver(function (mutations, observer) {{\n",
       "        var display = window.getComputedStyle(gd).display;\n",
       "        if (!display || display === 'none') {{\n",
       "            console.log([gd, 'removed!']);\n",
       "            Plotly.purge(gd);\n",
       "            observer.disconnect();\n",
       "        }}\n",
       "}});\n",
       "\n",
       "// Listen for the removal of the full notebook cells\n",
       "var notebookContainer = gd.closest('#notebook-container');\n",
       "if (notebookContainer) {{\n",
       "    x.observe(notebookContainer, {childList: true});\n",
       "}}\n",
       "\n",
       "// Listen for the clearing of the current output cell\n",
       "var outputEl = gd.closest('.output');\n",
       "if (outputEl) {{\n",
       "    x.observe(outputEl, {childList: true});\n",
       "}}\n",
       "\n",
       "                        })                };                });            </script>        </div>"
      ]
     },
     "metadata": {},
     "output_type": "display_data"
    }
   ],
   "source": [
    "daily_fig.update_layout(title=\"Demand Daily Prediction Output\")"
   ]
  },
  {
   "cell_type": "code",
   "execution_count": 115,
   "id": "b7e68ee3",
   "metadata": {},
   "outputs": [],
   "source": [
    "daily_fig.update_layout(title=\"Demand Daily Prediction Output\").write_html(\"Plots/Demand Daily Prediction Output.html\")"
   ]
  },
  {
   "cell_type": "code",
   "execution_count": 116,
   "id": "d89a0423",
   "metadata": {},
   "outputs": [
    {
     "data": {
      "application/vnd.plotly.v1+json": {
       "config": {
        "plotlyServerURL": "https://plot.ly"
       },
       "data": [
        {
         "mode": "lines",
         "name": "Actual",
         "type": "scatter",
         "x": [
          "2022-10-15T00:00:00",
          "2022-10-15T01:00:00",
          "2022-10-15T02:00:00",
          "2022-10-15T03:00:00",
          "2022-10-15T04:00:00",
          "2022-10-15T05:00:00",
          "2022-10-15T06:00:00",
          "2022-10-15T07:00:00",
          "2022-10-15T08:00:00",
          "2022-10-15T09:00:00",
          "2022-10-15T10:00:00",
          "2022-10-15T11:00:00",
          "2022-10-15T12:00:00",
          "2022-10-15T13:00:00",
          "2022-10-15T14:00:00",
          "2022-10-15T15:00:00",
          "2022-10-15T16:00:00",
          "2022-10-15T17:00:00",
          "2022-10-15T18:00:00",
          "2022-10-15T19:00:00",
          "2022-10-15T20:00:00",
          "2022-10-15T21:00:00",
          "2022-10-15T22:00:00",
          "2022-10-15T23:00:00",
          "2022-10-16T00:00:00",
          "2022-10-16T01:00:00",
          "2022-10-16T02:00:00",
          "2022-10-16T03:00:00",
          "2022-10-16T04:00:00",
          "2022-10-16T05:00:00",
          "2022-10-16T06:00:00",
          "2022-10-16T07:00:00",
          "2022-10-16T08:00:00",
          "2022-10-16T09:00:00",
          "2022-10-16T10:00:00",
          "2022-10-16T11:00:00",
          "2022-10-16T12:00:00",
          "2022-10-16T13:00:00",
          "2022-10-16T14:00:00",
          "2022-10-16T15:00:00",
          "2022-10-16T16:00:00",
          "2022-10-16T17:00:00",
          "2022-10-16T18:00:00",
          "2022-10-16T19:00:00",
          "2022-10-16T20:00:00",
          "2022-10-16T21:00:00",
          "2022-10-16T22:00:00",
          "2022-10-16T23:00:00",
          "2022-10-17T00:00:00",
          "2022-10-17T01:00:00",
          "2022-10-17T02:00:00",
          "2022-10-17T03:00:00",
          "2022-10-17T04:00:00",
          "2022-10-17T05:00:00",
          "2022-10-17T06:00:00",
          "2022-10-17T07:00:00",
          "2022-10-17T08:00:00",
          "2022-10-17T09:00:00",
          "2022-10-17T10:00:00",
          "2022-10-17T11:00:00",
          "2022-10-17T12:00:00",
          "2022-10-17T13:00:00",
          "2022-10-17T14:00:00",
          "2022-10-17T15:00:00",
          "2022-10-17T16:00:00",
          "2022-10-17T17:00:00",
          "2022-10-17T18:00:00",
          "2022-10-17T19:00:00",
          "2022-10-17T20:00:00",
          "2022-10-17T21:00:00",
          "2022-10-17T22:00:00",
          "2022-10-17T23:00:00",
          "2022-10-18T00:00:00",
          "2022-10-18T01:00:00",
          "2022-10-18T02:00:00",
          "2022-10-18T03:00:00",
          "2022-10-18T04:00:00",
          "2022-10-18T05:00:00",
          "2022-10-18T06:00:00",
          "2022-10-18T07:00:00",
          "2022-10-18T08:00:00",
          "2022-10-18T09:00:00",
          "2022-10-18T10:00:00",
          "2022-10-18T11:00:00",
          "2022-10-18T12:00:00",
          "2022-10-18T13:00:00",
          "2022-10-18T14:00:00",
          "2022-10-18T15:00:00",
          "2022-10-18T16:00:00",
          "2022-10-18T17:00:00",
          "2022-10-18T18:00:00",
          "2022-10-18T19:00:00",
          "2022-10-18T20:00:00",
          "2022-10-18T21:00:00",
          "2022-10-18T22:00:00",
          "2022-10-18T23:00:00",
          "2022-10-19T00:00:00",
          "2022-10-19T01:00:00",
          "2022-10-19T02:00:00",
          "2022-10-19T03:00:00",
          "2022-10-19T04:00:00",
          "2022-10-19T05:00:00",
          "2022-10-19T06:00:00",
          "2022-10-19T07:00:00",
          "2022-10-19T08:00:00",
          "2022-10-19T09:00:00",
          "2022-10-19T10:00:00",
          "2022-10-19T11:00:00",
          "2022-10-19T12:00:00",
          "2022-10-19T13:00:00",
          "2022-10-19T14:00:00",
          "2022-10-19T15:00:00",
          "2022-10-19T16:00:00",
          "2022-10-19T17:00:00",
          "2022-10-19T18:00:00",
          "2022-10-19T19:00:00",
          "2022-10-19T20:00:00",
          "2022-10-19T21:00:00",
          "2022-10-19T22:00:00",
          "2022-10-19T23:00:00",
          "2022-10-20T00:00:00"
         ],
         "y": [
          144.99999999999997,
          126.00000000000006,
          70.9999999999999,
          29.99999999999993,
          17.999999999999986,
          16.999999999999964,
          29.999999999999986,
          72.99999999999994,
          166.00000000000009,
          252.00000000000028,
          373,
          438.0000000000003,
          519.0000000000002,
          543.0000000000001,
          555.0000000000005,
          504.00000000000034,
          456,
          450.0000000000003,
          433.00000000000017,
          303.00000000000034,
          232.00000000000009,
          207.00000000000026,
          181.00000000000003,
          188.00000000000006,
          189.00000000000014,
          125.99999999999991,
          102.99999999999997,
          31.999999999999943,
          26.999999999999954,
          9.999999999999988,
          35.99999999999997,
          51.99999999999993,
          134.99999999999994,
          230.0000000000002,
          324.0000000000003,
          356.00000000000057,
          469.00000000000034,
          468.0000000000003,
          453.0000000000003,
          450.0000000000002,
          496.0000000000002,
          391,
          388.0000000000004,
          222,
          150.0000000000001,
          127.99999999999993,
          98.99999999999977,
          52.00000000000003,
          47.9999999999999,
          12.999999999999986,
          11.999999999999998,
          6.999999999999988,
          11.999999999999998,
          38.99999999999997,
          112.99999999999982,
          297,
          557.0000000000002,
          455.0000000000003,
          264.0000000000003,
          262.00000000000017,
          314.00000000000034,
          338.0000000000001,
          288.00000000000034,
          383.00000000000006,
          518.0000000000001,
          788.0000000000002,
          638.0000000000002,
          444.0000000000003,
          282.0000000000001,
          169.9999999999999,
          139.99999999999997,
          72.99999999999989,
          37.99999999999994,
          15.000000000000021,
          13.999999999999975,
          6.999999999999999,
          9.999999999999998,
          53.99999999999993,
          145.99999999999991,
          402.00000000000017,
          714.0000000000005,
          537.0000000000003,
          328.0000000000003,
          281.0000000000002,
          354.0000000000001,
          334.00000000000017,
          367.0000000000004,
          436.00000000000034,
          687.0000000000002,
          1034.0000000000002,
          884.0000000000003,
          541.0000000000005,
          320.00000000000034,
          291.0000000000005,
          313.0000000000002,
          103.99999999999991,
          60.99999999999991,
          19.999999999999986,
          3.999999999999999,
          10.999999999999998,
          11.999999999999988,
          40.999999999999964,
          143.99999999999986,
          400.0000000000002,
          683.0000000000005,
          533.0000000000003,
          366.0000000000002,
          362.00000000000017,
          378.0000000000002,
          332.0000000000004,
          320.0000000000003,
          441.00000000000034,
          677.0000000000002,
          984.0000000000002,
          899.0000000000002,
          561.0000000000002,
          352.0000000000001,
          287.00000000000017,
          212.0000000000001,
          120.00000000000001,
          66.99999999999993
         ]
        },
        {
         "mode": "lines",
         "name": "Prediction",
         "type": "scatter",
         "x": [
          "2022-10-15T00:00:00",
          "2022-10-15T01:00:00",
          "2022-10-15T02:00:00",
          "2022-10-15T03:00:00",
          "2022-10-15T04:00:00",
          "2022-10-15T05:00:00",
          "2022-10-15T06:00:00",
          "2022-10-15T07:00:00",
          "2022-10-15T08:00:00",
          "2022-10-15T09:00:00",
          "2022-10-15T10:00:00",
          "2022-10-15T11:00:00",
          "2022-10-15T12:00:00",
          "2022-10-15T13:00:00",
          "2022-10-15T14:00:00",
          "2022-10-15T15:00:00",
          "2022-10-15T16:00:00",
          "2022-10-15T17:00:00",
          "2022-10-15T18:00:00",
          "2022-10-15T19:00:00",
          "2022-10-15T20:00:00",
          "2022-10-15T21:00:00",
          "2022-10-15T22:00:00",
          "2022-10-15T23:00:00",
          "2022-10-16T00:00:00",
          "2022-10-16T01:00:00",
          "2022-10-16T02:00:00",
          "2022-10-16T03:00:00",
          "2022-10-16T04:00:00",
          "2022-10-16T05:00:00",
          "2022-10-16T06:00:00",
          "2022-10-16T07:00:00",
          "2022-10-16T08:00:00",
          "2022-10-16T09:00:00",
          "2022-10-16T10:00:00",
          "2022-10-16T11:00:00",
          "2022-10-16T12:00:00",
          "2022-10-16T13:00:00",
          "2022-10-16T14:00:00",
          "2022-10-16T15:00:00",
          "2022-10-16T16:00:00",
          "2022-10-16T17:00:00",
          "2022-10-16T18:00:00",
          "2022-10-16T19:00:00",
          "2022-10-16T20:00:00",
          "2022-10-16T21:00:00",
          "2022-10-16T22:00:00",
          "2022-10-16T23:00:00",
          "2022-10-17T00:00:00",
          "2022-10-17T01:00:00",
          "2022-10-17T02:00:00",
          "2022-10-17T03:00:00",
          "2022-10-17T04:00:00",
          "2022-10-17T05:00:00",
          "2022-10-17T06:00:00",
          "2022-10-17T07:00:00",
          "2022-10-17T08:00:00",
          "2022-10-17T09:00:00",
          "2022-10-17T10:00:00",
          "2022-10-17T11:00:00",
          "2022-10-17T12:00:00",
          "2022-10-17T13:00:00",
          "2022-10-17T14:00:00",
          "2022-10-17T15:00:00",
          "2022-10-17T16:00:00",
          "2022-10-17T17:00:00",
          "2022-10-17T18:00:00",
          "2022-10-17T19:00:00",
          "2022-10-17T20:00:00",
          "2022-10-17T21:00:00",
          "2022-10-17T22:00:00",
          "2022-10-17T23:00:00",
          "2022-10-18T00:00:00",
          "2022-10-18T01:00:00",
          "2022-10-18T02:00:00",
          "2022-10-18T03:00:00",
          "2022-10-18T04:00:00",
          "2022-10-18T05:00:00",
          "2022-10-18T06:00:00",
          "2022-10-18T07:00:00",
          "2022-10-18T08:00:00",
          "2022-10-18T09:00:00",
          "2022-10-18T10:00:00",
          "2022-10-18T11:00:00",
          "2022-10-18T12:00:00",
          "2022-10-18T13:00:00",
          "2022-10-18T14:00:00",
          "2022-10-18T15:00:00",
          "2022-10-18T16:00:00",
          "2022-10-18T17:00:00",
          "2022-10-18T18:00:00",
          "2022-10-18T19:00:00",
          "2022-10-18T20:00:00",
          "2022-10-18T21:00:00",
          "2022-10-18T22:00:00",
          "2022-10-18T23:00:00",
          "2022-10-19T00:00:00",
          "2022-10-19T01:00:00",
          "2022-10-19T02:00:00",
          "2022-10-19T03:00:00",
          "2022-10-19T04:00:00",
          "2022-10-19T05:00:00",
          "2022-10-19T06:00:00",
          "2022-10-19T07:00:00",
          "2022-10-19T08:00:00",
          "2022-10-19T09:00:00",
          "2022-10-19T10:00:00",
          "2022-10-19T11:00:00",
          "2022-10-19T12:00:00",
          "2022-10-19T13:00:00",
          "2022-10-19T14:00:00",
          "2022-10-19T15:00:00",
          "2022-10-19T16:00:00",
          "2022-10-19T17:00:00",
          "2022-10-19T18:00:00",
          "2022-10-19T19:00:00",
          "2022-10-19T20:00:00",
          "2022-10-19T21:00:00",
          "2022-10-19T22:00:00",
          "2022-10-19T23:00:00",
          "2022-10-20T00:00:00"
         ],
         "y": [
          157.13000000000497,
          124.94000000000398,
          95.84000000000316,
          35.27000000000111,
          16.520000000000575,
          17.200000000000486,
          38.07000000000115,
          101.58000000000364,
          215.18000000000794,
          329.210000000011,
          397.73000000001264,
          489.2000000000142,
          520.3200000000145,
          562.4900000000141,
          562.7200000000151,
          537.2700000000134,
          475.93000000001246,
          480.2300000000145,
          459.990000000014,
          301.2200000000108,
          231.92000000000843,
          215.30000000000777,
          197.47000000000682,
          186.8200000000065,
          159.0700000000051,
          143.53000000000517,
          105.4500000000036,
          38.01000000000103,
          27.5700000000004,
          10.580000000000119,
          40.19000000000102,
          62.15000000000178,
          155.12000000000552,
          232.74000000000865,
          353.5700000000121,
          410.9200000000127,
          480.50000000001387,
          475.24000000001286,
          505.0500000000121,
          492.49000000001325,
          490.5100000000135,
          451.0600000000132,
          395.9000000000125,
          257.95000000000886,
          155.6300000000061,
          134.95000000000485,
          105.83000000000375,
          61.610000000002174,
          57.11000000000153,
          14.48000000000024,
          15.450000000000434,
          6.780000000000167,
          13.100000000000204,
          40.88000000000063,
          113.32000000000448,
          322.82000000001136,
          497.22000000001475,
          420.59000000001333,
          289.66000000001054,
          294.12000000001103,
          358.540000000013,
          376.96000000001334,
          334.55000000001075,
          435.63000000001256,
          534.500000000014,
          633.3300000000161,
          669.0400000000142,
          438.360000000014,
          300.70000000001073,
          216.34000000000734,
          169.31000000000535,
          81.81000000000267,
          35.46000000000076,
          14.520000000000202,
          13.920000000000199,
          7.430000000000075,
          10.690000000000147,
          48.82000000000137,
          150.9300000000052,
          396.26000000001284,
          655.180000000015,
          515.1400000000152,
          364.81000000001285,
          294.76000000001005,
          370.1400000000122,
          363.0700000000119,
          419.11000000001343,
          494.88000000001455,
          680.1500000000161,
          929.1700000000154,
          883.5600000000153,
          573.0400000000146,
          361.6700000000122,
          314.1500000000102,
          288.7700000000094,
          155.91000000000483,
          66.03000000000202,
          24.360000000000504,
          5.150000000000113,
          12.270000000000232,
          12.490000000000288,
          48.570000000002025,
          158.49000000000734,
          423.7200000000125,
          716.5200000000136,
          544.3700000000142,
          421.68000000001456,
          391.20000000001284,
          390.56000000001245,
          413.22000000001276,
          405.5300000000129,
          471.19000000001364,
          734.6300000000152,
          1051.1300000000142,
          954.5000000000152,
          673.1100000000148,
          417.0100000000122,
          329.9800000000094,
          262.0300000000081,
          178.3600000000054,
          74.59000000000289
         ]
        }
       ],
       "layout": {
        "hovermode": "x",
        "template": {
         "data": {
          "bar": [
           {
            "error_x": {
             "color": "#2a3f5f"
            },
            "error_y": {
             "color": "#2a3f5f"
            },
            "marker": {
             "line": {
              "color": "#E5ECF6",
              "width": 0.5
             },
             "pattern": {
              "fillmode": "overlay",
              "size": 10,
              "solidity": 0.2
             }
            },
            "type": "bar"
           }
          ],
          "barpolar": [
           {
            "marker": {
             "line": {
              "color": "#E5ECF6",
              "width": 0.5
             },
             "pattern": {
              "fillmode": "overlay",
              "size": 10,
              "solidity": 0.2
             }
            },
            "type": "barpolar"
           }
          ],
          "carpet": [
           {
            "aaxis": {
             "endlinecolor": "#2a3f5f",
             "gridcolor": "white",
             "linecolor": "white",
             "minorgridcolor": "white",
             "startlinecolor": "#2a3f5f"
            },
            "baxis": {
             "endlinecolor": "#2a3f5f",
             "gridcolor": "white",
             "linecolor": "white",
             "minorgridcolor": "white",
             "startlinecolor": "#2a3f5f"
            },
            "type": "carpet"
           }
          ],
          "choropleth": [
           {
            "colorbar": {
             "outlinewidth": 0,
             "ticks": ""
            },
            "type": "choropleth"
           }
          ],
          "contour": [
           {
            "colorbar": {
             "outlinewidth": 0,
             "ticks": ""
            },
            "colorscale": [
             [
              0,
              "#0d0887"
             ],
             [
              0.1111111111111111,
              "#46039f"
             ],
             [
              0.2222222222222222,
              "#7201a8"
             ],
             [
              0.3333333333333333,
              "#9c179e"
             ],
             [
              0.4444444444444444,
              "#bd3786"
             ],
             [
              0.5555555555555556,
              "#d8576b"
             ],
             [
              0.6666666666666666,
              "#ed7953"
             ],
             [
              0.7777777777777778,
              "#fb9f3a"
             ],
             [
              0.8888888888888888,
              "#fdca26"
             ],
             [
              1,
              "#f0f921"
             ]
            ],
            "type": "contour"
           }
          ],
          "contourcarpet": [
           {
            "colorbar": {
             "outlinewidth": 0,
             "ticks": ""
            },
            "type": "contourcarpet"
           }
          ],
          "heatmap": [
           {
            "colorbar": {
             "outlinewidth": 0,
             "ticks": ""
            },
            "colorscale": [
             [
              0,
              "#0d0887"
             ],
             [
              0.1111111111111111,
              "#46039f"
             ],
             [
              0.2222222222222222,
              "#7201a8"
             ],
             [
              0.3333333333333333,
              "#9c179e"
             ],
             [
              0.4444444444444444,
              "#bd3786"
             ],
             [
              0.5555555555555556,
              "#d8576b"
             ],
             [
              0.6666666666666666,
              "#ed7953"
             ],
             [
              0.7777777777777778,
              "#fb9f3a"
             ],
             [
              0.8888888888888888,
              "#fdca26"
             ],
             [
              1,
              "#f0f921"
             ]
            ],
            "type": "heatmap"
           }
          ],
          "heatmapgl": [
           {
            "colorbar": {
             "outlinewidth": 0,
             "ticks": ""
            },
            "colorscale": [
             [
              0,
              "#0d0887"
             ],
             [
              0.1111111111111111,
              "#46039f"
             ],
             [
              0.2222222222222222,
              "#7201a8"
             ],
             [
              0.3333333333333333,
              "#9c179e"
             ],
             [
              0.4444444444444444,
              "#bd3786"
             ],
             [
              0.5555555555555556,
              "#d8576b"
             ],
             [
              0.6666666666666666,
              "#ed7953"
             ],
             [
              0.7777777777777778,
              "#fb9f3a"
             ],
             [
              0.8888888888888888,
              "#fdca26"
             ],
             [
              1,
              "#f0f921"
             ]
            ],
            "type": "heatmapgl"
           }
          ],
          "histogram": [
           {
            "marker": {
             "pattern": {
              "fillmode": "overlay",
              "size": 10,
              "solidity": 0.2
             }
            },
            "type": "histogram"
           }
          ],
          "histogram2d": [
           {
            "colorbar": {
             "outlinewidth": 0,
             "ticks": ""
            },
            "colorscale": [
             [
              0,
              "#0d0887"
             ],
             [
              0.1111111111111111,
              "#46039f"
             ],
             [
              0.2222222222222222,
              "#7201a8"
             ],
             [
              0.3333333333333333,
              "#9c179e"
             ],
             [
              0.4444444444444444,
              "#bd3786"
             ],
             [
              0.5555555555555556,
              "#d8576b"
             ],
             [
              0.6666666666666666,
              "#ed7953"
             ],
             [
              0.7777777777777778,
              "#fb9f3a"
             ],
             [
              0.8888888888888888,
              "#fdca26"
             ],
             [
              1,
              "#f0f921"
             ]
            ],
            "type": "histogram2d"
           }
          ],
          "histogram2dcontour": [
           {
            "colorbar": {
             "outlinewidth": 0,
             "ticks": ""
            },
            "colorscale": [
             [
              0,
              "#0d0887"
             ],
             [
              0.1111111111111111,
              "#46039f"
             ],
             [
              0.2222222222222222,
              "#7201a8"
             ],
             [
              0.3333333333333333,
              "#9c179e"
             ],
             [
              0.4444444444444444,
              "#bd3786"
             ],
             [
              0.5555555555555556,
              "#d8576b"
             ],
             [
              0.6666666666666666,
              "#ed7953"
             ],
             [
              0.7777777777777778,
              "#fb9f3a"
             ],
             [
              0.8888888888888888,
              "#fdca26"
             ],
             [
              1,
              "#f0f921"
             ]
            ],
            "type": "histogram2dcontour"
           }
          ],
          "mesh3d": [
           {
            "colorbar": {
             "outlinewidth": 0,
             "ticks": ""
            },
            "type": "mesh3d"
           }
          ],
          "parcoords": [
           {
            "line": {
             "colorbar": {
              "outlinewidth": 0,
              "ticks": ""
             }
            },
            "type": "parcoords"
           }
          ],
          "pie": [
           {
            "automargin": true,
            "type": "pie"
           }
          ],
          "scatter": [
           {
            "fillpattern": {
             "fillmode": "overlay",
             "size": 10,
             "solidity": 0.2
            },
            "type": "scatter"
           }
          ],
          "scatter3d": [
           {
            "line": {
             "colorbar": {
              "outlinewidth": 0,
              "ticks": ""
             }
            },
            "marker": {
             "colorbar": {
              "outlinewidth": 0,
              "ticks": ""
             }
            },
            "type": "scatter3d"
           }
          ],
          "scattercarpet": [
           {
            "marker": {
             "colorbar": {
              "outlinewidth": 0,
              "ticks": ""
             }
            },
            "type": "scattercarpet"
           }
          ],
          "scattergeo": [
           {
            "marker": {
             "colorbar": {
              "outlinewidth": 0,
              "ticks": ""
             }
            },
            "type": "scattergeo"
           }
          ],
          "scattergl": [
           {
            "marker": {
             "colorbar": {
              "outlinewidth": 0,
              "ticks": ""
             }
            },
            "type": "scattergl"
           }
          ],
          "scattermapbox": [
           {
            "marker": {
             "colorbar": {
              "outlinewidth": 0,
              "ticks": ""
             }
            },
            "type": "scattermapbox"
           }
          ],
          "scatterpolar": [
           {
            "marker": {
             "colorbar": {
              "outlinewidth": 0,
              "ticks": ""
             }
            },
            "type": "scatterpolar"
           }
          ],
          "scatterpolargl": [
           {
            "marker": {
             "colorbar": {
              "outlinewidth": 0,
              "ticks": ""
             }
            },
            "type": "scatterpolargl"
           }
          ],
          "scatterternary": [
           {
            "marker": {
             "colorbar": {
              "outlinewidth": 0,
              "ticks": ""
             }
            },
            "type": "scatterternary"
           }
          ],
          "surface": [
           {
            "colorbar": {
             "outlinewidth": 0,
             "ticks": ""
            },
            "colorscale": [
             [
              0,
              "#0d0887"
             ],
             [
              0.1111111111111111,
              "#46039f"
             ],
             [
              0.2222222222222222,
              "#7201a8"
             ],
             [
              0.3333333333333333,
              "#9c179e"
             ],
             [
              0.4444444444444444,
              "#bd3786"
             ],
             [
              0.5555555555555556,
              "#d8576b"
             ],
             [
              0.6666666666666666,
              "#ed7953"
             ],
             [
              0.7777777777777778,
              "#fb9f3a"
             ],
             [
              0.8888888888888888,
              "#fdca26"
             ],
             [
              1,
              "#f0f921"
             ]
            ],
            "type": "surface"
           }
          ],
          "table": [
           {
            "cells": {
             "fill": {
              "color": "#EBF0F8"
             },
             "line": {
              "color": "white"
             }
            },
            "header": {
             "fill": {
              "color": "#C8D4E3"
             },
             "line": {
              "color": "white"
             }
            },
            "type": "table"
           }
          ]
         },
         "layout": {
          "annotationdefaults": {
           "arrowcolor": "#2a3f5f",
           "arrowhead": 0,
           "arrowwidth": 1
          },
          "autotypenumbers": "strict",
          "coloraxis": {
           "colorbar": {
            "outlinewidth": 0,
            "ticks": ""
           }
          },
          "colorscale": {
           "diverging": [
            [
             0,
             "#8e0152"
            ],
            [
             0.1,
             "#c51b7d"
            ],
            [
             0.2,
             "#de77ae"
            ],
            [
             0.3,
             "#f1b6da"
            ],
            [
             0.4,
             "#fde0ef"
            ],
            [
             0.5,
             "#f7f7f7"
            ],
            [
             0.6,
             "#e6f5d0"
            ],
            [
             0.7,
             "#b8e186"
            ],
            [
             0.8,
             "#7fbc41"
            ],
            [
             0.9,
             "#4d9221"
            ],
            [
             1,
             "#276419"
            ]
           ],
           "sequential": [
            [
             0,
             "#0d0887"
            ],
            [
             0.1111111111111111,
             "#46039f"
            ],
            [
             0.2222222222222222,
             "#7201a8"
            ],
            [
             0.3333333333333333,
             "#9c179e"
            ],
            [
             0.4444444444444444,
             "#bd3786"
            ],
            [
             0.5555555555555556,
             "#d8576b"
            ],
            [
             0.6666666666666666,
             "#ed7953"
            ],
            [
             0.7777777777777778,
             "#fb9f3a"
            ],
            [
             0.8888888888888888,
             "#fdca26"
            ],
            [
             1,
             "#f0f921"
            ]
           ],
           "sequentialminus": [
            [
             0,
             "#0d0887"
            ],
            [
             0.1111111111111111,
             "#46039f"
            ],
            [
             0.2222222222222222,
             "#7201a8"
            ],
            [
             0.3333333333333333,
             "#9c179e"
            ],
            [
             0.4444444444444444,
             "#bd3786"
            ],
            [
             0.5555555555555556,
             "#d8576b"
            ],
            [
             0.6666666666666666,
             "#ed7953"
            ],
            [
             0.7777777777777778,
             "#fb9f3a"
            ],
            [
             0.8888888888888888,
             "#fdca26"
            ],
            [
             1,
             "#f0f921"
            ]
           ]
          },
          "colorway": [
           "#636efa",
           "#EF553B",
           "#00cc96",
           "#ab63fa",
           "#FFA15A",
           "#19d3f3",
           "#FF6692",
           "#B6E880",
           "#FF97FF",
           "#FECB52"
          ],
          "font": {
           "color": "#2a3f5f"
          },
          "geo": {
           "bgcolor": "white",
           "lakecolor": "white",
           "landcolor": "#E5ECF6",
           "showlakes": true,
           "showland": true,
           "subunitcolor": "white"
          },
          "hoverlabel": {
           "align": "left"
          },
          "hovermode": "closest",
          "mapbox": {
           "style": "light"
          },
          "paper_bgcolor": "white",
          "plot_bgcolor": "#E5ECF6",
          "polar": {
           "angularaxis": {
            "gridcolor": "white",
            "linecolor": "white",
            "ticks": ""
           },
           "bgcolor": "#E5ECF6",
           "radialaxis": {
            "gridcolor": "white",
            "linecolor": "white",
            "ticks": ""
           }
          },
          "scene": {
           "xaxis": {
            "backgroundcolor": "#E5ECF6",
            "gridcolor": "white",
            "gridwidth": 2,
            "linecolor": "white",
            "showbackground": true,
            "ticks": "",
            "zerolinecolor": "white"
           },
           "yaxis": {
            "backgroundcolor": "#E5ECF6",
            "gridcolor": "white",
            "gridwidth": 2,
            "linecolor": "white",
            "showbackground": true,
            "ticks": "",
            "zerolinecolor": "white"
           },
           "zaxis": {
            "backgroundcolor": "#E5ECF6",
            "gridcolor": "white",
            "gridwidth": 2,
            "linecolor": "white",
            "showbackground": true,
            "ticks": "",
            "zerolinecolor": "white"
           }
          },
          "shapedefaults": {
           "line": {
            "color": "#2a3f5f"
           }
          },
          "ternary": {
           "aaxis": {
            "gridcolor": "white",
            "linecolor": "white",
            "ticks": ""
           },
           "baxis": {
            "gridcolor": "white",
            "linecolor": "white",
            "ticks": ""
           },
           "bgcolor": "#E5ECF6",
           "caxis": {
            "gridcolor": "white",
            "linecolor": "white",
            "ticks": ""
           }
          },
          "title": {
           "x": 0.05
          },
          "xaxis": {
           "automargin": true,
           "gridcolor": "white",
           "linecolor": "white",
           "ticks": "",
           "title": {
            "standoff": 15
           },
           "zerolinecolor": "white",
           "zerolinewidth": 2
          },
          "yaxis": {
           "automargin": true,
           "gridcolor": "white",
           "linecolor": "white",
           "ticks": "",
           "title": {
            "standoff": 15
           },
           "zerolinecolor": "white",
           "zerolinewidth": 2
          }
         }
        },
        "title": {
         "text": "Demand Hourly Prediction Sample Output"
        }
       }
      },
      "text/html": [
       "<div>                            <div id=\"4bdb28b8-f7f4-4205-98ce-86b0f398fd75\" class=\"plotly-graph-div\" style=\"height:525px; width:100%;\"></div>            <script type=\"text/javascript\">                require([\"plotly\"], function(Plotly) {                    window.PLOTLYENV=window.PLOTLYENV || {};                                    if (document.getElementById(\"4bdb28b8-f7f4-4205-98ce-86b0f398fd75\")) {                    Plotly.newPlot(                        \"4bdb28b8-f7f4-4205-98ce-86b0f398fd75\",                        [{\"mode\":\"lines\",\"name\":\"Actual\",\"x\":[\"2022-10-15T00:00:00\",\"2022-10-15T01:00:00\",\"2022-10-15T02:00:00\",\"2022-10-15T03:00:00\",\"2022-10-15T04:00:00\",\"2022-10-15T05:00:00\",\"2022-10-15T06:00:00\",\"2022-10-15T07:00:00\",\"2022-10-15T08:00:00\",\"2022-10-15T09:00:00\",\"2022-10-15T10:00:00\",\"2022-10-15T11:00:00\",\"2022-10-15T12:00:00\",\"2022-10-15T13:00:00\",\"2022-10-15T14:00:00\",\"2022-10-15T15:00:00\",\"2022-10-15T16:00:00\",\"2022-10-15T17:00:00\",\"2022-10-15T18:00:00\",\"2022-10-15T19:00:00\",\"2022-10-15T20:00:00\",\"2022-10-15T21:00:00\",\"2022-10-15T22:00:00\",\"2022-10-15T23:00:00\",\"2022-10-16T00:00:00\",\"2022-10-16T01:00:00\",\"2022-10-16T02:00:00\",\"2022-10-16T03:00:00\",\"2022-10-16T04:00:00\",\"2022-10-16T05:00:00\",\"2022-10-16T06:00:00\",\"2022-10-16T07:00:00\",\"2022-10-16T08:00:00\",\"2022-10-16T09:00:00\",\"2022-10-16T10:00:00\",\"2022-10-16T11:00:00\",\"2022-10-16T12:00:00\",\"2022-10-16T13:00:00\",\"2022-10-16T14:00:00\",\"2022-10-16T15:00:00\",\"2022-10-16T16:00:00\",\"2022-10-16T17:00:00\",\"2022-10-16T18:00:00\",\"2022-10-16T19:00:00\",\"2022-10-16T20:00:00\",\"2022-10-16T21:00:00\",\"2022-10-16T22:00:00\",\"2022-10-16T23:00:00\",\"2022-10-17T00:00:00\",\"2022-10-17T01:00:00\",\"2022-10-17T02:00:00\",\"2022-10-17T03:00:00\",\"2022-10-17T04:00:00\",\"2022-10-17T05:00:00\",\"2022-10-17T06:00:00\",\"2022-10-17T07:00:00\",\"2022-10-17T08:00:00\",\"2022-10-17T09:00:00\",\"2022-10-17T10:00:00\",\"2022-10-17T11:00:00\",\"2022-10-17T12:00:00\",\"2022-10-17T13:00:00\",\"2022-10-17T14:00:00\",\"2022-10-17T15:00:00\",\"2022-10-17T16:00:00\",\"2022-10-17T17:00:00\",\"2022-10-17T18:00:00\",\"2022-10-17T19:00:00\",\"2022-10-17T20:00:00\",\"2022-10-17T21:00:00\",\"2022-10-17T22:00:00\",\"2022-10-17T23:00:00\",\"2022-10-18T00:00:00\",\"2022-10-18T01:00:00\",\"2022-10-18T02:00:00\",\"2022-10-18T03:00:00\",\"2022-10-18T04:00:00\",\"2022-10-18T05:00:00\",\"2022-10-18T06:00:00\",\"2022-10-18T07:00:00\",\"2022-10-18T08:00:00\",\"2022-10-18T09:00:00\",\"2022-10-18T10:00:00\",\"2022-10-18T11:00:00\",\"2022-10-18T12:00:00\",\"2022-10-18T13:00:00\",\"2022-10-18T14:00:00\",\"2022-10-18T15:00:00\",\"2022-10-18T16:00:00\",\"2022-10-18T17:00:00\",\"2022-10-18T18:00:00\",\"2022-10-18T19:00:00\",\"2022-10-18T20:00:00\",\"2022-10-18T21:00:00\",\"2022-10-18T22:00:00\",\"2022-10-18T23:00:00\",\"2022-10-19T00:00:00\",\"2022-10-19T01:00:00\",\"2022-10-19T02:00:00\",\"2022-10-19T03:00:00\",\"2022-10-19T04:00:00\",\"2022-10-19T05:00:00\",\"2022-10-19T06:00:00\",\"2022-10-19T07:00:00\",\"2022-10-19T08:00:00\",\"2022-10-19T09:00:00\",\"2022-10-19T10:00:00\",\"2022-10-19T11:00:00\",\"2022-10-19T12:00:00\",\"2022-10-19T13:00:00\",\"2022-10-19T14:00:00\",\"2022-10-19T15:00:00\",\"2022-10-19T16:00:00\",\"2022-10-19T17:00:00\",\"2022-10-19T18:00:00\",\"2022-10-19T19:00:00\",\"2022-10-19T20:00:00\",\"2022-10-19T21:00:00\",\"2022-10-19T22:00:00\",\"2022-10-19T23:00:00\",\"2022-10-20T00:00:00\"],\"y\":[144.99999999999997,126.00000000000006,70.9999999999999,29.99999999999993,17.999999999999986,16.999999999999964,29.999999999999986,72.99999999999994,166.00000000000009,252.00000000000028,373.0,438.0000000000003,519.0000000000002,543.0000000000001,555.0000000000005,504.00000000000034,456.0,450.0000000000003,433.00000000000017,303.00000000000034,232.00000000000009,207.00000000000026,181.00000000000003,188.00000000000006,189.00000000000014,125.99999999999991,102.99999999999997,31.999999999999943,26.999999999999954,9.999999999999988,35.99999999999997,51.99999999999993,134.99999999999994,230.0000000000002,324.0000000000003,356.00000000000057,469.00000000000034,468.0000000000003,453.0000000000003,450.0000000000002,496.0000000000002,391.0,388.0000000000004,222.0,150.0000000000001,127.99999999999993,98.99999999999977,52.00000000000003,47.9999999999999,12.999999999999986,11.999999999999998,6.999999999999988,11.999999999999998,38.99999999999997,112.99999999999982,297.0,557.0000000000002,455.0000000000003,264.0000000000003,262.00000000000017,314.00000000000034,338.0000000000001,288.00000000000034,383.00000000000006,518.0000000000001,788.0000000000002,638.0000000000002,444.0000000000003,282.0000000000001,169.9999999999999,139.99999999999997,72.99999999999989,37.99999999999994,15.000000000000021,13.999999999999975,6.999999999999999,9.999999999999998,53.99999999999993,145.99999999999991,402.00000000000017,714.0000000000005,537.0000000000003,328.0000000000003,281.0000000000002,354.0000000000001,334.00000000000017,367.0000000000004,436.00000000000034,687.0000000000002,1034.0000000000002,884.0000000000003,541.0000000000005,320.00000000000034,291.0000000000005,313.0000000000002,103.99999999999991,60.99999999999991,19.999999999999986,3.999999999999999,10.999999999999998,11.999999999999988,40.999999999999964,143.99999999999986,400.0000000000002,683.0000000000005,533.0000000000003,366.0000000000002,362.00000000000017,378.0000000000002,332.0000000000004,320.0000000000003,441.00000000000034,677.0000000000002,984.0000000000002,899.0000000000002,561.0000000000002,352.0000000000001,287.00000000000017,212.0000000000001,120.00000000000001,66.99999999999993],\"type\":\"scatter\"},{\"mode\":\"lines\",\"name\":\"Prediction\",\"x\":[\"2022-10-15T00:00:00\",\"2022-10-15T01:00:00\",\"2022-10-15T02:00:00\",\"2022-10-15T03:00:00\",\"2022-10-15T04:00:00\",\"2022-10-15T05:00:00\",\"2022-10-15T06:00:00\",\"2022-10-15T07:00:00\",\"2022-10-15T08:00:00\",\"2022-10-15T09:00:00\",\"2022-10-15T10:00:00\",\"2022-10-15T11:00:00\",\"2022-10-15T12:00:00\",\"2022-10-15T13:00:00\",\"2022-10-15T14:00:00\",\"2022-10-15T15:00:00\",\"2022-10-15T16:00:00\",\"2022-10-15T17:00:00\",\"2022-10-15T18:00:00\",\"2022-10-15T19:00:00\",\"2022-10-15T20:00:00\",\"2022-10-15T21:00:00\",\"2022-10-15T22:00:00\",\"2022-10-15T23:00:00\",\"2022-10-16T00:00:00\",\"2022-10-16T01:00:00\",\"2022-10-16T02:00:00\",\"2022-10-16T03:00:00\",\"2022-10-16T04:00:00\",\"2022-10-16T05:00:00\",\"2022-10-16T06:00:00\",\"2022-10-16T07:00:00\",\"2022-10-16T08:00:00\",\"2022-10-16T09:00:00\",\"2022-10-16T10:00:00\",\"2022-10-16T11:00:00\",\"2022-10-16T12:00:00\",\"2022-10-16T13:00:00\",\"2022-10-16T14:00:00\",\"2022-10-16T15:00:00\",\"2022-10-16T16:00:00\",\"2022-10-16T17:00:00\",\"2022-10-16T18:00:00\",\"2022-10-16T19:00:00\",\"2022-10-16T20:00:00\",\"2022-10-16T21:00:00\",\"2022-10-16T22:00:00\",\"2022-10-16T23:00:00\",\"2022-10-17T00:00:00\",\"2022-10-17T01:00:00\",\"2022-10-17T02:00:00\",\"2022-10-17T03:00:00\",\"2022-10-17T04:00:00\",\"2022-10-17T05:00:00\",\"2022-10-17T06:00:00\",\"2022-10-17T07:00:00\",\"2022-10-17T08:00:00\",\"2022-10-17T09:00:00\",\"2022-10-17T10:00:00\",\"2022-10-17T11:00:00\",\"2022-10-17T12:00:00\",\"2022-10-17T13:00:00\",\"2022-10-17T14:00:00\",\"2022-10-17T15:00:00\",\"2022-10-17T16:00:00\",\"2022-10-17T17:00:00\",\"2022-10-17T18:00:00\",\"2022-10-17T19:00:00\",\"2022-10-17T20:00:00\",\"2022-10-17T21:00:00\",\"2022-10-17T22:00:00\",\"2022-10-17T23:00:00\",\"2022-10-18T00:00:00\",\"2022-10-18T01:00:00\",\"2022-10-18T02:00:00\",\"2022-10-18T03:00:00\",\"2022-10-18T04:00:00\",\"2022-10-18T05:00:00\",\"2022-10-18T06:00:00\",\"2022-10-18T07:00:00\",\"2022-10-18T08:00:00\",\"2022-10-18T09:00:00\",\"2022-10-18T10:00:00\",\"2022-10-18T11:00:00\",\"2022-10-18T12:00:00\",\"2022-10-18T13:00:00\",\"2022-10-18T14:00:00\",\"2022-10-18T15:00:00\",\"2022-10-18T16:00:00\",\"2022-10-18T17:00:00\",\"2022-10-18T18:00:00\",\"2022-10-18T19:00:00\",\"2022-10-18T20:00:00\",\"2022-10-18T21:00:00\",\"2022-10-18T22:00:00\",\"2022-10-18T23:00:00\",\"2022-10-19T00:00:00\",\"2022-10-19T01:00:00\",\"2022-10-19T02:00:00\",\"2022-10-19T03:00:00\",\"2022-10-19T04:00:00\",\"2022-10-19T05:00:00\",\"2022-10-19T06:00:00\",\"2022-10-19T07:00:00\",\"2022-10-19T08:00:00\",\"2022-10-19T09:00:00\",\"2022-10-19T10:00:00\",\"2022-10-19T11:00:00\",\"2022-10-19T12:00:00\",\"2022-10-19T13:00:00\",\"2022-10-19T14:00:00\",\"2022-10-19T15:00:00\",\"2022-10-19T16:00:00\",\"2022-10-19T17:00:00\",\"2022-10-19T18:00:00\",\"2022-10-19T19:00:00\",\"2022-10-19T20:00:00\",\"2022-10-19T21:00:00\",\"2022-10-19T22:00:00\",\"2022-10-19T23:00:00\",\"2022-10-20T00:00:00\"],\"y\":[157.13000000000497,124.94000000000398,95.84000000000316,35.27000000000111,16.520000000000575,17.200000000000486,38.07000000000115,101.58000000000364,215.18000000000794,329.210000000011,397.73000000001264,489.2000000000142,520.3200000000145,562.4900000000141,562.7200000000151,537.2700000000134,475.93000000001246,480.2300000000145,459.990000000014,301.2200000000108,231.92000000000843,215.30000000000777,197.47000000000682,186.8200000000065,159.0700000000051,143.53000000000517,105.4500000000036,38.01000000000103,27.5700000000004,10.580000000000119,40.19000000000102,62.15000000000178,155.12000000000552,232.74000000000865,353.5700000000121,410.9200000000127,480.50000000001387,475.24000000001286,505.0500000000121,492.49000000001325,490.5100000000135,451.0600000000132,395.9000000000125,257.95000000000886,155.6300000000061,134.95000000000485,105.83000000000375,61.610000000002174,57.11000000000153,14.48000000000024,15.450000000000434,6.780000000000167,13.100000000000204,40.88000000000063,113.32000000000448,322.82000000001136,497.22000000001475,420.59000000001333,289.66000000001054,294.12000000001103,358.540000000013,376.96000000001334,334.55000000001075,435.63000000001256,534.500000000014,633.3300000000161,669.0400000000142,438.360000000014,300.70000000001073,216.34000000000734,169.31000000000535,81.81000000000267,35.46000000000076,14.520000000000202,13.920000000000199,7.430000000000075,10.690000000000147,48.82000000000137,150.9300000000052,396.26000000001284,655.180000000015,515.1400000000152,364.81000000001285,294.76000000001005,370.1400000000122,363.0700000000119,419.11000000001343,494.88000000001455,680.1500000000161,929.1700000000154,883.5600000000153,573.0400000000146,361.6700000000122,314.1500000000102,288.7700000000094,155.91000000000483,66.03000000000202,24.360000000000504,5.150000000000113,12.270000000000232,12.490000000000288,48.570000000002025,158.49000000000734,423.7200000000125,716.5200000000136,544.3700000000142,421.68000000001456,391.20000000001284,390.56000000001245,413.22000000001276,405.5300000000129,471.19000000001364,734.6300000000152,1051.1300000000142,954.5000000000152,673.1100000000148,417.0100000000122,329.9800000000094,262.0300000000081,178.3600000000054,74.59000000000289],\"type\":\"scatter\"}],                        {\"template\":{\"data\":{\"histogram2dcontour\":[{\"type\":\"histogram2dcontour\",\"colorbar\":{\"outlinewidth\":0,\"ticks\":\"\"},\"colorscale\":[[0.0,\"#0d0887\"],[0.1111111111111111,\"#46039f\"],[0.2222222222222222,\"#7201a8\"],[0.3333333333333333,\"#9c179e\"],[0.4444444444444444,\"#bd3786\"],[0.5555555555555556,\"#d8576b\"],[0.6666666666666666,\"#ed7953\"],[0.7777777777777778,\"#fb9f3a\"],[0.8888888888888888,\"#fdca26\"],[1.0,\"#f0f921\"]]}],\"choropleth\":[{\"type\":\"choropleth\",\"colorbar\":{\"outlinewidth\":0,\"ticks\":\"\"}}],\"histogram2d\":[{\"type\":\"histogram2d\",\"colorbar\":{\"outlinewidth\":0,\"ticks\":\"\"},\"colorscale\":[[0.0,\"#0d0887\"],[0.1111111111111111,\"#46039f\"],[0.2222222222222222,\"#7201a8\"],[0.3333333333333333,\"#9c179e\"],[0.4444444444444444,\"#bd3786\"],[0.5555555555555556,\"#d8576b\"],[0.6666666666666666,\"#ed7953\"],[0.7777777777777778,\"#fb9f3a\"],[0.8888888888888888,\"#fdca26\"],[1.0,\"#f0f921\"]]}],\"heatmap\":[{\"type\":\"heatmap\",\"colorbar\":{\"outlinewidth\":0,\"ticks\":\"\"},\"colorscale\":[[0.0,\"#0d0887\"],[0.1111111111111111,\"#46039f\"],[0.2222222222222222,\"#7201a8\"],[0.3333333333333333,\"#9c179e\"],[0.4444444444444444,\"#bd3786\"],[0.5555555555555556,\"#d8576b\"],[0.6666666666666666,\"#ed7953\"],[0.7777777777777778,\"#fb9f3a\"],[0.8888888888888888,\"#fdca26\"],[1.0,\"#f0f921\"]]}],\"heatmapgl\":[{\"type\":\"heatmapgl\",\"colorbar\":{\"outlinewidth\":0,\"ticks\":\"\"},\"colorscale\":[[0.0,\"#0d0887\"],[0.1111111111111111,\"#46039f\"],[0.2222222222222222,\"#7201a8\"],[0.3333333333333333,\"#9c179e\"],[0.4444444444444444,\"#bd3786\"],[0.5555555555555556,\"#d8576b\"],[0.6666666666666666,\"#ed7953\"],[0.7777777777777778,\"#fb9f3a\"],[0.8888888888888888,\"#fdca26\"],[1.0,\"#f0f921\"]]}],\"contourcarpet\":[{\"type\":\"contourcarpet\",\"colorbar\":{\"outlinewidth\":0,\"ticks\":\"\"}}],\"contour\":[{\"type\":\"contour\",\"colorbar\":{\"outlinewidth\":0,\"ticks\":\"\"},\"colorscale\":[[0.0,\"#0d0887\"],[0.1111111111111111,\"#46039f\"],[0.2222222222222222,\"#7201a8\"],[0.3333333333333333,\"#9c179e\"],[0.4444444444444444,\"#bd3786\"],[0.5555555555555556,\"#d8576b\"],[0.6666666666666666,\"#ed7953\"],[0.7777777777777778,\"#fb9f3a\"],[0.8888888888888888,\"#fdca26\"],[1.0,\"#f0f921\"]]}],\"surface\":[{\"type\":\"surface\",\"colorbar\":{\"outlinewidth\":0,\"ticks\":\"\"},\"colorscale\":[[0.0,\"#0d0887\"],[0.1111111111111111,\"#46039f\"],[0.2222222222222222,\"#7201a8\"],[0.3333333333333333,\"#9c179e\"],[0.4444444444444444,\"#bd3786\"],[0.5555555555555556,\"#d8576b\"],[0.6666666666666666,\"#ed7953\"],[0.7777777777777778,\"#fb9f3a\"],[0.8888888888888888,\"#fdca26\"],[1.0,\"#f0f921\"]]}],\"mesh3d\":[{\"type\":\"mesh3d\",\"colorbar\":{\"outlinewidth\":0,\"ticks\":\"\"}}],\"scatter\":[{\"fillpattern\":{\"fillmode\":\"overlay\",\"size\":10,\"solidity\":0.2},\"type\":\"scatter\"}],\"parcoords\":[{\"type\":\"parcoords\",\"line\":{\"colorbar\":{\"outlinewidth\":0,\"ticks\":\"\"}}}],\"scatterpolargl\":[{\"type\":\"scatterpolargl\",\"marker\":{\"colorbar\":{\"outlinewidth\":0,\"ticks\":\"\"}}}],\"bar\":[{\"error_x\":{\"color\":\"#2a3f5f\"},\"error_y\":{\"color\":\"#2a3f5f\"},\"marker\":{\"line\":{\"color\":\"#E5ECF6\",\"width\":0.5},\"pattern\":{\"fillmode\":\"overlay\",\"size\":10,\"solidity\":0.2}},\"type\":\"bar\"}],\"scattergeo\":[{\"type\":\"scattergeo\",\"marker\":{\"colorbar\":{\"outlinewidth\":0,\"ticks\":\"\"}}}],\"scatterpolar\":[{\"type\":\"scatterpolar\",\"marker\":{\"colorbar\":{\"outlinewidth\":0,\"ticks\":\"\"}}}],\"histogram\":[{\"marker\":{\"pattern\":{\"fillmode\":\"overlay\",\"size\":10,\"solidity\":0.2}},\"type\":\"histogram\"}],\"scattergl\":[{\"type\":\"scattergl\",\"marker\":{\"colorbar\":{\"outlinewidth\":0,\"ticks\":\"\"}}}],\"scatter3d\":[{\"type\":\"scatter3d\",\"line\":{\"colorbar\":{\"outlinewidth\":0,\"ticks\":\"\"}},\"marker\":{\"colorbar\":{\"outlinewidth\":0,\"ticks\":\"\"}}}],\"scattermapbox\":[{\"type\":\"scattermapbox\",\"marker\":{\"colorbar\":{\"outlinewidth\":0,\"ticks\":\"\"}}}],\"scatterternary\":[{\"type\":\"scatterternary\",\"marker\":{\"colorbar\":{\"outlinewidth\":0,\"ticks\":\"\"}}}],\"scattercarpet\":[{\"type\":\"scattercarpet\",\"marker\":{\"colorbar\":{\"outlinewidth\":0,\"ticks\":\"\"}}}],\"carpet\":[{\"aaxis\":{\"endlinecolor\":\"#2a3f5f\",\"gridcolor\":\"white\",\"linecolor\":\"white\",\"minorgridcolor\":\"white\",\"startlinecolor\":\"#2a3f5f\"},\"baxis\":{\"endlinecolor\":\"#2a3f5f\",\"gridcolor\":\"white\",\"linecolor\":\"white\",\"minorgridcolor\":\"white\",\"startlinecolor\":\"#2a3f5f\"},\"type\":\"carpet\"}],\"table\":[{\"cells\":{\"fill\":{\"color\":\"#EBF0F8\"},\"line\":{\"color\":\"white\"}},\"header\":{\"fill\":{\"color\":\"#C8D4E3\"},\"line\":{\"color\":\"white\"}},\"type\":\"table\"}],\"barpolar\":[{\"marker\":{\"line\":{\"color\":\"#E5ECF6\",\"width\":0.5},\"pattern\":{\"fillmode\":\"overlay\",\"size\":10,\"solidity\":0.2}},\"type\":\"barpolar\"}],\"pie\":[{\"automargin\":true,\"type\":\"pie\"}]},\"layout\":{\"autotypenumbers\":\"strict\",\"colorway\":[\"#636efa\",\"#EF553B\",\"#00cc96\",\"#ab63fa\",\"#FFA15A\",\"#19d3f3\",\"#FF6692\",\"#B6E880\",\"#FF97FF\",\"#FECB52\"],\"font\":{\"color\":\"#2a3f5f\"},\"hovermode\":\"closest\",\"hoverlabel\":{\"align\":\"left\"},\"paper_bgcolor\":\"white\",\"plot_bgcolor\":\"#E5ECF6\",\"polar\":{\"bgcolor\":\"#E5ECF6\",\"angularaxis\":{\"gridcolor\":\"white\",\"linecolor\":\"white\",\"ticks\":\"\"},\"radialaxis\":{\"gridcolor\":\"white\",\"linecolor\":\"white\",\"ticks\":\"\"}},\"ternary\":{\"bgcolor\":\"#E5ECF6\",\"aaxis\":{\"gridcolor\":\"white\",\"linecolor\":\"white\",\"ticks\":\"\"},\"baxis\":{\"gridcolor\":\"white\",\"linecolor\":\"white\",\"ticks\":\"\"},\"caxis\":{\"gridcolor\":\"white\",\"linecolor\":\"white\",\"ticks\":\"\"}},\"coloraxis\":{\"colorbar\":{\"outlinewidth\":0,\"ticks\":\"\"}},\"colorscale\":{\"sequential\":[[0.0,\"#0d0887\"],[0.1111111111111111,\"#46039f\"],[0.2222222222222222,\"#7201a8\"],[0.3333333333333333,\"#9c179e\"],[0.4444444444444444,\"#bd3786\"],[0.5555555555555556,\"#d8576b\"],[0.6666666666666666,\"#ed7953\"],[0.7777777777777778,\"#fb9f3a\"],[0.8888888888888888,\"#fdca26\"],[1.0,\"#f0f921\"]],\"sequentialminus\":[[0.0,\"#0d0887\"],[0.1111111111111111,\"#46039f\"],[0.2222222222222222,\"#7201a8\"],[0.3333333333333333,\"#9c179e\"],[0.4444444444444444,\"#bd3786\"],[0.5555555555555556,\"#d8576b\"],[0.6666666666666666,\"#ed7953\"],[0.7777777777777778,\"#fb9f3a\"],[0.8888888888888888,\"#fdca26\"],[1.0,\"#f0f921\"]],\"diverging\":[[0,\"#8e0152\"],[0.1,\"#c51b7d\"],[0.2,\"#de77ae\"],[0.3,\"#f1b6da\"],[0.4,\"#fde0ef\"],[0.5,\"#f7f7f7\"],[0.6,\"#e6f5d0\"],[0.7,\"#b8e186\"],[0.8,\"#7fbc41\"],[0.9,\"#4d9221\"],[1,\"#276419\"]]},\"xaxis\":{\"gridcolor\":\"white\",\"linecolor\":\"white\",\"ticks\":\"\",\"title\":{\"standoff\":15},\"zerolinecolor\":\"white\",\"automargin\":true,\"zerolinewidth\":2},\"yaxis\":{\"gridcolor\":\"white\",\"linecolor\":\"white\",\"ticks\":\"\",\"title\":{\"standoff\":15},\"zerolinecolor\":\"white\",\"automargin\":true,\"zerolinewidth\":2},\"scene\":{\"xaxis\":{\"backgroundcolor\":\"#E5ECF6\",\"gridcolor\":\"white\",\"linecolor\":\"white\",\"showbackground\":true,\"ticks\":\"\",\"zerolinecolor\":\"white\",\"gridwidth\":2},\"yaxis\":{\"backgroundcolor\":\"#E5ECF6\",\"gridcolor\":\"white\",\"linecolor\":\"white\",\"showbackground\":true,\"ticks\":\"\",\"zerolinecolor\":\"white\",\"gridwidth\":2},\"zaxis\":{\"backgroundcolor\":\"#E5ECF6\",\"gridcolor\":\"white\",\"linecolor\":\"white\",\"showbackground\":true,\"ticks\":\"\",\"zerolinecolor\":\"white\",\"gridwidth\":2}},\"shapedefaults\":{\"line\":{\"color\":\"#2a3f5f\"}},\"annotationdefaults\":{\"arrowcolor\":\"#2a3f5f\",\"arrowhead\":0,\"arrowwidth\":1},\"geo\":{\"bgcolor\":\"white\",\"landcolor\":\"#E5ECF6\",\"subunitcolor\":\"white\",\"showland\":true,\"showlakes\":true,\"lakecolor\":\"white\"},\"title\":{\"x\":0.05},\"mapbox\":{\"style\":\"light\"}}},\"hovermode\":\"x\",\"title\":{\"text\":\"Demand Hourly Prediction Sample Output\"}},                        {\"responsive\": true}                    ).then(function(){\n",
       "                            \n",
       "var gd = document.getElementById('4bdb28b8-f7f4-4205-98ce-86b0f398fd75');\n",
       "var x = new MutationObserver(function (mutations, observer) {{\n",
       "        var display = window.getComputedStyle(gd).display;\n",
       "        if (!display || display === 'none') {{\n",
       "            console.log([gd, 'removed!']);\n",
       "            Plotly.purge(gd);\n",
       "            observer.disconnect();\n",
       "        }}\n",
       "}});\n",
       "\n",
       "// Listen for the removal of the full notebook cells\n",
       "var notebookContainer = gd.closest('#notebook-container');\n",
       "if (notebookContainer) {{\n",
       "    x.observe(notebookContainer, {childList: true});\n",
       "}}\n",
       "\n",
       "// Listen for the clearing of the current output cell\n",
       "var outputEl = gd.closest('.output');\n",
       "if (outputEl) {{\n",
       "    x.observe(outputEl, {childList: true});\n",
       "}}\n",
       "\n",
       "                        })                };                });            </script>        </div>"
      ]
     },
     "metadata": {},
     "output_type": "display_data"
    }
   ],
   "source": [
    "hourly_fig.update_layout(title=\"Demand Hourly Prediction Sample Output\")   "
   ]
  },
  {
   "cell_type": "code",
   "execution_count": 117,
   "id": "8973ed2a",
   "metadata": {},
   "outputs": [],
   "source": [
    "hourly_fig.update_layout(title=\"Demand Hourly Prediction Sample Output\").write_html(\"Plots/Demand Hourly Prediction Sample Output.html\")"
   ]
  },
  {
   "cell_type": "code",
   "execution_count": 118,
   "id": "48a251d8",
   "metadata": {},
   "outputs": [
    {
     "name": "stderr",
     "output_type": "stream",
     "text": [
      "/usr/local/lib/python3.7/site-packages/ipykernel_launcher.py:1: FutureWarning:\n",
      "\n",
      "Indexing with multiple keys (implicitly converted to a tuple of keys) will be deprecated, use a list instead.\n",
      "\n"
     ]
    },
    {
     "data": {
      "text/html": [
       "<div>\n",
       "<style scoped>\n",
       "    .dataframe tbody tr th:only-of-type {\n",
       "        vertical-align: middle;\n",
       "    }\n",
       "\n",
       "    .dataframe tbody tr th {\n",
       "        vertical-align: top;\n",
       "    }\n",
       "\n",
       "    .dataframe thead th {\n",
       "        text-align: right;\n",
       "    }\n",
       "</style>\n",
       "<table border=\"1\" class=\"dataframe\">\n",
       "  <thead>\n",
       "    <tr style=\"text-align: right;\">\n",
       "      <th></th>\n",
       "      <th>Station</th>\n",
       "      <th>Size</th>\n",
       "      <th>RMSE</th>\n",
       "    </tr>\n",
       "  </thead>\n",
       "  <tbody>\n",
       "    <tr>\n",
       "      <th>263</th>\n",
       "      <td>269.0</td>\n",
       "      <td>13.0</td>\n",
       "      <td>0.685116</td>\n",
       "    </tr>\n",
       "    <tr>\n",
       "      <th>310</th>\n",
       "      <td>316.0</td>\n",
       "      <td>18.0</td>\n",
       "      <td>0.525267</td>\n",
       "    </tr>\n",
       "    <tr>\n",
       "      <th>247</th>\n",
       "      <td>253.0</td>\n",
       "      <td>33.0</td>\n",
       "      <td>0.477716</td>\n",
       "    </tr>\n",
       "    <tr>\n",
       "      <th>374</th>\n",
       "      <td>381.0</td>\n",
       "      <td>33.0</td>\n",
       "      <td>0.598690</td>\n",
       "    </tr>\n",
       "    <tr>\n",
       "      <th>2</th>\n",
       "      <td>2.0</td>\n",
       "      <td>34.0</td>\n",
       "      <td>0.686787</td>\n",
       "    </tr>\n",
       "    <tr>\n",
       "      <th>...</th>\n",
       "      <td>...</td>\n",
       "      <td>...</td>\n",
       "      <td>...</td>\n",
       "    </tr>\n",
       "    <tr>\n",
       "      <th>104</th>\n",
       "      <td>106.0</td>\n",
       "      <td>89.0</td>\n",
       "      <td>7.835081</td>\n",
       "    </tr>\n",
       "    <tr>\n",
       "      <th>103</th>\n",
       "      <td>105.0</td>\n",
       "      <td>89.0</td>\n",
       "      <td>4.729971</td>\n",
       "    </tr>\n",
       "    <tr>\n",
       "      <th>98</th>\n",
       "      <td>100.0</td>\n",
       "      <td>89.0</td>\n",
       "      <td>5.243876</td>\n",
       "    </tr>\n",
       "    <tr>\n",
       "      <th>288</th>\n",
       "      <td>294.0</td>\n",
       "      <td>89.0</td>\n",
       "      <td>4.882654</td>\n",
       "    </tr>\n",
       "    <tr>\n",
       "      <th>376</th>\n",
       "      <td>383.0</td>\n",
       "      <td>89.0</td>\n",
       "      <td>7.438512</td>\n",
       "    </tr>\n",
       "  </tbody>\n",
       "</table>\n",
       "<p>377 rows × 3 columns</p>\n",
       "</div>"
      ],
      "text/plain": [
       "     Station  Size      RMSE\n",
       "263    269.0  13.0  0.685116\n",
       "310    316.0  18.0  0.525267\n",
       "247    253.0  33.0  0.477716\n",
       "374    381.0  33.0  0.598690\n",
       "2        2.0  34.0  0.686787\n",
       "..       ...   ...       ...\n",
       "104    106.0  89.0  7.835081\n",
       "103    105.0  89.0  4.729971\n",
       "98     100.0  89.0  5.243876\n",
       "288    294.0  89.0  4.882654\n",
       "376    383.0  89.0  7.438512\n",
       "\n",
       "[377 rows x 3 columns]"
      ]
     },
     "execution_count": 118,
     "metadata": {},
     "output_type": "execute_result"
    }
   ],
   "source": [
    "m = test_file.groupby(['start_station_name', 'start_time_month', 'start_time_day', 'start_time_year'])['actual_demand', 'pred'].sum().reset_index()\n",
    "\n",
    "df_rmse_per_station = pd.DataFrame({\n",
    "    'Station':[], \n",
    "    'Size':[], \n",
    "    'RMSE':[], \n",
    "       } \n",
    "    )\n",
    "\n",
    "for i in m['start_station_name'].unique():\n",
    "    n = m.query(f'start_station_name=={i}')\n",
    "    RMSE = np.sqrt(mean_squared_error(n['actual_demand'], n['pred']))\n",
    "    df_rmse_per_station.loc[len(df_rmse_per_station.index)] = [i, n.shape[0], RMSE]\n",
    "    #print(n.shape[0])\n",
    "    #print(RMSE)\n",
    "    #print()\n",
    "    \n",
    "df_rmse_per_station.sort_values(\"Size\")"
   ]
  },
  {
   "cell_type": "code",
   "execution_count": 125,
   "id": "7beaa6f9",
   "metadata": {},
   "outputs": [
    {
     "data": {
      "text/plain": [
       "1.4093498536497888"
      ]
     },
     "execution_count": 125,
     "metadata": {},
     "output_type": "execute_result"
    }
   ],
   "source": [
    "np.sqrt(mean_squared_error(test_file['actual_demand'], test_file['pred']))"
   ]
  },
  {
   "cell_type": "code",
   "execution_count": 126,
   "id": "483b5559",
   "metadata": {},
   "outputs": [
    {
     "data": {
      "text/plain": [
       "4.465958846130103"
      ]
     },
     "execution_count": 126,
     "metadata": {},
     "output_type": "execute_result"
    }
   ],
   "source": [
    "np.sqrt(mean_squared_error(m['actual_demand'], m['pred']))"
   ]
  },
  {
   "cell_type": "code",
   "execution_count": 127,
   "id": "ae06b018",
   "metadata": {},
   "outputs": [
    {
     "data": {
      "text/plain": [
       "3.638663823894762"
      ]
     },
     "execution_count": 127,
     "metadata": {},
     "output_type": "execute_result"
    }
   ],
   "source": [
    "df_rmse_per_station['RMSE'].mean()"
   ]
  },
  {
   "cell_type": "code",
   "execution_count": 119,
   "id": "6b872224",
   "metadata": {},
   "outputs": [
    {
     "name": "stdout",
     "output_type": "stream",
     "text": [
      "1.564061967361134\n",
      "1.2323142613151445\n"
     ]
    }
   ],
   "source": [
    "\n",
    "\n",
    "test_file_single, daily_fig_single, hourly_fig_single, rmse_score_single, mae_score_single \\\n",
    "= get_prediction_results_single_station(\n",
    "    test_file_name, \n",
    "    target_scaler_file, \n",
    "    scaler_file,\n",
    "    period_start=\"2022-10-15\",\n",
    "    period_end=\"2022-10-20\",\n",
    "    station_id=383.0\n",
    ")"
   ]
  },
  {
   "cell_type": "code",
   "execution_count": 120,
   "id": "b4b80788",
   "metadata": {},
   "outputs": [],
   "source": [
    "daily_fig_single.update_layout(title=\"Demand Daily Prediction Station Output Example\").write_html(\"Plots/Demand Daily Prediction Station Output.html\")"
   ]
  },
  {
   "cell_type": "code",
   "execution_count": 121,
   "id": "fbe3202e",
   "metadata": {},
   "outputs": [],
   "source": [
    "hourly_fig_single.update_layout(title=\"Demand Hourly Prediction Sample Station Output Example\").write_html(\"Plots/Demand Hourly Prediction Station Sample Station Output.html\")"
   ]
  },
  {
   "cell_type": "markdown",
   "id": "0c1a9d14",
   "metadata": {},
   "source": [
    "## 2022 Dataset"
   ]
  },
  {
   "cell_type": "code",
   "execution_count": 28,
   "id": "c66460e2",
   "metadata": {},
   "outputs": [
    {
     "name": "stdout",
     "output_type": "stream",
     "text": [
      "1.4394243932098059\n",
      "1.0553609809028108\n"
     ]
    }
   ],
   "source": [
    "test_file_name = \"test_predictions_dec_2022_weather_lags_2022_only.csv\"\n",
    "target_scaler_file = 'target_scaler_dec_2022_weather_lags_2022_only.sav'\n",
    "scaler_file = 'scaler_dec_2022_weather_lags_2022_only.sav'\n",
    "\n",
    "test_file_2022, daily_fig_2022, hourly_fig_2022, rmse_score, mae_score = get_prediction_results(test_file_name, \n",
    "                                                                                                target_scaler_file, \n",
    "                                                                                                scaler_file,\n",
    "                                                                                                 period_start=\"2022-10-15\",\n",
    "                                                                                                 period_end=\"2022-10-20\")"
   ]
  },
  {
   "cell_type": "markdown",
   "id": "e6444b3e",
   "metadata": {},
   "source": [
    "## Comparison"
   ]
  },
  {
   "cell_type": "code",
   "execution_count": 29,
   "id": "76759b14",
   "metadata": {},
   "outputs": [],
   "source": [
    "daily_fig, hourly_fig = compare_outputs(test_file, test_file_2022, period_start=\"2022-10-15\", period_end=\"2022-10-20\")"
   ]
  },
  {
   "cell_type": "code",
   "execution_count": 30,
   "id": "25a0bcdd",
   "metadata": {},
   "outputs": [
    {
     "data": {
      "application/vnd.plotly.v1+json": {
       "config": {
        "plotlyServerURL": "https://plot.ly"
       },
       "data": [
        {
         "mode": "lines",
         "name": "Prediction 2021-2022",
         "type": "scatter",
         "x": [
          "2022-10-04T00:00:00",
          "2022-10-05T00:00:00",
          "2022-10-06T00:00:00",
          "2022-10-07T00:00:00",
          "2022-10-08T00:00:00",
          "2022-10-09T00:00:00",
          "2022-10-10T00:00:00",
          "2022-10-11T00:00:00",
          "2022-10-12T00:00:00",
          "2022-10-13T00:00:00",
          "2022-10-14T00:00:00",
          "2022-10-15T00:00:00",
          "2022-10-16T00:00:00",
          "2022-10-17T00:00:00",
          "2022-10-18T00:00:00",
          "2022-10-19T00:00:00",
          "2022-10-20T00:00:00",
          "2022-10-21T00:00:00",
          "2022-10-22T00:00:00",
          "2022-10-23T00:00:00",
          "2022-10-24T00:00:00",
          "2022-10-25T00:00:00",
          "2022-10-26T00:00:00",
          "2022-10-27T00:00:00",
          "2022-10-28T00:00:00",
          "2022-10-29T00:00:00",
          "2022-10-30T00:00:00",
          "2022-10-31T00:00:00",
          "2022-11-01T00:00:00",
          "2022-11-02T00:00:00",
          "2022-11-03T00:00:00",
          "2022-11-04T00:00:00",
          "2022-11-05T00:00:00",
          "2022-11-06T00:00:00",
          "2022-11-07T00:00:00",
          "2022-11-08T00:00:00",
          "2022-11-09T00:00:00",
          "2022-11-10T00:00:00",
          "2022-11-11T00:00:00",
          "2022-11-12T00:00:00",
          "2022-11-13T00:00:00",
          "2022-11-14T00:00:00",
          "2022-11-15T00:00:00",
          "2022-11-16T00:00:00",
          "2022-11-17T00:00:00",
          "2022-11-18T00:00:00",
          "2022-11-19T00:00:00",
          "2022-11-20T00:00:00",
          "2022-11-21T00:00:00",
          "2022-11-22T00:00:00",
          "2022-11-23T00:00:00",
          "2022-11-24T00:00:00",
          "2022-11-25T00:00:00",
          "2022-11-26T00:00:00",
          "2022-11-27T00:00:00",
          "2022-11-28T00:00:00",
          "2022-11-29T00:00:00",
          "2022-11-30T00:00:00",
          "2022-12-01T00:00:00",
          "2022-12-02T00:00:00",
          "2022-12-03T00:00:00",
          "2022-12-04T00:00:00",
          "2022-12-05T00:00:00",
          "2022-12-06T00:00:00",
          "2022-12-07T00:00:00",
          "2022-12-08T00:00:00",
          "2022-12-09T00:00:00",
          "2022-12-10T00:00:00",
          "2022-12-11T00:00:00",
          "2022-12-12T00:00:00",
          "2022-12-13T00:00:00",
          "2022-12-14T00:00:00",
          "2022-12-15T00:00:00",
          "2022-12-16T00:00:00",
          "2022-12-17T00:00:00",
          "2022-12-18T00:00:00",
          "2022-12-19T00:00:00",
          "2022-12-20T00:00:00",
          "2022-12-21T00:00:00",
          "2022-12-22T00:00:00",
          "2022-12-23T00:00:00",
          "2022-12-24T00:00:00",
          "2022-12-25T00:00:00",
          "2022-12-26T00:00:00",
          "2022-12-27T00:00:00",
          "2022-12-28T00:00:00",
          "2022-12-29T00:00:00",
          "2022-12-30T00:00:00",
          "2022-12-31T00:00:00"
         ],
         "y": [
          5712.520000000162,
          7922.930000000211,
          8393.610000000212,
          8392.37000000022,
          8365.620000000212,
          6848.200000000179,
          6430.310000000196,
          7544.690000000203,
          7567.150000000218,
          7591.070000000213,
          7680.970000000204,
          6749.550000000195,
          5745.620000000182,
          6634.600000000199,
          8341.540000000194,
          9106.100000000213,
          8649.600000000191,
          7495.0000000002,
          8041.480000000181,
          6930.00000000018,
          7252.470000000214,
          8034.9300000001995,
          8058.190000000209,
          8235.79000000022,
          7740.640000000197,
          6803.130000000205,
          6798.450000000163,
          6827.030000000201,
          6614.3600000001725,
          7303.1600000002,
          7422.7200000002185,
          7334.530000000206,
          5818.190000000177,
          5602.690000000169,
          6026.750000000191,
          5711.330000000144,
          6764.8300000002,
          7187.520000000202,
          6480.690000000207,
          6230.260000000177,
          5272.350000000162,
          5799.920000000201,
          6885.8000000001875,
          7771.7100000002165,
          7310.1600000002045,
          6605.180000000213,
          6603.750000000204,
          5193.9400000001615,
          5483.140000000184,
          5525.120000000169,
          5225.370000000169,
          2908.330000000101,
          3797.320000000136,
          4336.530000000133,
          3957.6400000001277,
          5016.760000000161,
          6085.660000000177,
          6480.6100000001925,
          4666.10000000013,
          6690.970000000208,
          3130.8800000000974,
          4617.780000000147,
          5374.47000000017,
          6381.030000000196,
          6903.03000000019,
          6185.630000000194,
          6100.030000000195,
          3280.9500000001017,
          3756.7300000001196,
          5484.390000000172,
          6402.030000000189,
          6495.530000000212,
          6307.860000000206,
          5834.01000000019,
          4917.250000000175,
          4167.080000000145,
          4316.830000000158,
          4825.500000000157,
          4456.900000000153,
          3867.8400000001398,
          3447.0800000001245,
          2815.270000000096,
          1910.6200000000688,
          1840.8800000000676,
          2461.110000000085,
          3803.2900000001305,
          1587.6800000000585,
          2411.6500000000747,
          1391.4100000000453
         ]
        },
        {
         "mode": "lines",
         "name": "Prediction 2022",
         "type": "scatter",
         "x": [
          "2022-10-04T00:00:00",
          "2022-10-05T00:00:00",
          "2022-10-06T00:00:00",
          "2022-10-07T00:00:00",
          "2022-10-08T00:00:00",
          "2022-10-09T00:00:00",
          "2022-10-10T00:00:00",
          "2022-10-11T00:00:00",
          "2022-10-12T00:00:00",
          "2022-10-13T00:00:00",
          "2022-10-14T00:00:00",
          "2022-10-15T00:00:00",
          "2022-10-16T00:00:00",
          "2022-10-17T00:00:00",
          "2022-10-18T00:00:00",
          "2022-10-19T00:00:00",
          "2022-10-20T00:00:00",
          "2022-10-21T00:00:00",
          "2022-10-22T00:00:00",
          "2022-10-23T00:00:00",
          "2022-10-24T00:00:00",
          "2022-10-25T00:00:00",
          "2022-10-26T00:00:00",
          "2022-10-27T00:00:00",
          "2022-10-28T00:00:00",
          "2022-10-29T00:00:00",
          "2022-10-30T00:00:00",
          "2022-10-31T00:00:00",
          "2022-11-01T00:00:00",
          "2022-11-02T00:00:00",
          "2022-11-03T00:00:00",
          "2022-11-04T00:00:00",
          "2022-11-05T00:00:00",
          "2022-11-06T00:00:00",
          "2022-11-07T00:00:00",
          "2022-11-08T00:00:00",
          "2022-11-09T00:00:00",
          "2022-11-10T00:00:00",
          "2022-11-11T00:00:00",
          "2022-11-12T00:00:00",
          "2022-11-13T00:00:00",
          "2022-11-14T00:00:00",
          "2022-11-15T00:00:00",
          "2022-11-16T00:00:00",
          "2022-11-17T00:00:00",
          "2022-11-18T00:00:00",
          "2022-11-19T00:00:00",
          "2022-11-20T00:00:00",
          "2022-11-21T00:00:00",
          "2022-11-22T00:00:00",
          "2022-11-23T00:00:00",
          "2022-11-24T00:00:00",
          "2022-11-25T00:00:00",
          "2022-11-26T00:00:00",
          "2022-11-27T00:00:00",
          "2022-11-28T00:00:00",
          "2022-11-29T00:00:00",
          "2022-11-30T00:00:00",
          "2022-12-01T00:00:00",
          "2022-12-02T00:00:00",
          "2022-12-03T00:00:00",
          "2022-12-04T00:00:00",
          "2022-12-05T00:00:00",
          "2022-12-06T00:00:00",
          "2022-12-07T00:00:00",
          "2022-12-08T00:00:00",
          "2022-12-09T00:00:00",
          "2022-12-10T00:00:00",
          "2022-12-11T00:00:00",
          "2022-12-12T00:00:00",
          "2022-12-13T00:00:00",
          "2022-12-14T00:00:00",
          "2022-12-15T00:00:00",
          "2022-12-16T00:00:00",
          "2022-12-17T00:00:00",
          "2022-12-18T00:00:00",
          "2022-12-19T00:00:00",
          "2022-12-20T00:00:00",
          "2022-12-21T00:00:00",
          "2022-12-22T00:00:00",
          "2022-12-23T00:00:00",
          "2022-12-24T00:00:00",
          "2022-12-25T00:00:00",
          "2022-12-26T00:00:00",
          "2022-12-27T00:00:00",
          "2022-12-28T00:00:00",
          "2022-12-29T00:00:00",
          "2022-12-30T00:00:00",
          "2022-12-31T00:00:00"
         ],
         "y": [
          6096.710000000163,
          8487.68000000022,
          8954.520000000215,
          8964.38000000021,
          8813.020000000188,
          7361.020000000178,
          7007.910000000185,
          8278.960000000214,
          8331.340000000208,
          8267.36000000022,
          8205.840000000215,
          7170.900000000213,
          6009.130000000168,
          7241.4400000002,
          8954.410000000242,
          9557.000000000213,
          8997.560000000216,
          7753.9500000002,
          8134.650000000176,
          7193.930000000201,
          7712.990000000208,
          8520.880000000217,
          8722.87000000023,
          9030.400000000267,
          8330.410000000222,
          7272.560000000207,
          7018.810000000185,
          7258.44000000022,
          7057.860000000177,
          7893.830000000186,
          7775.060000000203,
          7558.510000000217,
          5944.180000000171,
          5793.780000000159,
          6430.670000000193,
          6190.730000000163,
          7282.510000000215,
          7647.140000000212,
          6942.140000000203,
          6545.930000000184,
          5562.770000000166,
          6153.410000000188,
          7256.330000000205,
          8041.970000000196,
          7643.040000000225,
          7017.240000000206,
          6650.0900000001875,
          5276.180000000163,
          5645.7300000001815,
          5708.710000000184,
          5403.920000000181,
          3004.420000000104,
          3835.1300000001343,
          4441.030000000148,
          4150.160000000136,
          5234.470000000172,
          6295.770000000195,
          6734.3200000002025,
          4871.240000000137,
          6863.280000000198,
          3293.8200000001107,
          4835.730000000154,
          5540.490000000174,
          6525.660000000202,
          7065.770000000204,
          6246.900000000188,
          6214.930000000217,
          3422.6100000001074,
          3968.610000000128,
          5663.720000000193,
          6490.740000000199,
          6585.8500000001895,
          6461.070000000199,
          5896.960000000186,
          4975.350000000163,
          4224.060000000137,
          4375.340000000156,
          4894.820000000164,
          4518.110000000152,
          4007.910000000143,
          3551.80000000013,
          2929.260000000101,
          1978.5900000000697,
          1859.2600000000666,
          2590.670000000091,
          3926.730000000136,
          1710.1200000000604,
          2415.9800000000787,
          1493.6700000000474
         ]
        },
        {
         "mode": "lines",
         "name": "Actual Demand",
         "type": "scatter",
         "x": [
          "2022-10-04T00:00:00",
          "2022-10-05T00:00:00",
          "2022-10-06T00:00:00",
          "2022-10-07T00:00:00",
          "2022-10-08T00:00:00",
          "2022-10-09T00:00:00",
          "2022-10-10T00:00:00",
          "2022-10-11T00:00:00",
          "2022-10-12T00:00:00",
          "2022-10-13T00:00:00",
          "2022-10-14T00:00:00",
          "2022-10-15T00:00:00",
          "2022-10-16T00:00:00",
          "2022-10-17T00:00:00",
          "2022-10-18T00:00:00",
          "2022-10-19T00:00:00",
          "2022-10-20T00:00:00",
          "2022-10-21T00:00:00",
          "2022-10-22T00:00:00",
          "2022-10-23T00:00:00",
          "2022-10-24T00:00:00",
          "2022-10-25T00:00:00",
          "2022-10-26T00:00:00",
          "2022-10-27T00:00:00",
          "2022-10-28T00:00:00",
          "2022-10-29T00:00:00",
          "2022-10-30T00:00:00",
          "2022-10-31T00:00:00",
          "2022-11-01T00:00:00",
          "2022-11-02T00:00:00",
          "2022-11-03T00:00:00",
          "2022-11-04T00:00:00",
          "2022-11-05T00:00:00",
          "2022-11-06T00:00:00",
          "2022-11-07T00:00:00",
          "2022-11-08T00:00:00",
          "2022-11-09T00:00:00",
          "2022-11-10T00:00:00",
          "2022-11-11T00:00:00",
          "2022-11-12T00:00:00",
          "2022-11-13T00:00:00",
          "2022-11-14T00:00:00",
          "2022-11-15T00:00:00",
          "2022-11-16T00:00:00",
          "2022-11-17T00:00:00",
          "2022-11-18T00:00:00",
          "2022-11-19T00:00:00",
          "2022-11-20T00:00:00",
          "2022-11-21T00:00:00",
          "2022-11-22T00:00:00",
          "2022-11-23T00:00:00",
          "2022-11-24T00:00:00",
          "2022-11-25T00:00:00",
          "2022-11-26T00:00:00",
          "2022-11-27T00:00:00",
          "2022-11-28T00:00:00",
          "2022-11-29T00:00:00",
          "2022-11-30T00:00:00",
          "2022-12-01T00:00:00",
          "2022-12-02T00:00:00",
          "2022-12-03T00:00:00",
          "2022-12-04T00:00:00",
          "2022-12-05T00:00:00",
          "2022-12-06T00:00:00",
          "2022-12-07T00:00:00",
          "2022-12-08T00:00:00",
          "2022-12-09T00:00:00",
          "2022-12-10T00:00:00",
          "2022-12-11T00:00:00",
          "2022-12-12T00:00:00",
          "2022-12-13T00:00:00",
          "2022-12-14T00:00:00",
          "2022-12-15T00:00:00",
          "2022-12-16T00:00:00",
          "2022-12-17T00:00:00",
          "2022-12-18T00:00:00",
          "2022-12-19T00:00:00",
          "2022-12-20T00:00:00",
          "2022-12-21T00:00:00",
          "2022-12-22T00:00:00",
          "2022-12-23T00:00:00",
          "2022-12-24T00:00:00",
          "2022-12-25T00:00:00",
          "2022-12-26T00:00:00",
          "2022-12-27T00:00:00",
          "2022-12-28T00:00:00",
          "2022-12-29T00:00:00",
          "2022-12-30T00:00:00",
          "2022-12-31T00:00:00"
         ],
         "y": [
          5617,
          7442,
          7910,
          7484,
          7646,
          5671,
          5799,
          7203,
          7198,
          7648,
          6940,
          6310,
          5386,
          6455,
          8211,
          8200,
          7772,
          6904,
          6561,
          5887,
          6327,
          7289,
          7533,
          8241,
          7133,
          6509,
          5414,
          6060,
          5465.999999999999,
          6885,
          7193,
          6768,
          4532,
          5076,
          5787,
          4076.0000000000005,
          6578,
          6927,
          6220,
          5808,
          4786,
          5553,
          6580,
          6728,
          6673,
          6240,
          5565,
          4596,
          4912.000000000001,
          5071,
          4506,
          2362,
          3419,
          3682.9999999999995,
          3533,
          4433,
          5436,
          5568,
          3475,
          5707,
          2134,
          3804,
          5187,
          6132,
          6358,
          5189,
          5807,
          2249.0000000000005,
          2819,
          4706,
          5699,
          5513,
          5714,
          5031,
          4222,
          3334.9999999999995,
          3486,
          3892,
          3732,
          3310,
          2931,
          2120.9999999999995,
          1505.9999999999998,
          1455.9999999999998,
          1625,
          2919,
          1018.9999999999998,
          1456.9999999999998,
          805.9999999999998
         ]
        }
       ],
       "layout": {
        "hovermode": "x",
        "template": {
         "data": {
          "bar": [
           {
            "error_x": {
             "color": "#2a3f5f"
            },
            "error_y": {
             "color": "#2a3f5f"
            },
            "marker": {
             "line": {
              "color": "#E5ECF6",
              "width": 0.5
             },
             "pattern": {
              "fillmode": "overlay",
              "size": 10,
              "solidity": 0.2
             }
            },
            "type": "bar"
           }
          ],
          "barpolar": [
           {
            "marker": {
             "line": {
              "color": "#E5ECF6",
              "width": 0.5
             },
             "pattern": {
              "fillmode": "overlay",
              "size": 10,
              "solidity": 0.2
             }
            },
            "type": "barpolar"
           }
          ],
          "carpet": [
           {
            "aaxis": {
             "endlinecolor": "#2a3f5f",
             "gridcolor": "white",
             "linecolor": "white",
             "minorgridcolor": "white",
             "startlinecolor": "#2a3f5f"
            },
            "baxis": {
             "endlinecolor": "#2a3f5f",
             "gridcolor": "white",
             "linecolor": "white",
             "minorgridcolor": "white",
             "startlinecolor": "#2a3f5f"
            },
            "type": "carpet"
           }
          ],
          "choropleth": [
           {
            "colorbar": {
             "outlinewidth": 0,
             "ticks": ""
            },
            "type": "choropleth"
           }
          ],
          "contour": [
           {
            "colorbar": {
             "outlinewidth": 0,
             "ticks": ""
            },
            "colorscale": [
             [
              0,
              "#0d0887"
             ],
             [
              0.1111111111111111,
              "#46039f"
             ],
             [
              0.2222222222222222,
              "#7201a8"
             ],
             [
              0.3333333333333333,
              "#9c179e"
             ],
             [
              0.4444444444444444,
              "#bd3786"
             ],
             [
              0.5555555555555556,
              "#d8576b"
             ],
             [
              0.6666666666666666,
              "#ed7953"
             ],
             [
              0.7777777777777778,
              "#fb9f3a"
             ],
             [
              0.8888888888888888,
              "#fdca26"
             ],
             [
              1,
              "#f0f921"
             ]
            ],
            "type": "contour"
           }
          ],
          "contourcarpet": [
           {
            "colorbar": {
             "outlinewidth": 0,
             "ticks": ""
            },
            "type": "contourcarpet"
           }
          ],
          "heatmap": [
           {
            "colorbar": {
             "outlinewidth": 0,
             "ticks": ""
            },
            "colorscale": [
             [
              0,
              "#0d0887"
             ],
             [
              0.1111111111111111,
              "#46039f"
             ],
             [
              0.2222222222222222,
              "#7201a8"
             ],
             [
              0.3333333333333333,
              "#9c179e"
             ],
             [
              0.4444444444444444,
              "#bd3786"
             ],
             [
              0.5555555555555556,
              "#d8576b"
             ],
             [
              0.6666666666666666,
              "#ed7953"
             ],
             [
              0.7777777777777778,
              "#fb9f3a"
             ],
             [
              0.8888888888888888,
              "#fdca26"
             ],
             [
              1,
              "#f0f921"
             ]
            ],
            "type": "heatmap"
           }
          ],
          "heatmapgl": [
           {
            "colorbar": {
             "outlinewidth": 0,
             "ticks": ""
            },
            "colorscale": [
             [
              0,
              "#0d0887"
             ],
             [
              0.1111111111111111,
              "#46039f"
             ],
             [
              0.2222222222222222,
              "#7201a8"
             ],
             [
              0.3333333333333333,
              "#9c179e"
             ],
             [
              0.4444444444444444,
              "#bd3786"
             ],
             [
              0.5555555555555556,
              "#d8576b"
             ],
             [
              0.6666666666666666,
              "#ed7953"
             ],
             [
              0.7777777777777778,
              "#fb9f3a"
             ],
             [
              0.8888888888888888,
              "#fdca26"
             ],
             [
              1,
              "#f0f921"
             ]
            ],
            "type": "heatmapgl"
           }
          ],
          "histogram": [
           {
            "marker": {
             "pattern": {
              "fillmode": "overlay",
              "size": 10,
              "solidity": 0.2
             }
            },
            "type": "histogram"
           }
          ],
          "histogram2d": [
           {
            "colorbar": {
             "outlinewidth": 0,
             "ticks": ""
            },
            "colorscale": [
             [
              0,
              "#0d0887"
             ],
             [
              0.1111111111111111,
              "#46039f"
             ],
             [
              0.2222222222222222,
              "#7201a8"
             ],
             [
              0.3333333333333333,
              "#9c179e"
             ],
             [
              0.4444444444444444,
              "#bd3786"
             ],
             [
              0.5555555555555556,
              "#d8576b"
             ],
             [
              0.6666666666666666,
              "#ed7953"
             ],
             [
              0.7777777777777778,
              "#fb9f3a"
             ],
             [
              0.8888888888888888,
              "#fdca26"
             ],
             [
              1,
              "#f0f921"
             ]
            ],
            "type": "histogram2d"
           }
          ],
          "histogram2dcontour": [
           {
            "colorbar": {
             "outlinewidth": 0,
             "ticks": ""
            },
            "colorscale": [
             [
              0,
              "#0d0887"
             ],
             [
              0.1111111111111111,
              "#46039f"
             ],
             [
              0.2222222222222222,
              "#7201a8"
             ],
             [
              0.3333333333333333,
              "#9c179e"
             ],
             [
              0.4444444444444444,
              "#bd3786"
             ],
             [
              0.5555555555555556,
              "#d8576b"
             ],
             [
              0.6666666666666666,
              "#ed7953"
             ],
             [
              0.7777777777777778,
              "#fb9f3a"
             ],
             [
              0.8888888888888888,
              "#fdca26"
             ],
             [
              1,
              "#f0f921"
             ]
            ],
            "type": "histogram2dcontour"
           }
          ],
          "mesh3d": [
           {
            "colorbar": {
             "outlinewidth": 0,
             "ticks": ""
            },
            "type": "mesh3d"
           }
          ],
          "parcoords": [
           {
            "line": {
             "colorbar": {
              "outlinewidth": 0,
              "ticks": ""
             }
            },
            "type": "parcoords"
           }
          ],
          "pie": [
           {
            "automargin": true,
            "type": "pie"
           }
          ],
          "scatter": [
           {
            "fillpattern": {
             "fillmode": "overlay",
             "size": 10,
             "solidity": 0.2
            },
            "type": "scatter"
           }
          ],
          "scatter3d": [
           {
            "line": {
             "colorbar": {
              "outlinewidth": 0,
              "ticks": ""
             }
            },
            "marker": {
             "colorbar": {
              "outlinewidth": 0,
              "ticks": ""
             }
            },
            "type": "scatter3d"
           }
          ],
          "scattercarpet": [
           {
            "marker": {
             "colorbar": {
              "outlinewidth": 0,
              "ticks": ""
             }
            },
            "type": "scattercarpet"
           }
          ],
          "scattergeo": [
           {
            "marker": {
             "colorbar": {
              "outlinewidth": 0,
              "ticks": ""
             }
            },
            "type": "scattergeo"
           }
          ],
          "scattergl": [
           {
            "marker": {
             "colorbar": {
              "outlinewidth": 0,
              "ticks": ""
             }
            },
            "type": "scattergl"
           }
          ],
          "scattermapbox": [
           {
            "marker": {
             "colorbar": {
              "outlinewidth": 0,
              "ticks": ""
             }
            },
            "type": "scattermapbox"
           }
          ],
          "scatterpolar": [
           {
            "marker": {
             "colorbar": {
              "outlinewidth": 0,
              "ticks": ""
             }
            },
            "type": "scatterpolar"
           }
          ],
          "scatterpolargl": [
           {
            "marker": {
             "colorbar": {
              "outlinewidth": 0,
              "ticks": ""
             }
            },
            "type": "scatterpolargl"
           }
          ],
          "scatterternary": [
           {
            "marker": {
             "colorbar": {
              "outlinewidth": 0,
              "ticks": ""
             }
            },
            "type": "scatterternary"
           }
          ],
          "surface": [
           {
            "colorbar": {
             "outlinewidth": 0,
             "ticks": ""
            },
            "colorscale": [
             [
              0,
              "#0d0887"
             ],
             [
              0.1111111111111111,
              "#46039f"
             ],
             [
              0.2222222222222222,
              "#7201a8"
             ],
             [
              0.3333333333333333,
              "#9c179e"
             ],
             [
              0.4444444444444444,
              "#bd3786"
             ],
             [
              0.5555555555555556,
              "#d8576b"
             ],
             [
              0.6666666666666666,
              "#ed7953"
             ],
             [
              0.7777777777777778,
              "#fb9f3a"
             ],
             [
              0.8888888888888888,
              "#fdca26"
             ],
             [
              1,
              "#f0f921"
             ]
            ],
            "type": "surface"
           }
          ],
          "table": [
           {
            "cells": {
             "fill": {
              "color": "#EBF0F8"
             },
             "line": {
              "color": "white"
             }
            },
            "header": {
             "fill": {
              "color": "#C8D4E3"
             },
             "line": {
              "color": "white"
             }
            },
            "type": "table"
           }
          ]
         },
         "layout": {
          "annotationdefaults": {
           "arrowcolor": "#2a3f5f",
           "arrowhead": 0,
           "arrowwidth": 1
          },
          "autotypenumbers": "strict",
          "coloraxis": {
           "colorbar": {
            "outlinewidth": 0,
            "ticks": ""
           }
          },
          "colorscale": {
           "diverging": [
            [
             0,
             "#8e0152"
            ],
            [
             0.1,
             "#c51b7d"
            ],
            [
             0.2,
             "#de77ae"
            ],
            [
             0.3,
             "#f1b6da"
            ],
            [
             0.4,
             "#fde0ef"
            ],
            [
             0.5,
             "#f7f7f7"
            ],
            [
             0.6,
             "#e6f5d0"
            ],
            [
             0.7,
             "#b8e186"
            ],
            [
             0.8,
             "#7fbc41"
            ],
            [
             0.9,
             "#4d9221"
            ],
            [
             1,
             "#276419"
            ]
           ],
           "sequential": [
            [
             0,
             "#0d0887"
            ],
            [
             0.1111111111111111,
             "#46039f"
            ],
            [
             0.2222222222222222,
             "#7201a8"
            ],
            [
             0.3333333333333333,
             "#9c179e"
            ],
            [
             0.4444444444444444,
             "#bd3786"
            ],
            [
             0.5555555555555556,
             "#d8576b"
            ],
            [
             0.6666666666666666,
             "#ed7953"
            ],
            [
             0.7777777777777778,
             "#fb9f3a"
            ],
            [
             0.8888888888888888,
             "#fdca26"
            ],
            [
             1,
             "#f0f921"
            ]
           ],
           "sequentialminus": [
            [
             0,
             "#0d0887"
            ],
            [
             0.1111111111111111,
             "#46039f"
            ],
            [
             0.2222222222222222,
             "#7201a8"
            ],
            [
             0.3333333333333333,
             "#9c179e"
            ],
            [
             0.4444444444444444,
             "#bd3786"
            ],
            [
             0.5555555555555556,
             "#d8576b"
            ],
            [
             0.6666666666666666,
             "#ed7953"
            ],
            [
             0.7777777777777778,
             "#fb9f3a"
            ],
            [
             0.8888888888888888,
             "#fdca26"
            ],
            [
             1,
             "#f0f921"
            ]
           ]
          },
          "colorway": [
           "#636efa",
           "#EF553B",
           "#00cc96",
           "#ab63fa",
           "#FFA15A",
           "#19d3f3",
           "#FF6692",
           "#B6E880",
           "#FF97FF",
           "#FECB52"
          ],
          "font": {
           "color": "#2a3f5f"
          },
          "geo": {
           "bgcolor": "white",
           "lakecolor": "white",
           "landcolor": "#E5ECF6",
           "showlakes": true,
           "showland": true,
           "subunitcolor": "white"
          },
          "hoverlabel": {
           "align": "left"
          },
          "hovermode": "closest",
          "mapbox": {
           "style": "light"
          },
          "paper_bgcolor": "white",
          "plot_bgcolor": "#E5ECF6",
          "polar": {
           "angularaxis": {
            "gridcolor": "white",
            "linecolor": "white",
            "ticks": ""
           },
           "bgcolor": "#E5ECF6",
           "radialaxis": {
            "gridcolor": "white",
            "linecolor": "white",
            "ticks": ""
           }
          },
          "scene": {
           "xaxis": {
            "backgroundcolor": "#E5ECF6",
            "gridcolor": "white",
            "gridwidth": 2,
            "linecolor": "white",
            "showbackground": true,
            "ticks": "",
            "zerolinecolor": "white"
           },
           "yaxis": {
            "backgroundcolor": "#E5ECF6",
            "gridcolor": "white",
            "gridwidth": 2,
            "linecolor": "white",
            "showbackground": true,
            "ticks": "",
            "zerolinecolor": "white"
           },
           "zaxis": {
            "backgroundcolor": "#E5ECF6",
            "gridcolor": "white",
            "gridwidth": 2,
            "linecolor": "white",
            "showbackground": true,
            "ticks": "",
            "zerolinecolor": "white"
           }
          },
          "shapedefaults": {
           "line": {
            "color": "#2a3f5f"
           }
          },
          "ternary": {
           "aaxis": {
            "gridcolor": "white",
            "linecolor": "white",
            "ticks": ""
           },
           "baxis": {
            "gridcolor": "white",
            "linecolor": "white",
            "ticks": ""
           },
           "bgcolor": "#E5ECF6",
           "caxis": {
            "gridcolor": "white",
            "linecolor": "white",
            "ticks": ""
           }
          },
          "title": {
           "x": 0.05
          },
          "xaxis": {
           "automargin": true,
           "gridcolor": "white",
           "linecolor": "white",
           "ticks": "",
           "title": {
            "standoff": 15
           },
           "zerolinecolor": "white",
           "zerolinewidth": 2
          },
          "yaxis": {
           "automargin": true,
           "gridcolor": "white",
           "linecolor": "white",
           "ticks": "",
           "title": {
            "standoff": 15
           },
           "zerolinecolor": "white",
           "zerolinewidth": 2
          }
         }
        }
       }
      },
      "text/html": [
       "<div>                            <div id=\"ff51f679-3b02-4216-bfb5-e96a275f1a2e\" class=\"plotly-graph-div\" style=\"height:525px; width:100%;\"></div>            <script type=\"text/javascript\">                require([\"plotly\"], function(Plotly) {                    window.PLOTLYENV=window.PLOTLYENV || {};                                    if (document.getElementById(\"ff51f679-3b02-4216-bfb5-e96a275f1a2e\")) {                    Plotly.newPlot(                        \"ff51f679-3b02-4216-bfb5-e96a275f1a2e\",                        [{\"mode\":\"lines\",\"name\":\"Prediction 2021-2022\",\"x\":[\"2022-10-04T00:00:00\",\"2022-10-05T00:00:00\",\"2022-10-06T00:00:00\",\"2022-10-07T00:00:00\",\"2022-10-08T00:00:00\",\"2022-10-09T00:00:00\",\"2022-10-10T00:00:00\",\"2022-10-11T00:00:00\",\"2022-10-12T00:00:00\",\"2022-10-13T00:00:00\",\"2022-10-14T00:00:00\",\"2022-10-15T00:00:00\",\"2022-10-16T00:00:00\",\"2022-10-17T00:00:00\",\"2022-10-18T00:00:00\",\"2022-10-19T00:00:00\",\"2022-10-20T00:00:00\",\"2022-10-21T00:00:00\",\"2022-10-22T00:00:00\",\"2022-10-23T00:00:00\",\"2022-10-24T00:00:00\",\"2022-10-25T00:00:00\",\"2022-10-26T00:00:00\",\"2022-10-27T00:00:00\",\"2022-10-28T00:00:00\",\"2022-10-29T00:00:00\",\"2022-10-30T00:00:00\",\"2022-10-31T00:00:00\",\"2022-11-01T00:00:00\",\"2022-11-02T00:00:00\",\"2022-11-03T00:00:00\",\"2022-11-04T00:00:00\",\"2022-11-05T00:00:00\",\"2022-11-06T00:00:00\",\"2022-11-07T00:00:00\",\"2022-11-08T00:00:00\",\"2022-11-09T00:00:00\",\"2022-11-10T00:00:00\",\"2022-11-11T00:00:00\",\"2022-11-12T00:00:00\",\"2022-11-13T00:00:00\",\"2022-11-14T00:00:00\",\"2022-11-15T00:00:00\",\"2022-11-16T00:00:00\",\"2022-11-17T00:00:00\",\"2022-11-18T00:00:00\",\"2022-11-19T00:00:00\",\"2022-11-20T00:00:00\",\"2022-11-21T00:00:00\",\"2022-11-22T00:00:00\",\"2022-11-23T00:00:00\",\"2022-11-24T00:00:00\",\"2022-11-25T00:00:00\",\"2022-11-26T00:00:00\",\"2022-11-27T00:00:00\",\"2022-11-28T00:00:00\",\"2022-11-29T00:00:00\",\"2022-11-30T00:00:00\",\"2022-12-01T00:00:00\",\"2022-12-02T00:00:00\",\"2022-12-03T00:00:00\",\"2022-12-04T00:00:00\",\"2022-12-05T00:00:00\",\"2022-12-06T00:00:00\",\"2022-12-07T00:00:00\",\"2022-12-08T00:00:00\",\"2022-12-09T00:00:00\",\"2022-12-10T00:00:00\",\"2022-12-11T00:00:00\",\"2022-12-12T00:00:00\",\"2022-12-13T00:00:00\",\"2022-12-14T00:00:00\",\"2022-12-15T00:00:00\",\"2022-12-16T00:00:00\",\"2022-12-17T00:00:00\",\"2022-12-18T00:00:00\",\"2022-12-19T00:00:00\",\"2022-12-20T00:00:00\",\"2022-12-21T00:00:00\",\"2022-12-22T00:00:00\",\"2022-12-23T00:00:00\",\"2022-12-24T00:00:00\",\"2022-12-25T00:00:00\",\"2022-12-26T00:00:00\",\"2022-12-27T00:00:00\",\"2022-12-28T00:00:00\",\"2022-12-29T00:00:00\",\"2022-12-30T00:00:00\",\"2022-12-31T00:00:00\"],\"y\":[5712.520000000162,7922.930000000211,8393.610000000212,8392.37000000022,8365.620000000212,6848.200000000179,6430.310000000196,7544.690000000203,7567.150000000218,7591.070000000213,7680.970000000204,6749.550000000195,5745.620000000182,6634.600000000199,8341.540000000194,9106.100000000213,8649.600000000191,7495.0000000002,8041.480000000181,6930.00000000018,7252.470000000214,8034.9300000001995,8058.190000000209,8235.79000000022,7740.640000000197,6803.130000000205,6798.450000000163,6827.030000000201,6614.3600000001725,7303.1600000002,7422.7200000002185,7334.530000000206,5818.190000000177,5602.690000000169,6026.750000000191,5711.330000000144,6764.8300000002,7187.520000000202,6480.690000000207,6230.260000000177,5272.350000000162,5799.920000000201,6885.8000000001875,7771.7100000002165,7310.1600000002045,6605.180000000213,6603.750000000204,5193.9400000001615,5483.140000000184,5525.120000000169,5225.370000000169,2908.330000000101,3797.320000000136,4336.530000000133,3957.6400000001277,5016.760000000161,6085.660000000177,6480.6100000001925,4666.10000000013,6690.970000000208,3130.8800000000974,4617.780000000147,5374.47000000017,6381.030000000196,6903.03000000019,6185.630000000194,6100.030000000195,3280.9500000001017,3756.7300000001196,5484.390000000172,6402.030000000189,6495.530000000212,6307.860000000206,5834.01000000019,4917.250000000175,4167.080000000145,4316.830000000158,4825.500000000157,4456.900000000153,3867.8400000001398,3447.0800000001245,2815.270000000096,1910.6200000000688,1840.8800000000676,2461.110000000085,3803.2900000001305,1587.6800000000585,2411.6500000000747,1391.4100000000453],\"type\":\"scatter\"},{\"mode\":\"lines\",\"name\":\"Prediction 2022\",\"x\":[\"2022-10-04T00:00:00\",\"2022-10-05T00:00:00\",\"2022-10-06T00:00:00\",\"2022-10-07T00:00:00\",\"2022-10-08T00:00:00\",\"2022-10-09T00:00:00\",\"2022-10-10T00:00:00\",\"2022-10-11T00:00:00\",\"2022-10-12T00:00:00\",\"2022-10-13T00:00:00\",\"2022-10-14T00:00:00\",\"2022-10-15T00:00:00\",\"2022-10-16T00:00:00\",\"2022-10-17T00:00:00\",\"2022-10-18T00:00:00\",\"2022-10-19T00:00:00\",\"2022-10-20T00:00:00\",\"2022-10-21T00:00:00\",\"2022-10-22T00:00:00\",\"2022-10-23T00:00:00\",\"2022-10-24T00:00:00\",\"2022-10-25T00:00:00\",\"2022-10-26T00:00:00\",\"2022-10-27T00:00:00\",\"2022-10-28T00:00:00\",\"2022-10-29T00:00:00\",\"2022-10-30T00:00:00\",\"2022-10-31T00:00:00\",\"2022-11-01T00:00:00\",\"2022-11-02T00:00:00\",\"2022-11-03T00:00:00\",\"2022-11-04T00:00:00\",\"2022-11-05T00:00:00\",\"2022-11-06T00:00:00\",\"2022-11-07T00:00:00\",\"2022-11-08T00:00:00\",\"2022-11-09T00:00:00\",\"2022-11-10T00:00:00\",\"2022-11-11T00:00:00\",\"2022-11-12T00:00:00\",\"2022-11-13T00:00:00\",\"2022-11-14T00:00:00\",\"2022-11-15T00:00:00\",\"2022-11-16T00:00:00\",\"2022-11-17T00:00:00\",\"2022-11-18T00:00:00\",\"2022-11-19T00:00:00\",\"2022-11-20T00:00:00\",\"2022-11-21T00:00:00\",\"2022-11-22T00:00:00\",\"2022-11-23T00:00:00\",\"2022-11-24T00:00:00\",\"2022-11-25T00:00:00\",\"2022-11-26T00:00:00\",\"2022-11-27T00:00:00\",\"2022-11-28T00:00:00\",\"2022-11-29T00:00:00\",\"2022-11-30T00:00:00\",\"2022-12-01T00:00:00\",\"2022-12-02T00:00:00\",\"2022-12-03T00:00:00\",\"2022-12-04T00:00:00\",\"2022-12-05T00:00:00\",\"2022-12-06T00:00:00\",\"2022-12-07T00:00:00\",\"2022-12-08T00:00:00\",\"2022-12-09T00:00:00\",\"2022-12-10T00:00:00\",\"2022-12-11T00:00:00\",\"2022-12-12T00:00:00\",\"2022-12-13T00:00:00\",\"2022-12-14T00:00:00\",\"2022-12-15T00:00:00\",\"2022-12-16T00:00:00\",\"2022-12-17T00:00:00\",\"2022-12-18T00:00:00\",\"2022-12-19T00:00:00\",\"2022-12-20T00:00:00\",\"2022-12-21T00:00:00\",\"2022-12-22T00:00:00\",\"2022-12-23T00:00:00\",\"2022-12-24T00:00:00\",\"2022-12-25T00:00:00\",\"2022-12-26T00:00:00\",\"2022-12-27T00:00:00\",\"2022-12-28T00:00:00\",\"2022-12-29T00:00:00\",\"2022-12-30T00:00:00\",\"2022-12-31T00:00:00\"],\"y\":[6096.710000000163,8487.68000000022,8954.520000000215,8964.38000000021,8813.020000000188,7361.020000000178,7007.910000000185,8278.960000000214,8331.340000000208,8267.36000000022,8205.840000000215,7170.900000000213,6009.130000000168,7241.4400000002,8954.410000000242,9557.000000000213,8997.560000000216,7753.9500000002,8134.650000000176,7193.930000000201,7712.990000000208,8520.880000000217,8722.87000000023,9030.400000000267,8330.410000000222,7272.560000000207,7018.810000000185,7258.44000000022,7057.860000000177,7893.830000000186,7775.060000000203,7558.510000000217,5944.180000000171,5793.780000000159,6430.670000000193,6190.730000000163,7282.510000000215,7647.140000000212,6942.140000000203,6545.930000000184,5562.770000000166,6153.410000000188,7256.330000000205,8041.970000000196,7643.040000000225,7017.240000000206,6650.0900000001875,5276.180000000163,5645.7300000001815,5708.710000000184,5403.920000000181,3004.420000000104,3835.1300000001343,4441.030000000148,4150.160000000136,5234.470000000172,6295.770000000195,6734.3200000002025,4871.240000000137,6863.280000000198,3293.8200000001107,4835.730000000154,5540.490000000174,6525.660000000202,7065.770000000204,6246.900000000188,6214.930000000217,3422.6100000001074,3968.610000000128,5663.720000000193,6490.740000000199,6585.8500000001895,6461.070000000199,5896.960000000186,4975.350000000163,4224.060000000137,4375.340000000156,4894.820000000164,4518.110000000152,4007.910000000143,3551.80000000013,2929.260000000101,1978.5900000000697,1859.2600000000666,2590.670000000091,3926.730000000136,1710.1200000000604,2415.9800000000787,1493.6700000000474],\"type\":\"scatter\"},{\"mode\":\"lines\",\"name\":\"Actual Demand\",\"x\":[\"2022-10-04T00:00:00\",\"2022-10-05T00:00:00\",\"2022-10-06T00:00:00\",\"2022-10-07T00:00:00\",\"2022-10-08T00:00:00\",\"2022-10-09T00:00:00\",\"2022-10-10T00:00:00\",\"2022-10-11T00:00:00\",\"2022-10-12T00:00:00\",\"2022-10-13T00:00:00\",\"2022-10-14T00:00:00\",\"2022-10-15T00:00:00\",\"2022-10-16T00:00:00\",\"2022-10-17T00:00:00\",\"2022-10-18T00:00:00\",\"2022-10-19T00:00:00\",\"2022-10-20T00:00:00\",\"2022-10-21T00:00:00\",\"2022-10-22T00:00:00\",\"2022-10-23T00:00:00\",\"2022-10-24T00:00:00\",\"2022-10-25T00:00:00\",\"2022-10-26T00:00:00\",\"2022-10-27T00:00:00\",\"2022-10-28T00:00:00\",\"2022-10-29T00:00:00\",\"2022-10-30T00:00:00\",\"2022-10-31T00:00:00\",\"2022-11-01T00:00:00\",\"2022-11-02T00:00:00\",\"2022-11-03T00:00:00\",\"2022-11-04T00:00:00\",\"2022-11-05T00:00:00\",\"2022-11-06T00:00:00\",\"2022-11-07T00:00:00\",\"2022-11-08T00:00:00\",\"2022-11-09T00:00:00\",\"2022-11-10T00:00:00\",\"2022-11-11T00:00:00\",\"2022-11-12T00:00:00\",\"2022-11-13T00:00:00\",\"2022-11-14T00:00:00\",\"2022-11-15T00:00:00\",\"2022-11-16T00:00:00\",\"2022-11-17T00:00:00\",\"2022-11-18T00:00:00\",\"2022-11-19T00:00:00\",\"2022-11-20T00:00:00\",\"2022-11-21T00:00:00\",\"2022-11-22T00:00:00\",\"2022-11-23T00:00:00\",\"2022-11-24T00:00:00\",\"2022-11-25T00:00:00\",\"2022-11-26T00:00:00\",\"2022-11-27T00:00:00\",\"2022-11-28T00:00:00\",\"2022-11-29T00:00:00\",\"2022-11-30T00:00:00\",\"2022-12-01T00:00:00\",\"2022-12-02T00:00:00\",\"2022-12-03T00:00:00\",\"2022-12-04T00:00:00\",\"2022-12-05T00:00:00\",\"2022-12-06T00:00:00\",\"2022-12-07T00:00:00\",\"2022-12-08T00:00:00\",\"2022-12-09T00:00:00\",\"2022-12-10T00:00:00\",\"2022-12-11T00:00:00\",\"2022-12-12T00:00:00\",\"2022-12-13T00:00:00\",\"2022-12-14T00:00:00\",\"2022-12-15T00:00:00\",\"2022-12-16T00:00:00\",\"2022-12-17T00:00:00\",\"2022-12-18T00:00:00\",\"2022-12-19T00:00:00\",\"2022-12-20T00:00:00\",\"2022-12-21T00:00:00\",\"2022-12-22T00:00:00\",\"2022-12-23T00:00:00\",\"2022-12-24T00:00:00\",\"2022-12-25T00:00:00\",\"2022-12-26T00:00:00\",\"2022-12-27T00:00:00\",\"2022-12-28T00:00:00\",\"2022-12-29T00:00:00\",\"2022-12-30T00:00:00\",\"2022-12-31T00:00:00\"],\"y\":[5617.0,7442.0,7910.0,7484.0,7646.0,5671.0,5799.0,7203.0,7198.0,7648.0,6940.0,6310.0,5386.0,6455.0,8211.0,8200.0,7772.0,6904.0,6561.0,5887.0,6327.0,7289.0,7533.0,8241.0,7133.0,6509.0,5414.0,6060.0,5465.999999999999,6885.0,7193.0,6768.0,4532.0,5076.0,5787.0,4076.0000000000005,6578.0,6927.0,6220.0,5808.0,4786.0,5553.0,6580.0,6728.0,6673.0,6240.0,5565.0,4596.0,4912.000000000001,5071.0,4506.0,2362.0,3419.0,3682.9999999999995,3533.0,4433.0,5436.0,5568.0,3475.0,5707.0,2134.0,3804.0,5187.0,6132.0,6358.0,5189.0,5807.0,2249.0000000000005,2819.0,4706.0,5699.0,5513.0,5714.0,5031.0,4222.0,3334.9999999999995,3486.0,3892.0,3732.0,3310.0,2931.0,2120.9999999999995,1505.9999999999998,1455.9999999999998,1625.0,2919.0,1018.9999999999998,1456.9999999999998,805.9999999999998],\"type\":\"scatter\"}],                        {\"template\":{\"data\":{\"histogram2dcontour\":[{\"type\":\"histogram2dcontour\",\"colorbar\":{\"outlinewidth\":0,\"ticks\":\"\"},\"colorscale\":[[0.0,\"#0d0887\"],[0.1111111111111111,\"#46039f\"],[0.2222222222222222,\"#7201a8\"],[0.3333333333333333,\"#9c179e\"],[0.4444444444444444,\"#bd3786\"],[0.5555555555555556,\"#d8576b\"],[0.6666666666666666,\"#ed7953\"],[0.7777777777777778,\"#fb9f3a\"],[0.8888888888888888,\"#fdca26\"],[1.0,\"#f0f921\"]]}],\"choropleth\":[{\"type\":\"choropleth\",\"colorbar\":{\"outlinewidth\":0,\"ticks\":\"\"}}],\"histogram2d\":[{\"type\":\"histogram2d\",\"colorbar\":{\"outlinewidth\":0,\"ticks\":\"\"},\"colorscale\":[[0.0,\"#0d0887\"],[0.1111111111111111,\"#46039f\"],[0.2222222222222222,\"#7201a8\"],[0.3333333333333333,\"#9c179e\"],[0.4444444444444444,\"#bd3786\"],[0.5555555555555556,\"#d8576b\"],[0.6666666666666666,\"#ed7953\"],[0.7777777777777778,\"#fb9f3a\"],[0.8888888888888888,\"#fdca26\"],[1.0,\"#f0f921\"]]}],\"heatmap\":[{\"type\":\"heatmap\",\"colorbar\":{\"outlinewidth\":0,\"ticks\":\"\"},\"colorscale\":[[0.0,\"#0d0887\"],[0.1111111111111111,\"#46039f\"],[0.2222222222222222,\"#7201a8\"],[0.3333333333333333,\"#9c179e\"],[0.4444444444444444,\"#bd3786\"],[0.5555555555555556,\"#d8576b\"],[0.6666666666666666,\"#ed7953\"],[0.7777777777777778,\"#fb9f3a\"],[0.8888888888888888,\"#fdca26\"],[1.0,\"#f0f921\"]]}],\"heatmapgl\":[{\"type\":\"heatmapgl\",\"colorbar\":{\"outlinewidth\":0,\"ticks\":\"\"},\"colorscale\":[[0.0,\"#0d0887\"],[0.1111111111111111,\"#46039f\"],[0.2222222222222222,\"#7201a8\"],[0.3333333333333333,\"#9c179e\"],[0.4444444444444444,\"#bd3786\"],[0.5555555555555556,\"#d8576b\"],[0.6666666666666666,\"#ed7953\"],[0.7777777777777778,\"#fb9f3a\"],[0.8888888888888888,\"#fdca26\"],[1.0,\"#f0f921\"]]}],\"contourcarpet\":[{\"type\":\"contourcarpet\",\"colorbar\":{\"outlinewidth\":0,\"ticks\":\"\"}}],\"contour\":[{\"type\":\"contour\",\"colorbar\":{\"outlinewidth\":0,\"ticks\":\"\"},\"colorscale\":[[0.0,\"#0d0887\"],[0.1111111111111111,\"#46039f\"],[0.2222222222222222,\"#7201a8\"],[0.3333333333333333,\"#9c179e\"],[0.4444444444444444,\"#bd3786\"],[0.5555555555555556,\"#d8576b\"],[0.6666666666666666,\"#ed7953\"],[0.7777777777777778,\"#fb9f3a\"],[0.8888888888888888,\"#fdca26\"],[1.0,\"#f0f921\"]]}],\"surface\":[{\"type\":\"surface\",\"colorbar\":{\"outlinewidth\":0,\"ticks\":\"\"},\"colorscale\":[[0.0,\"#0d0887\"],[0.1111111111111111,\"#46039f\"],[0.2222222222222222,\"#7201a8\"],[0.3333333333333333,\"#9c179e\"],[0.4444444444444444,\"#bd3786\"],[0.5555555555555556,\"#d8576b\"],[0.6666666666666666,\"#ed7953\"],[0.7777777777777778,\"#fb9f3a\"],[0.8888888888888888,\"#fdca26\"],[1.0,\"#f0f921\"]]}],\"mesh3d\":[{\"type\":\"mesh3d\",\"colorbar\":{\"outlinewidth\":0,\"ticks\":\"\"}}],\"scatter\":[{\"fillpattern\":{\"fillmode\":\"overlay\",\"size\":10,\"solidity\":0.2},\"type\":\"scatter\"}],\"parcoords\":[{\"type\":\"parcoords\",\"line\":{\"colorbar\":{\"outlinewidth\":0,\"ticks\":\"\"}}}],\"scatterpolargl\":[{\"type\":\"scatterpolargl\",\"marker\":{\"colorbar\":{\"outlinewidth\":0,\"ticks\":\"\"}}}],\"bar\":[{\"error_x\":{\"color\":\"#2a3f5f\"},\"error_y\":{\"color\":\"#2a3f5f\"},\"marker\":{\"line\":{\"color\":\"#E5ECF6\",\"width\":0.5},\"pattern\":{\"fillmode\":\"overlay\",\"size\":10,\"solidity\":0.2}},\"type\":\"bar\"}],\"scattergeo\":[{\"type\":\"scattergeo\",\"marker\":{\"colorbar\":{\"outlinewidth\":0,\"ticks\":\"\"}}}],\"scatterpolar\":[{\"type\":\"scatterpolar\",\"marker\":{\"colorbar\":{\"outlinewidth\":0,\"ticks\":\"\"}}}],\"histogram\":[{\"marker\":{\"pattern\":{\"fillmode\":\"overlay\",\"size\":10,\"solidity\":0.2}},\"type\":\"histogram\"}],\"scattergl\":[{\"type\":\"scattergl\",\"marker\":{\"colorbar\":{\"outlinewidth\":0,\"ticks\":\"\"}}}],\"scatter3d\":[{\"type\":\"scatter3d\",\"line\":{\"colorbar\":{\"outlinewidth\":0,\"ticks\":\"\"}},\"marker\":{\"colorbar\":{\"outlinewidth\":0,\"ticks\":\"\"}}}],\"scattermapbox\":[{\"type\":\"scattermapbox\",\"marker\":{\"colorbar\":{\"outlinewidth\":0,\"ticks\":\"\"}}}],\"scatterternary\":[{\"type\":\"scatterternary\",\"marker\":{\"colorbar\":{\"outlinewidth\":0,\"ticks\":\"\"}}}],\"scattercarpet\":[{\"type\":\"scattercarpet\",\"marker\":{\"colorbar\":{\"outlinewidth\":0,\"ticks\":\"\"}}}],\"carpet\":[{\"aaxis\":{\"endlinecolor\":\"#2a3f5f\",\"gridcolor\":\"white\",\"linecolor\":\"white\",\"minorgridcolor\":\"white\",\"startlinecolor\":\"#2a3f5f\"},\"baxis\":{\"endlinecolor\":\"#2a3f5f\",\"gridcolor\":\"white\",\"linecolor\":\"white\",\"minorgridcolor\":\"white\",\"startlinecolor\":\"#2a3f5f\"},\"type\":\"carpet\"}],\"table\":[{\"cells\":{\"fill\":{\"color\":\"#EBF0F8\"},\"line\":{\"color\":\"white\"}},\"header\":{\"fill\":{\"color\":\"#C8D4E3\"},\"line\":{\"color\":\"white\"}},\"type\":\"table\"}],\"barpolar\":[{\"marker\":{\"line\":{\"color\":\"#E5ECF6\",\"width\":0.5},\"pattern\":{\"fillmode\":\"overlay\",\"size\":10,\"solidity\":0.2}},\"type\":\"barpolar\"}],\"pie\":[{\"automargin\":true,\"type\":\"pie\"}]},\"layout\":{\"autotypenumbers\":\"strict\",\"colorway\":[\"#636efa\",\"#EF553B\",\"#00cc96\",\"#ab63fa\",\"#FFA15A\",\"#19d3f3\",\"#FF6692\",\"#B6E880\",\"#FF97FF\",\"#FECB52\"],\"font\":{\"color\":\"#2a3f5f\"},\"hovermode\":\"closest\",\"hoverlabel\":{\"align\":\"left\"},\"paper_bgcolor\":\"white\",\"plot_bgcolor\":\"#E5ECF6\",\"polar\":{\"bgcolor\":\"#E5ECF6\",\"angularaxis\":{\"gridcolor\":\"white\",\"linecolor\":\"white\",\"ticks\":\"\"},\"radialaxis\":{\"gridcolor\":\"white\",\"linecolor\":\"white\",\"ticks\":\"\"}},\"ternary\":{\"bgcolor\":\"#E5ECF6\",\"aaxis\":{\"gridcolor\":\"white\",\"linecolor\":\"white\",\"ticks\":\"\"},\"baxis\":{\"gridcolor\":\"white\",\"linecolor\":\"white\",\"ticks\":\"\"},\"caxis\":{\"gridcolor\":\"white\",\"linecolor\":\"white\",\"ticks\":\"\"}},\"coloraxis\":{\"colorbar\":{\"outlinewidth\":0,\"ticks\":\"\"}},\"colorscale\":{\"sequential\":[[0.0,\"#0d0887\"],[0.1111111111111111,\"#46039f\"],[0.2222222222222222,\"#7201a8\"],[0.3333333333333333,\"#9c179e\"],[0.4444444444444444,\"#bd3786\"],[0.5555555555555556,\"#d8576b\"],[0.6666666666666666,\"#ed7953\"],[0.7777777777777778,\"#fb9f3a\"],[0.8888888888888888,\"#fdca26\"],[1.0,\"#f0f921\"]],\"sequentialminus\":[[0.0,\"#0d0887\"],[0.1111111111111111,\"#46039f\"],[0.2222222222222222,\"#7201a8\"],[0.3333333333333333,\"#9c179e\"],[0.4444444444444444,\"#bd3786\"],[0.5555555555555556,\"#d8576b\"],[0.6666666666666666,\"#ed7953\"],[0.7777777777777778,\"#fb9f3a\"],[0.8888888888888888,\"#fdca26\"],[1.0,\"#f0f921\"]],\"diverging\":[[0,\"#8e0152\"],[0.1,\"#c51b7d\"],[0.2,\"#de77ae\"],[0.3,\"#f1b6da\"],[0.4,\"#fde0ef\"],[0.5,\"#f7f7f7\"],[0.6,\"#e6f5d0\"],[0.7,\"#b8e186\"],[0.8,\"#7fbc41\"],[0.9,\"#4d9221\"],[1,\"#276419\"]]},\"xaxis\":{\"gridcolor\":\"white\",\"linecolor\":\"white\",\"ticks\":\"\",\"title\":{\"standoff\":15},\"zerolinecolor\":\"white\",\"automargin\":true,\"zerolinewidth\":2},\"yaxis\":{\"gridcolor\":\"white\",\"linecolor\":\"white\",\"ticks\":\"\",\"title\":{\"standoff\":15},\"zerolinecolor\":\"white\",\"automargin\":true,\"zerolinewidth\":2},\"scene\":{\"xaxis\":{\"backgroundcolor\":\"#E5ECF6\",\"gridcolor\":\"white\",\"linecolor\":\"white\",\"showbackground\":true,\"ticks\":\"\",\"zerolinecolor\":\"white\",\"gridwidth\":2},\"yaxis\":{\"backgroundcolor\":\"#E5ECF6\",\"gridcolor\":\"white\",\"linecolor\":\"white\",\"showbackground\":true,\"ticks\":\"\",\"zerolinecolor\":\"white\",\"gridwidth\":2},\"zaxis\":{\"backgroundcolor\":\"#E5ECF6\",\"gridcolor\":\"white\",\"linecolor\":\"white\",\"showbackground\":true,\"ticks\":\"\",\"zerolinecolor\":\"white\",\"gridwidth\":2}},\"shapedefaults\":{\"line\":{\"color\":\"#2a3f5f\"}},\"annotationdefaults\":{\"arrowcolor\":\"#2a3f5f\",\"arrowhead\":0,\"arrowwidth\":1},\"geo\":{\"bgcolor\":\"white\",\"landcolor\":\"#E5ECF6\",\"subunitcolor\":\"white\",\"showland\":true,\"showlakes\":true,\"lakecolor\":\"white\"},\"title\":{\"x\":0.05},\"mapbox\":{\"style\":\"light\"}}},\"hovermode\":\"x\"},                        {\"responsive\": true}                    ).then(function(){\n",
       "                            \n",
       "var gd = document.getElementById('ff51f679-3b02-4216-bfb5-e96a275f1a2e');\n",
       "var x = new MutationObserver(function (mutations, observer) {{\n",
       "        var display = window.getComputedStyle(gd).display;\n",
       "        if (!display || display === 'none') {{\n",
       "            console.log([gd, 'removed!']);\n",
       "            Plotly.purge(gd);\n",
       "            observer.disconnect();\n",
       "        }}\n",
       "}});\n",
       "\n",
       "// Listen for the removal of the full notebook cells\n",
       "var notebookContainer = gd.closest('#notebook-container');\n",
       "if (notebookContainer) {{\n",
       "    x.observe(notebookContainer, {childList: true});\n",
       "}}\n",
       "\n",
       "// Listen for the clearing of the current output cell\n",
       "var outputEl = gd.closest('.output');\n",
       "if (outputEl) {{\n",
       "    x.observe(outputEl, {childList: true});\n",
       "}}\n",
       "\n",
       "                        })                };                });            </script>        </div>"
      ]
     },
     "metadata": {},
     "output_type": "display_data"
    }
   ],
   "source": [
    "daily_fig"
   ]
  },
  {
   "cell_type": "code",
   "execution_count": 31,
   "id": "f076fd1d",
   "metadata": {},
   "outputs": [
    {
     "data": {
      "application/vnd.plotly.v1+json": {
       "config": {
        "plotlyServerURL": "https://plot.ly"
       },
       "data": [
        {
         "mode": "lines",
         "name": "Prediction 2021-2022",
         "type": "scatter",
         "x": [
          "2022-10-15T00:00:00",
          "2022-10-15T01:00:00",
          "2022-10-15T02:00:00",
          "2022-10-15T03:00:00",
          "2022-10-15T04:00:00",
          "2022-10-15T05:00:00",
          "2022-10-15T06:00:00",
          "2022-10-15T07:00:00",
          "2022-10-15T08:00:00",
          "2022-10-15T09:00:00",
          "2022-10-15T10:00:00",
          "2022-10-15T11:00:00",
          "2022-10-15T12:00:00",
          "2022-10-15T13:00:00",
          "2022-10-15T14:00:00",
          "2022-10-15T15:00:00",
          "2022-10-15T16:00:00",
          "2022-10-15T17:00:00",
          "2022-10-15T18:00:00",
          "2022-10-15T19:00:00",
          "2022-10-15T20:00:00",
          "2022-10-15T21:00:00",
          "2022-10-15T22:00:00",
          "2022-10-15T23:00:00",
          "2022-10-16T00:00:00",
          "2022-10-16T01:00:00",
          "2022-10-16T02:00:00",
          "2022-10-16T03:00:00",
          "2022-10-16T04:00:00",
          "2022-10-16T05:00:00",
          "2022-10-16T06:00:00",
          "2022-10-16T07:00:00",
          "2022-10-16T08:00:00",
          "2022-10-16T09:00:00",
          "2022-10-16T10:00:00",
          "2022-10-16T11:00:00",
          "2022-10-16T12:00:00",
          "2022-10-16T13:00:00",
          "2022-10-16T14:00:00",
          "2022-10-16T15:00:00",
          "2022-10-16T16:00:00",
          "2022-10-16T17:00:00",
          "2022-10-16T18:00:00",
          "2022-10-16T19:00:00",
          "2022-10-16T20:00:00",
          "2022-10-16T21:00:00",
          "2022-10-16T22:00:00",
          "2022-10-16T23:00:00",
          "2022-10-17T00:00:00",
          "2022-10-17T01:00:00",
          "2022-10-17T02:00:00",
          "2022-10-17T03:00:00",
          "2022-10-17T04:00:00",
          "2022-10-17T05:00:00",
          "2022-10-17T06:00:00",
          "2022-10-17T07:00:00",
          "2022-10-17T08:00:00",
          "2022-10-17T09:00:00",
          "2022-10-17T10:00:00",
          "2022-10-17T11:00:00",
          "2022-10-17T12:00:00",
          "2022-10-17T13:00:00",
          "2022-10-17T14:00:00",
          "2022-10-17T15:00:00",
          "2022-10-17T16:00:00",
          "2022-10-17T17:00:00",
          "2022-10-17T18:00:00",
          "2022-10-17T19:00:00",
          "2022-10-17T20:00:00",
          "2022-10-17T21:00:00",
          "2022-10-17T22:00:00",
          "2022-10-17T23:00:00",
          "2022-10-18T00:00:00",
          "2022-10-18T01:00:00",
          "2022-10-18T02:00:00",
          "2022-10-18T03:00:00",
          "2022-10-18T04:00:00",
          "2022-10-18T05:00:00",
          "2022-10-18T06:00:00",
          "2022-10-18T07:00:00",
          "2022-10-18T08:00:00",
          "2022-10-18T09:00:00",
          "2022-10-18T10:00:00",
          "2022-10-18T11:00:00",
          "2022-10-18T12:00:00",
          "2022-10-18T13:00:00",
          "2022-10-18T14:00:00",
          "2022-10-18T15:00:00",
          "2022-10-18T16:00:00",
          "2022-10-18T17:00:00",
          "2022-10-18T18:00:00",
          "2022-10-18T19:00:00",
          "2022-10-18T20:00:00",
          "2022-10-18T21:00:00",
          "2022-10-18T22:00:00",
          "2022-10-18T23:00:00",
          "2022-10-19T00:00:00",
          "2022-10-19T01:00:00",
          "2022-10-19T02:00:00",
          "2022-10-19T03:00:00",
          "2022-10-19T04:00:00",
          "2022-10-19T05:00:00",
          "2022-10-19T06:00:00",
          "2022-10-19T07:00:00",
          "2022-10-19T08:00:00",
          "2022-10-19T09:00:00",
          "2022-10-19T10:00:00",
          "2022-10-19T11:00:00",
          "2022-10-19T12:00:00",
          "2022-10-19T13:00:00",
          "2022-10-19T14:00:00",
          "2022-10-19T15:00:00",
          "2022-10-19T16:00:00",
          "2022-10-19T17:00:00",
          "2022-10-19T18:00:00",
          "2022-10-19T19:00:00",
          "2022-10-19T20:00:00",
          "2022-10-19T21:00:00",
          "2022-10-19T22:00:00",
          "2022-10-19T23:00:00",
          "2022-10-20T00:00:00"
         ],
         "y": [
          157.13000000000497,
          124.94000000000398,
          95.84000000000316,
          35.27000000000111,
          16.520000000000575,
          17.200000000000486,
          38.07000000000115,
          101.58000000000364,
          215.18000000000794,
          329.210000000011,
          397.73000000001264,
          489.2000000000142,
          520.3200000000145,
          562.4900000000141,
          562.7200000000151,
          537.2700000000134,
          475.93000000001246,
          480.2300000000145,
          459.990000000014,
          301.2200000000108,
          231.92000000000843,
          215.30000000000777,
          197.47000000000682,
          186.8200000000065,
          159.0700000000051,
          143.53000000000517,
          105.4500000000036,
          38.01000000000103,
          27.5700000000004,
          10.580000000000119,
          40.19000000000102,
          62.15000000000178,
          155.12000000000552,
          232.74000000000865,
          353.5700000000121,
          410.9200000000127,
          480.50000000001387,
          475.24000000001286,
          505.0500000000121,
          492.49000000001325,
          490.5100000000135,
          451.0600000000132,
          395.9000000000125,
          257.95000000000886,
          155.6300000000061,
          134.95000000000485,
          105.83000000000375,
          61.610000000002174,
          57.11000000000153,
          14.48000000000024,
          15.450000000000434,
          6.780000000000167,
          13.100000000000204,
          40.88000000000063,
          113.32000000000448,
          322.82000000001136,
          497.22000000001475,
          420.59000000001333,
          289.66000000001054,
          294.12000000001103,
          358.540000000013,
          376.96000000001334,
          334.55000000001075,
          435.63000000001256,
          534.500000000014,
          633.3300000000161,
          669.0400000000142,
          438.360000000014,
          300.70000000001073,
          216.34000000000734,
          169.31000000000535,
          81.81000000000267,
          35.46000000000076,
          14.520000000000202,
          13.920000000000199,
          7.430000000000075,
          10.690000000000147,
          48.82000000000137,
          150.9300000000052,
          396.26000000001284,
          655.180000000015,
          515.1400000000152,
          364.81000000001285,
          294.76000000001005,
          370.1400000000122,
          363.0700000000119,
          419.11000000001343,
          494.88000000001455,
          680.1500000000161,
          929.1700000000154,
          883.5600000000153,
          573.0400000000146,
          361.6700000000122,
          314.1500000000102,
          288.7700000000094,
          155.91000000000483,
          66.03000000000202,
          24.360000000000504,
          5.150000000000113,
          12.270000000000232,
          12.490000000000288,
          48.570000000002025,
          158.49000000000734,
          423.7200000000125,
          716.5200000000136,
          544.3700000000142,
          421.68000000001456,
          391.20000000001284,
          390.56000000001245,
          413.22000000001276,
          405.5300000000129,
          471.19000000001364,
          734.6300000000152,
          1051.1300000000142,
          954.5000000000152,
          673.1100000000148,
          417.0100000000122,
          329.9800000000094,
          262.0300000000081,
          178.3600000000054,
          74.59000000000289
         ]
        },
        {
         "mode": "lines",
         "name": "Prediction 2021",
         "type": "scatter",
         "x": [
          "2022-10-15T00:00:00",
          "2022-10-15T01:00:00",
          "2022-10-15T02:00:00",
          "2022-10-15T03:00:00",
          "2022-10-15T04:00:00",
          "2022-10-15T05:00:00",
          "2022-10-15T06:00:00",
          "2022-10-15T07:00:00",
          "2022-10-15T08:00:00",
          "2022-10-15T09:00:00",
          "2022-10-15T10:00:00",
          "2022-10-15T11:00:00",
          "2022-10-15T12:00:00",
          "2022-10-15T13:00:00",
          "2022-10-15T14:00:00",
          "2022-10-15T15:00:00",
          "2022-10-15T16:00:00",
          "2022-10-15T17:00:00",
          "2022-10-15T18:00:00",
          "2022-10-15T19:00:00",
          "2022-10-15T20:00:00",
          "2022-10-15T21:00:00",
          "2022-10-15T22:00:00",
          "2022-10-15T23:00:00",
          "2022-10-16T00:00:00",
          "2022-10-16T01:00:00",
          "2022-10-16T02:00:00",
          "2022-10-16T03:00:00",
          "2022-10-16T04:00:00",
          "2022-10-16T05:00:00",
          "2022-10-16T06:00:00",
          "2022-10-16T07:00:00",
          "2022-10-16T08:00:00",
          "2022-10-16T09:00:00",
          "2022-10-16T10:00:00",
          "2022-10-16T11:00:00",
          "2022-10-16T12:00:00",
          "2022-10-16T13:00:00",
          "2022-10-16T14:00:00",
          "2022-10-16T15:00:00",
          "2022-10-16T16:00:00",
          "2022-10-16T17:00:00",
          "2022-10-16T18:00:00",
          "2022-10-16T19:00:00",
          "2022-10-16T20:00:00",
          "2022-10-16T21:00:00",
          "2022-10-16T22:00:00",
          "2022-10-16T23:00:00",
          "2022-10-17T00:00:00",
          "2022-10-17T01:00:00",
          "2022-10-17T02:00:00",
          "2022-10-17T03:00:00",
          "2022-10-17T04:00:00",
          "2022-10-17T05:00:00",
          "2022-10-17T06:00:00",
          "2022-10-17T07:00:00",
          "2022-10-17T08:00:00",
          "2022-10-17T09:00:00",
          "2022-10-17T10:00:00",
          "2022-10-17T11:00:00",
          "2022-10-17T12:00:00",
          "2022-10-17T13:00:00",
          "2022-10-17T14:00:00",
          "2022-10-17T15:00:00",
          "2022-10-17T16:00:00",
          "2022-10-17T17:00:00",
          "2022-10-17T18:00:00",
          "2022-10-17T19:00:00",
          "2022-10-17T20:00:00",
          "2022-10-17T21:00:00",
          "2022-10-17T22:00:00",
          "2022-10-17T23:00:00",
          "2022-10-18T00:00:00",
          "2022-10-18T01:00:00",
          "2022-10-18T02:00:00",
          "2022-10-18T03:00:00",
          "2022-10-18T04:00:00",
          "2022-10-18T05:00:00",
          "2022-10-18T06:00:00",
          "2022-10-18T07:00:00",
          "2022-10-18T08:00:00",
          "2022-10-18T09:00:00",
          "2022-10-18T10:00:00",
          "2022-10-18T11:00:00",
          "2022-10-18T12:00:00",
          "2022-10-18T13:00:00",
          "2022-10-18T14:00:00",
          "2022-10-18T15:00:00",
          "2022-10-18T16:00:00",
          "2022-10-18T17:00:00",
          "2022-10-18T18:00:00",
          "2022-10-18T19:00:00",
          "2022-10-18T20:00:00",
          "2022-10-18T21:00:00",
          "2022-10-18T22:00:00",
          "2022-10-18T23:00:00",
          "2022-10-19T00:00:00",
          "2022-10-19T01:00:00",
          "2022-10-19T02:00:00",
          "2022-10-19T03:00:00",
          "2022-10-19T04:00:00",
          "2022-10-19T05:00:00",
          "2022-10-19T06:00:00",
          "2022-10-19T07:00:00",
          "2022-10-19T08:00:00",
          "2022-10-19T09:00:00",
          "2022-10-19T10:00:00",
          "2022-10-19T11:00:00",
          "2022-10-19T12:00:00",
          "2022-10-19T13:00:00",
          "2022-10-19T14:00:00",
          "2022-10-19T15:00:00",
          "2022-10-19T16:00:00",
          "2022-10-19T17:00:00",
          "2022-10-19T18:00:00",
          "2022-10-19T19:00:00",
          "2022-10-19T20:00:00",
          "2022-10-19T21:00:00",
          "2022-10-19T22:00:00",
          "2022-10-19T23:00:00",
          "2022-10-20T00:00:00"
         ],
         "y": [
          152.6900000000055,
          119.00000000000408,
          88.99000000000319,
          33.16000000000077,
          16.36000000000063,
          15.730000000000294,
          40.27000000000128,
          107.84000000000405,
          239.19000000000827,
          350.91000000001173,
          412.9200000000119,
          493.8100000000139,
          526.9800000000141,
          581.1600000000147,
          592.9100000000147,
          573.2500000000141,
          523.6500000000128,
          531.870000000013,
          512.8500000000126,
          350.97000000001043,
          257.7700000000085,
          240.95000000000846,
          214.58000000000752,
          193.090000000007,
          158.78000000000503,
          145.99000000000427,
          99.91000000000328,
          38.080000000000695,
          28.160000000000547,
          11.1300000000002,
          40.35000000000066,
          70.78000000000239,
          170.180000000006,
          244.20000000000837,
          363.56000000001177,
          412.9700000000122,
          493.81000000001404,
          488.3000000000132,
          515.3800000000123,
          511.9600000000127,
          523.460000000013,
          470.94000000001296,
          420.0500000000123,
          288.1300000000088,
          176.00000000000597,
          151.56000000000566,
          117.06000000000451,
          68.39000000000269,
          61.660000000002064,
          15.45000000000034,
          16.96000000000058,
          7.740000000000233,
          14.340000000000195,
          41.77000000000078,
          115.87000000000454,
          339.5300000000118,
          542.4300000000143,
          460.7500000000144,
          326.66000000001145,
          319.0700000000114,
          392.95000000001306,
          427.0400000000138,
          364.9600000000105,
          470.8100000000126,
          570.7400000000146,
          692.7000000000148,
          720.4700000000133,
          513.680000000013,
          335.9300000000116,
          234.50000000000844,
          167.64000000000635,
          87.79000000000336,
          38.52000000000101,
          16.53000000000049,
          14.270000000000337,
          7.720000000000012,
          11.490000000000192,
          50.25000000000157,
          150.5100000000055,
          416.390000000012,
          696.6000000000146,
          555.380000000015,
          401.3800000000135,
          319.0400000000107,
          400.0900000000132,
          394.4400000000129,
          452.64000000001334,
          550.9100000000151,
          719.8200000000161,
          989.350000000016,
          963.1500000000136,
          633.6400000000134,
          392.6100000000118,
          336.38000000001114,
          285.07000000001,
          158.23000000000522,
          74.17000000000316,
          29.400000000001096,
          5.370000000000216,
          12.60000000000021,
          13.740000000000386,
          50.790000000002024,
          160.29000000000752,
          442.9400000000118,
          755.1600000000135,
          591.0200000000148,
          460.40000000001464,
          424.65000000001413,
          410.0000000000119,
          430.0100000000129,
          424.0400000000129,
          496.78000000001384,
          762.3300000000152,
          1110.0200000000152,
          966.9200000000143,
          734.7700000000152,
          432.22000000001196,
          341.7300000000104,
          257.4900000000076,
          170.1600000000055,
          83.700000000003
         ]
        },
        {
         "mode": "lines",
         "name": "Actual Demand",
         "type": "scatter",
         "x": [
          "2022-10-15T00:00:00",
          "2022-10-15T01:00:00",
          "2022-10-15T02:00:00",
          "2022-10-15T03:00:00",
          "2022-10-15T04:00:00",
          "2022-10-15T05:00:00",
          "2022-10-15T06:00:00",
          "2022-10-15T07:00:00",
          "2022-10-15T08:00:00",
          "2022-10-15T09:00:00",
          "2022-10-15T10:00:00",
          "2022-10-15T11:00:00",
          "2022-10-15T12:00:00",
          "2022-10-15T13:00:00",
          "2022-10-15T14:00:00",
          "2022-10-15T15:00:00",
          "2022-10-15T16:00:00",
          "2022-10-15T17:00:00",
          "2022-10-15T18:00:00",
          "2022-10-15T19:00:00",
          "2022-10-15T20:00:00",
          "2022-10-15T21:00:00",
          "2022-10-15T22:00:00",
          "2022-10-15T23:00:00",
          "2022-10-16T00:00:00",
          "2022-10-16T01:00:00",
          "2022-10-16T02:00:00",
          "2022-10-16T03:00:00",
          "2022-10-16T04:00:00",
          "2022-10-16T05:00:00",
          "2022-10-16T06:00:00",
          "2022-10-16T07:00:00",
          "2022-10-16T08:00:00",
          "2022-10-16T09:00:00",
          "2022-10-16T10:00:00",
          "2022-10-16T11:00:00",
          "2022-10-16T12:00:00",
          "2022-10-16T13:00:00",
          "2022-10-16T14:00:00",
          "2022-10-16T15:00:00",
          "2022-10-16T16:00:00",
          "2022-10-16T17:00:00",
          "2022-10-16T18:00:00",
          "2022-10-16T19:00:00",
          "2022-10-16T20:00:00",
          "2022-10-16T21:00:00",
          "2022-10-16T22:00:00",
          "2022-10-16T23:00:00",
          "2022-10-17T00:00:00",
          "2022-10-17T01:00:00",
          "2022-10-17T02:00:00",
          "2022-10-17T03:00:00",
          "2022-10-17T04:00:00",
          "2022-10-17T05:00:00",
          "2022-10-17T06:00:00",
          "2022-10-17T07:00:00",
          "2022-10-17T08:00:00",
          "2022-10-17T09:00:00",
          "2022-10-17T10:00:00",
          "2022-10-17T11:00:00",
          "2022-10-17T12:00:00",
          "2022-10-17T13:00:00",
          "2022-10-17T14:00:00",
          "2022-10-17T15:00:00",
          "2022-10-17T16:00:00",
          "2022-10-17T17:00:00",
          "2022-10-17T18:00:00",
          "2022-10-17T19:00:00",
          "2022-10-17T20:00:00",
          "2022-10-17T21:00:00",
          "2022-10-17T22:00:00",
          "2022-10-17T23:00:00",
          "2022-10-18T00:00:00",
          "2022-10-18T01:00:00",
          "2022-10-18T02:00:00",
          "2022-10-18T03:00:00",
          "2022-10-18T04:00:00",
          "2022-10-18T05:00:00",
          "2022-10-18T06:00:00",
          "2022-10-18T07:00:00",
          "2022-10-18T08:00:00",
          "2022-10-18T09:00:00",
          "2022-10-18T10:00:00",
          "2022-10-18T11:00:00",
          "2022-10-18T12:00:00",
          "2022-10-18T13:00:00",
          "2022-10-18T14:00:00",
          "2022-10-18T15:00:00",
          "2022-10-18T16:00:00",
          "2022-10-18T17:00:00",
          "2022-10-18T18:00:00",
          "2022-10-18T19:00:00",
          "2022-10-18T20:00:00",
          "2022-10-18T21:00:00",
          "2022-10-18T22:00:00",
          "2022-10-18T23:00:00",
          "2022-10-19T00:00:00",
          "2022-10-19T01:00:00",
          "2022-10-19T02:00:00",
          "2022-10-19T03:00:00",
          "2022-10-19T04:00:00",
          "2022-10-19T05:00:00",
          "2022-10-19T06:00:00",
          "2022-10-19T07:00:00",
          "2022-10-19T08:00:00",
          "2022-10-19T09:00:00",
          "2022-10-19T10:00:00",
          "2022-10-19T11:00:00",
          "2022-10-19T12:00:00",
          "2022-10-19T13:00:00",
          "2022-10-19T14:00:00",
          "2022-10-19T15:00:00",
          "2022-10-19T16:00:00",
          "2022-10-19T17:00:00",
          "2022-10-19T18:00:00",
          "2022-10-19T19:00:00",
          "2022-10-19T20:00:00",
          "2022-10-19T21:00:00",
          "2022-10-19T22:00:00",
          "2022-10-19T23:00:00",
          "2022-10-20T00:00:00"
         ],
         "y": [
          144.99999999999994,
          126.00000000000006,
          70.99999999999991,
          29.99999999999993,
          17.999999999999982,
          16.99999999999996,
          29.999999999999986,
          72.99999999999994,
          166.00000000000009,
          252.0000000000003,
          373.00000000000006,
          438.00000000000034,
          519.0000000000003,
          543.0000000000002,
          555.0000000000002,
          504.0000000000003,
          456.0000000000001,
          450.00000000000045,
          433.0000000000002,
          303.0000000000003,
          232.00000000000006,
          207.00000000000023,
          181,
          188.00000000000009,
          189.00000000000017,
          125.99999999999993,
          102.99999999999997,
          31.99999999999994,
          26.999999999999954,
          9.999999999999988,
          35.99999999999997,
          51.99999999999993,
          134.99999999999997,
          230.00000000000014,
          324.00000000000034,
          356.0000000000005,
          469.00000000000034,
          468.0000000000005,
          453.00000000000017,
          450.00000000000017,
          496.0000000000003,
          391.0000000000001,
          388.0000000000002,
          222,
          150.00000000000009,
          127.99999999999994,
          98.99999999999979,
          52.00000000000002,
          47.99999999999989,
          12.999999999999988,
          11.999999999999998,
          6.999999999999987,
          11.999999999999998,
          38.99999999999997,
          112.99999999999982,
          297.0000000000001,
          557.0000000000003,
          455.00000000000017,
          264.0000000000003,
          262.0000000000001,
          314.00000000000034,
          338.0000000000001,
          288.00000000000034,
          383.0000000000001,
          518.0000000000002,
          788.0000000000003,
          638.0000000000003,
          444.0000000000001,
          282.0000000000002,
          169.99999999999986,
          139.99999999999991,
          72.99999999999989,
          37.99999999999994,
          15.000000000000023,
          13.999999999999973,
          6.999999999999999,
          9.999999999999998,
          53.99999999999993,
          145.99999999999991,
          402.0000000000002,
          714.0000000000003,
          537.0000000000002,
          328.0000000000002,
          281.0000000000002,
          354.0000000000002,
          334.00000000000017,
          367.0000000000004,
          436.0000000000004,
          687.0000000000002,
          1034.0000000000005,
          884.0000000000003,
          541.0000000000003,
          320.00000000000034,
          291.00000000000034,
          313.00000000000017,
          103.99999999999991,
          60.9999999999999,
          19.999999999999986,
          3.999999999999999,
          10.999999999999998,
          11.999999999999986,
          40.99999999999996,
          143.9999999999999,
          400.0000000000003,
          683.0000000000003,
          533.0000000000001,
          366.00000000000017,
          362.0000000000001,
          378.00000000000017,
          332.0000000000002,
          320.0000000000004,
          441.0000000000004,
          677.0000000000002,
          984.0000000000002,
          899.0000000000002,
          561.0000000000002,
          352.0000000000002,
          287.0000000000001,
          212.00000000000014,
          120.00000000000001,
          66.99999999999993
         ]
        }
       ],
       "layout": {
        "hovermode": "x",
        "template": {
         "data": {
          "bar": [
           {
            "error_x": {
             "color": "#2a3f5f"
            },
            "error_y": {
             "color": "#2a3f5f"
            },
            "marker": {
             "line": {
              "color": "#E5ECF6",
              "width": 0.5
             },
             "pattern": {
              "fillmode": "overlay",
              "size": 10,
              "solidity": 0.2
             }
            },
            "type": "bar"
           }
          ],
          "barpolar": [
           {
            "marker": {
             "line": {
              "color": "#E5ECF6",
              "width": 0.5
             },
             "pattern": {
              "fillmode": "overlay",
              "size": 10,
              "solidity": 0.2
             }
            },
            "type": "barpolar"
           }
          ],
          "carpet": [
           {
            "aaxis": {
             "endlinecolor": "#2a3f5f",
             "gridcolor": "white",
             "linecolor": "white",
             "minorgridcolor": "white",
             "startlinecolor": "#2a3f5f"
            },
            "baxis": {
             "endlinecolor": "#2a3f5f",
             "gridcolor": "white",
             "linecolor": "white",
             "minorgridcolor": "white",
             "startlinecolor": "#2a3f5f"
            },
            "type": "carpet"
           }
          ],
          "choropleth": [
           {
            "colorbar": {
             "outlinewidth": 0,
             "ticks": ""
            },
            "type": "choropleth"
           }
          ],
          "contour": [
           {
            "colorbar": {
             "outlinewidth": 0,
             "ticks": ""
            },
            "colorscale": [
             [
              0,
              "#0d0887"
             ],
             [
              0.1111111111111111,
              "#46039f"
             ],
             [
              0.2222222222222222,
              "#7201a8"
             ],
             [
              0.3333333333333333,
              "#9c179e"
             ],
             [
              0.4444444444444444,
              "#bd3786"
             ],
             [
              0.5555555555555556,
              "#d8576b"
             ],
             [
              0.6666666666666666,
              "#ed7953"
             ],
             [
              0.7777777777777778,
              "#fb9f3a"
             ],
             [
              0.8888888888888888,
              "#fdca26"
             ],
             [
              1,
              "#f0f921"
             ]
            ],
            "type": "contour"
           }
          ],
          "contourcarpet": [
           {
            "colorbar": {
             "outlinewidth": 0,
             "ticks": ""
            },
            "type": "contourcarpet"
           }
          ],
          "heatmap": [
           {
            "colorbar": {
             "outlinewidth": 0,
             "ticks": ""
            },
            "colorscale": [
             [
              0,
              "#0d0887"
             ],
             [
              0.1111111111111111,
              "#46039f"
             ],
             [
              0.2222222222222222,
              "#7201a8"
             ],
             [
              0.3333333333333333,
              "#9c179e"
             ],
             [
              0.4444444444444444,
              "#bd3786"
             ],
             [
              0.5555555555555556,
              "#d8576b"
             ],
             [
              0.6666666666666666,
              "#ed7953"
             ],
             [
              0.7777777777777778,
              "#fb9f3a"
             ],
             [
              0.8888888888888888,
              "#fdca26"
             ],
             [
              1,
              "#f0f921"
             ]
            ],
            "type": "heatmap"
           }
          ],
          "heatmapgl": [
           {
            "colorbar": {
             "outlinewidth": 0,
             "ticks": ""
            },
            "colorscale": [
             [
              0,
              "#0d0887"
             ],
             [
              0.1111111111111111,
              "#46039f"
             ],
             [
              0.2222222222222222,
              "#7201a8"
             ],
             [
              0.3333333333333333,
              "#9c179e"
             ],
             [
              0.4444444444444444,
              "#bd3786"
             ],
             [
              0.5555555555555556,
              "#d8576b"
             ],
             [
              0.6666666666666666,
              "#ed7953"
             ],
             [
              0.7777777777777778,
              "#fb9f3a"
             ],
             [
              0.8888888888888888,
              "#fdca26"
             ],
             [
              1,
              "#f0f921"
             ]
            ],
            "type": "heatmapgl"
           }
          ],
          "histogram": [
           {
            "marker": {
             "pattern": {
              "fillmode": "overlay",
              "size": 10,
              "solidity": 0.2
             }
            },
            "type": "histogram"
           }
          ],
          "histogram2d": [
           {
            "colorbar": {
             "outlinewidth": 0,
             "ticks": ""
            },
            "colorscale": [
             [
              0,
              "#0d0887"
             ],
             [
              0.1111111111111111,
              "#46039f"
             ],
             [
              0.2222222222222222,
              "#7201a8"
             ],
             [
              0.3333333333333333,
              "#9c179e"
             ],
             [
              0.4444444444444444,
              "#bd3786"
             ],
             [
              0.5555555555555556,
              "#d8576b"
             ],
             [
              0.6666666666666666,
              "#ed7953"
             ],
             [
              0.7777777777777778,
              "#fb9f3a"
             ],
             [
              0.8888888888888888,
              "#fdca26"
             ],
             [
              1,
              "#f0f921"
             ]
            ],
            "type": "histogram2d"
           }
          ],
          "histogram2dcontour": [
           {
            "colorbar": {
             "outlinewidth": 0,
             "ticks": ""
            },
            "colorscale": [
             [
              0,
              "#0d0887"
             ],
             [
              0.1111111111111111,
              "#46039f"
             ],
             [
              0.2222222222222222,
              "#7201a8"
             ],
             [
              0.3333333333333333,
              "#9c179e"
             ],
             [
              0.4444444444444444,
              "#bd3786"
             ],
             [
              0.5555555555555556,
              "#d8576b"
             ],
             [
              0.6666666666666666,
              "#ed7953"
             ],
             [
              0.7777777777777778,
              "#fb9f3a"
             ],
             [
              0.8888888888888888,
              "#fdca26"
             ],
             [
              1,
              "#f0f921"
             ]
            ],
            "type": "histogram2dcontour"
           }
          ],
          "mesh3d": [
           {
            "colorbar": {
             "outlinewidth": 0,
             "ticks": ""
            },
            "type": "mesh3d"
           }
          ],
          "parcoords": [
           {
            "line": {
             "colorbar": {
              "outlinewidth": 0,
              "ticks": ""
             }
            },
            "type": "parcoords"
           }
          ],
          "pie": [
           {
            "automargin": true,
            "type": "pie"
           }
          ],
          "scatter": [
           {
            "fillpattern": {
             "fillmode": "overlay",
             "size": 10,
             "solidity": 0.2
            },
            "type": "scatter"
           }
          ],
          "scatter3d": [
           {
            "line": {
             "colorbar": {
              "outlinewidth": 0,
              "ticks": ""
             }
            },
            "marker": {
             "colorbar": {
              "outlinewidth": 0,
              "ticks": ""
             }
            },
            "type": "scatter3d"
           }
          ],
          "scattercarpet": [
           {
            "marker": {
             "colorbar": {
              "outlinewidth": 0,
              "ticks": ""
             }
            },
            "type": "scattercarpet"
           }
          ],
          "scattergeo": [
           {
            "marker": {
             "colorbar": {
              "outlinewidth": 0,
              "ticks": ""
             }
            },
            "type": "scattergeo"
           }
          ],
          "scattergl": [
           {
            "marker": {
             "colorbar": {
              "outlinewidth": 0,
              "ticks": ""
             }
            },
            "type": "scattergl"
           }
          ],
          "scattermapbox": [
           {
            "marker": {
             "colorbar": {
              "outlinewidth": 0,
              "ticks": ""
             }
            },
            "type": "scattermapbox"
           }
          ],
          "scatterpolar": [
           {
            "marker": {
             "colorbar": {
              "outlinewidth": 0,
              "ticks": ""
             }
            },
            "type": "scatterpolar"
           }
          ],
          "scatterpolargl": [
           {
            "marker": {
             "colorbar": {
              "outlinewidth": 0,
              "ticks": ""
             }
            },
            "type": "scatterpolargl"
           }
          ],
          "scatterternary": [
           {
            "marker": {
             "colorbar": {
              "outlinewidth": 0,
              "ticks": ""
             }
            },
            "type": "scatterternary"
           }
          ],
          "surface": [
           {
            "colorbar": {
             "outlinewidth": 0,
             "ticks": ""
            },
            "colorscale": [
             [
              0,
              "#0d0887"
             ],
             [
              0.1111111111111111,
              "#46039f"
             ],
             [
              0.2222222222222222,
              "#7201a8"
             ],
             [
              0.3333333333333333,
              "#9c179e"
             ],
             [
              0.4444444444444444,
              "#bd3786"
             ],
             [
              0.5555555555555556,
              "#d8576b"
             ],
             [
              0.6666666666666666,
              "#ed7953"
             ],
             [
              0.7777777777777778,
              "#fb9f3a"
             ],
             [
              0.8888888888888888,
              "#fdca26"
             ],
             [
              1,
              "#f0f921"
             ]
            ],
            "type": "surface"
           }
          ],
          "table": [
           {
            "cells": {
             "fill": {
              "color": "#EBF0F8"
             },
             "line": {
              "color": "white"
             }
            },
            "header": {
             "fill": {
              "color": "#C8D4E3"
             },
             "line": {
              "color": "white"
             }
            },
            "type": "table"
           }
          ]
         },
         "layout": {
          "annotationdefaults": {
           "arrowcolor": "#2a3f5f",
           "arrowhead": 0,
           "arrowwidth": 1
          },
          "autotypenumbers": "strict",
          "coloraxis": {
           "colorbar": {
            "outlinewidth": 0,
            "ticks": ""
           }
          },
          "colorscale": {
           "diverging": [
            [
             0,
             "#8e0152"
            ],
            [
             0.1,
             "#c51b7d"
            ],
            [
             0.2,
             "#de77ae"
            ],
            [
             0.3,
             "#f1b6da"
            ],
            [
             0.4,
             "#fde0ef"
            ],
            [
             0.5,
             "#f7f7f7"
            ],
            [
             0.6,
             "#e6f5d0"
            ],
            [
             0.7,
             "#b8e186"
            ],
            [
             0.8,
             "#7fbc41"
            ],
            [
             0.9,
             "#4d9221"
            ],
            [
             1,
             "#276419"
            ]
           ],
           "sequential": [
            [
             0,
             "#0d0887"
            ],
            [
             0.1111111111111111,
             "#46039f"
            ],
            [
             0.2222222222222222,
             "#7201a8"
            ],
            [
             0.3333333333333333,
             "#9c179e"
            ],
            [
             0.4444444444444444,
             "#bd3786"
            ],
            [
             0.5555555555555556,
             "#d8576b"
            ],
            [
             0.6666666666666666,
             "#ed7953"
            ],
            [
             0.7777777777777778,
             "#fb9f3a"
            ],
            [
             0.8888888888888888,
             "#fdca26"
            ],
            [
             1,
             "#f0f921"
            ]
           ],
           "sequentialminus": [
            [
             0,
             "#0d0887"
            ],
            [
             0.1111111111111111,
             "#46039f"
            ],
            [
             0.2222222222222222,
             "#7201a8"
            ],
            [
             0.3333333333333333,
             "#9c179e"
            ],
            [
             0.4444444444444444,
             "#bd3786"
            ],
            [
             0.5555555555555556,
             "#d8576b"
            ],
            [
             0.6666666666666666,
             "#ed7953"
            ],
            [
             0.7777777777777778,
             "#fb9f3a"
            ],
            [
             0.8888888888888888,
             "#fdca26"
            ],
            [
             1,
             "#f0f921"
            ]
           ]
          },
          "colorway": [
           "#636efa",
           "#EF553B",
           "#00cc96",
           "#ab63fa",
           "#FFA15A",
           "#19d3f3",
           "#FF6692",
           "#B6E880",
           "#FF97FF",
           "#FECB52"
          ],
          "font": {
           "color": "#2a3f5f"
          },
          "geo": {
           "bgcolor": "white",
           "lakecolor": "white",
           "landcolor": "#E5ECF6",
           "showlakes": true,
           "showland": true,
           "subunitcolor": "white"
          },
          "hoverlabel": {
           "align": "left"
          },
          "hovermode": "closest",
          "mapbox": {
           "style": "light"
          },
          "paper_bgcolor": "white",
          "plot_bgcolor": "#E5ECF6",
          "polar": {
           "angularaxis": {
            "gridcolor": "white",
            "linecolor": "white",
            "ticks": ""
           },
           "bgcolor": "#E5ECF6",
           "radialaxis": {
            "gridcolor": "white",
            "linecolor": "white",
            "ticks": ""
           }
          },
          "scene": {
           "xaxis": {
            "backgroundcolor": "#E5ECF6",
            "gridcolor": "white",
            "gridwidth": 2,
            "linecolor": "white",
            "showbackground": true,
            "ticks": "",
            "zerolinecolor": "white"
           },
           "yaxis": {
            "backgroundcolor": "#E5ECF6",
            "gridcolor": "white",
            "gridwidth": 2,
            "linecolor": "white",
            "showbackground": true,
            "ticks": "",
            "zerolinecolor": "white"
           },
           "zaxis": {
            "backgroundcolor": "#E5ECF6",
            "gridcolor": "white",
            "gridwidth": 2,
            "linecolor": "white",
            "showbackground": true,
            "ticks": "",
            "zerolinecolor": "white"
           }
          },
          "shapedefaults": {
           "line": {
            "color": "#2a3f5f"
           }
          },
          "ternary": {
           "aaxis": {
            "gridcolor": "white",
            "linecolor": "white",
            "ticks": ""
           },
           "baxis": {
            "gridcolor": "white",
            "linecolor": "white",
            "ticks": ""
           },
           "bgcolor": "#E5ECF6",
           "caxis": {
            "gridcolor": "white",
            "linecolor": "white",
            "ticks": ""
           }
          },
          "title": {
           "x": 0.05
          },
          "xaxis": {
           "automargin": true,
           "gridcolor": "white",
           "linecolor": "white",
           "ticks": "",
           "title": {
            "standoff": 15
           },
           "zerolinecolor": "white",
           "zerolinewidth": 2
          },
          "yaxis": {
           "automargin": true,
           "gridcolor": "white",
           "linecolor": "white",
           "ticks": "",
           "title": {
            "standoff": 15
           },
           "zerolinecolor": "white",
           "zerolinewidth": 2
          }
         }
        }
       }
      },
      "text/html": [
       "<div>                            <div id=\"9363152b-a2d2-4bf9-8b29-ec20ef646019\" class=\"plotly-graph-div\" style=\"height:525px; width:100%;\"></div>            <script type=\"text/javascript\">                require([\"plotly\"], function(Plotly) {                    window.PLOTLYENV=window.PLOTLYENV || {};                                    if (document.getElementById(\"9363152b-a2d2-4bf9-8b29-ec20ef646019\")) {                    Plotly.newPlot(                        \"9363152b-a2d2-4bf9-8b29-ec20ef646019\",                        [{\"mode\":\"lines\",\"name\":\"Prediction 2021-2022\",\"x\":[\"2022-10-15T00:00:00\",\"2022-10-15T01:00:00\",\"2022-10-15T02:00:00\",\"2022-10-15T03:00:00\",\"2022-10-15T04:00:00\",\"2022-10-15T05:00:00\",\"2022-10-15T06:00:00\",\"2022-10-15T07:00:00\",\"2022-10-15T08:00:00\",\"2022-10-15T09:00:00\",\"2022-10-15T10:00:00\",\"2022-10-15T11:00:00\",\"2022-10-15T12:00:00\",\"2022-10-15T13:00:00\",\"2022-10-15T14:00:00\",\"2022-10-15T15:00:00\",\"2022-10-15T16:00:00\",\"2022-10-15T17:00:00\",\"2022-10-15T18:00:00\",\"2022-10-15T19:00:00\",\"2022-10-15T20:00:00\",\"2022-10-15T21:00:00\",\"2022-10-15T22:00:00\",\"2022-10-15T23:00:00\",\"2022-10-16T00:00:00\",\"2022-10-16T01:00:00\",\"2022-10-16T02:00:00\",\"2022-10-16T03:00:00\",\"2022-10-16T04:00:00\",\"2022-10-16T05:00:00\",\"2022-10-16T06:00:00\",\"2022-10-16T07:00:00\",\"2022-10-16T08:00:00\",\"2022-10-16T09:00:00\",\"2022-10-16T10:00:00\",\"2022-10-16T11:00:00\",\"2022-10-16T12:00:00\",\"2022-10-16T13:00:00\",\"2022-10-16T14:00:00\",\"2022-10-16T15:00:00\",\"2022-10-16T16:00:00\",\"2022-10-16T17:00:00\",\"2022-10-16T18:00:00\",\"2022-10-16T19:00:00\",\"2022-10-16T20:00:00\",\"2022-10-16T21:00:00\",\"2022-10-16T22:00:00\",\"2022-10-16T23:00:00\",\"2022-10-17T00:00:00\",\"2022-10-17T01:00:00\",\"2022-10-17T02:00:00\",\"2022-10-17T03:00:00\",\"2022-10-17T04:00:00\",\"2022-10-17T05:00:00\",\"2022-10-17T06:00:00\",\"2022-10-17T07:00:00\",\"2022-10-17T08:00:00\",\"2022-10-17T09:00:00\",\"2022-10-17T10:00:00\",\"2022-10-17T11:00:00\",\"2022-10-17T12:00:00\",\"2022-10-17T13:00:00\",\"2022-10-17T14:00:00\",\"2022-10-17T15:00:00\",\"2022-10-17T16:00:00\",\"2022-10-17T17:00:00\",\"2022-10-17T18:00:00\",\"2022-10-17T19:00:00\",\"2022-10-17T20:00:00\",\"2022-10-17T21:00:00\",\"2022-10-17T22:00:00\",\"2022-10-17T23:00:00\",\"2022-10-18T00:00:00\",\"2022-10-18T01:00:00\",\"2022-10-18T02:00:00\",\"2022-10-18T03:00:00\",\"2022-10-18T04:00:00\",\"2022-10-18T05:00:00\",\"2022-10-18T06:00:00\",\"2022-10-18T07:00:00\",\"2022-10-18T08:00:00\",\"2022-10-18T09:00:00\",\"2022-10-18T10:00:00\",\"2022-10-18T11:00:00\",\"2022-10-18T12:00:00\",\"2022-10-18T13:00:00\",\"2022-10-18T14:00:00\",\"2022-10-18T15:00:00\",\"2022-10-18T16:00:00\",\"2022-10-18T17:00:00\",\"2022-10-18T18:00:00\",\"2022-10-18T19:00:00\",\"2022-10-18T20:00:00\",\"2022-10-18T21:00:00\",\"2022-10-18T22:00:00\",\"2022-10-18T23:00:00\",\"2022-10-19T00:00:00\",\"2022-10-19T01:00:00\",\"2022-10-19T02:00:00\",\"2022-10-19T03:00:00\",\"2022-10-19T04:00:00\",\"2022-10-19T05:00:00\",\"2022-10-19T06:00:00\",\"2022-10-19T07:00:00\",\"2022-10-19T08:00:00\",\"2022-10-19T09:00:00\",\"2022-10-19T10:00:00\",\"2022-10-19T11:00:00\",\"2022-10-19T12:00:00\",\"2022-10-19T13:00:00\",\"2022-10-19T14:00:00\",\"2022-10-19T15:00:00\",\"2022-10-19T16:00:00\",\"2022-10-19T17:00:00\",\"2022-10-19T18:00:00\",\"2022-10-19T19:00:00\",\"2022-10-19T20:00:00\",\"2022-10-19T21:00:00\",\"2022-10-19T22:00:00\",\"2022-10-19T23:00:00\",\"2022-10-20T00:00:00\"],\"y\":[157.13000000000497,124.94000000000398,95.84000000000316,35.27000000000111,16.520000000000575,17.200000000000486,38.07000000000115,101.58000000000364,215.18000000000794,329.210000000011,397.73000000001264,489.2000000000142,520.3200000000145,562.4900000000141,562.7200000000151,537.2700000000134,475.93000000001246,480.2300000000145,459.990000000014,301.2200000000108,231.92000000000843,215.30000000000777,197.47000000000682,186.8200000000065,159.0700000000051,143.53000000000517,105.4500000000036,38.01000000000103,27.5700000000004,10.580000000000119,40.19000000000102,62.15000000000178,155.12000000000552,232.74000000000865,353.5700000000121,410.9200000000127,480.50000000001387,475.24000000001286,505.0500000000121,492.49000000001325,490.5100000000135,451.0600000000132,395.9000000000125,257.95000000000886,155.6300000000061,134.95000000000485,105.83000000000375,61.610000000002174,57.11000000000153,14.48000000000024,15.450000000000434,6.780000000000167,13.100000000000204,40.88000000000063,113.32000000000448,322.82000000001136,497.22000000001475,420.59000000001333,289.66000000001054,294.12000000001103,358.540000000013,376.96000000001334,334.55000000001075,435.63000000001256,534.500000000014,633.3300000000161,669.0400000000142,438.360000000014,300.70000000001073,216.34000000000734,169.31000000000535,81.81000000000267,35.46000000000076,14.520000000000202,13.920000000000199,7.430000000000075,10.690000000000147,48.82000000000137,150.9300000000052,396.26000000001284,655.180000000015,515.1400000000152,364.81000000001285,294.76000000001005,370.1400000000122,363.0700000000119,419.11000000001343,494.88000000001455,680.1500000000161,929.1700000000154,883.5600000000153,573.0400000000146,361.6700000000122,314.1500000000102,288.7700000000094,155.91000000000483,66.03000000000202,24.360000000000504,5.150000000000113,12.270000000000232,12.490000000000288,48.570000000002025,158.49000000000734,423.7200000000125,716.5200000000136,544.3700000000142,421.68000000001456,391.20000000001284,390.56000000001245,413.22000000001276,405.5300000000129,471.19000000001364,734.6300000000152,1051.1300000000142,954.5000000000152,673.1100000000148,417.0100000000122,329.9800000000094,262.0300000000081,178.3600000000054,74.59000000000289],\"type\":\"scatter\"},{\"mode\":\"lines\",\"name\":\"Prediction 2021\",\"x\":[\"2022-10-15T00:00:00\",\"2022-10-15T01:00:00\",\"2022-10-15T02:00:00\",\"2022-10-15T03:00:00\",\"2022-10-15T04:00:00\",\"2022-10-15T05:00:00\",\"2022-10-15T06:00:00\",\"2022-10-15T07:00:00\",\"2022-10-15T08:00:00\",\"2022-10-15T09:00:00\",\"2022-10-15T10:00:00\",\"2022-10-15T11:00:00\",\"2022-10-15T12:00:00\",\"2022-10-15T13:00:00\",\"2022-10-15T14:00:00\",\"2022-10-15T15:00:00\",\"2022-10-15T16:00:00\",\"2022-10-15T17:00:00\",\"2022-10-15T18:00:00\",\"2022-10-15T19:00:00\",\"2022-10-15T20:00:00\",\"2022-10-15T21:00:00\",\"2022-10-15T22:00:00\",\"2022-10-15T23:00:00\",\"2022-10-16T00:00:00\",\"2022-10-16T01:00:00\",\"2022-10-16T02:00:00\",\"2022-10-16T03:00:00\",\"2022-10-16T04:00:00\",\"2022-10-16T05:00:00\",\"2022-10-16T06:00:00\",\"2022-10-16T07:00:00\",\"2022-10-16T08:00:00\",\"2022-10-16T09:00:00\",\"2022-10-16T10:00:00\",\"2022-10-16T11:00:00\",\"2022-10-16T12:00:00\",\"2022-10-16T13:00:00\",\"2022-10-16T14:00:00\",\"2022-10-16T15:00:00\",\"2022-10-16T16:00:00\",\"2022-10-16T17:00:00\",\"2022-10-16T18:00:00\",\"2022-10-16T19:00:00\",\"2022-10-16T20:00:00\",\"2022-10-16T21:00:00\",\"2022-10-16T22:00:00\",\"2022-10-16T23:00:00\",\"2022-10-17T00:00:00\",\"2022-10-17T01:00:00\",\"2022-10-17T02:00:00\",\"2022-10-17T03:00:00\",\"2022-10-17T04:00:00\",\"2022-10-17T05:00:00\",\"2022-10-17T06:00:00\",\"2022-10-17T07:00:00\",\"2022-10-17T08:00:00\",\"2022-10-17T09:00:00\",\"2022-10-17T10:00:00\",\"2022-10-17T11:00:00\",\"2022-10-17T12:00:00\",\"2022-10-17T13:00:00\",\"2022-10-17T14:00:00\",\"2022-10-17T15:00:00\",\"2022-10-17T16:00:00\",\"2022-10-17T17:00:00\",\"2022-10-17T18:00:00\",\"2022-10-17T19:00:00\",\"2022-10-17T20:00:00\",\"2022-10-17T21:00:00\",\"2022-10-17T22:00:00\",\"2022-10-17T23:00:00\",\"2022-10-18T00:00:00\",\"2022-10-18T01:00:00\",\"2022-10-18T02:00:00\",\"2022-10-18T03:00:00\",\"2022-10-18T04:00:00\",\"2022-10-18T05:00:00\",\"2022-10-18T06:00:00\",\"2022-10-18T07:00:00\",\"2022-10-18T08:00:00\",\"2022-10-18T09:00:00\",\"2022-10-18T10:00:00\",\"2022-10-18T11:00:00\",\"2022-10-18T12:00:00\",\"2022-10-18T13:00:00\",\"2022-10-18T14:00:00\",\"2022-10-18T15:00:00\",\"2022-10-18T16:00:00\",\"2022-10-18T17:00:00\",\"2022-10-18T18:00:00\",\"2022-10-18T19:00:00\",\"2022-10-18T20:00:00\",\"2022-10-18T21:00:00\",\"2022-10-18T22:00:00\",\"2022-10-18T23:00:00\",\"2022-10-19T00:00:00\",\"2022-10-19T01:00:00\",\"2022-10-19T02:00:00\",\"2022-10-19T03:00:00\",\"2022-10-19T04:00:00\",\"2022-10-19T05:00:00\",\"2022-10-19T06:00:00\",\"2022-10-19T07:00:00\",\"2022-10-19T08:00:00\",\"2022-10-19T09:00:00\",\"2022-10-19T10:00:00\",\"2022-10-19T11:00:00\",\"2022-10-19T12:00:00\",\"2022-10-19T13:00:00\",\"2022-10-19T14:00:00\",\"2022-10-19T15:00:00\",\"2022-10-19T16:00:00\",\"2022-10-19T17:00:00\",\"2022-10-19T18:00:00\",\"2022-10-19T19:00:00\",\"2022-10-19T20:00:00\",\"2022-10-19T21:00:00\",\"2022-10-19T22:00:00\",\"2022-10-19T23:00:00\",\"2022-10-20T00:00:00\"],\"y\":[152.6900000000055,119.00000000000408,88.99000000000319,33.16000000000077,16.36000000000063,15.730000000000294,40.27000000000128,107.84000000000405,239.19000000000827,350.91000000001173,412.9200000000119,493.8100000000139,526.9800000000141,581.1600000000147,592.9100000000147,573.2500000000141,523.6500000000128,531.870000000013,512.8500000000126,350.97000000001043,257.7700000000085,240.95000000000846,214.58000000000752,193.090000000007,158.78000000000503,145.99000000000427,99.91000000000328,38.080000000000695,28.160000000000547,11.1300000000002,40.35000000000066,70.78000000000239,170.180000000006,244.20000000000837,363.56000000001177,412.9700000000122,493.81000000001404,488.3000000000132,515.3800000000123,511.9600000000127,523.460000000013,470.94000000001296,420.0500000000123,288.1300000000088,176.00000000000597,151.56000000000566,117.06000000000451,68.39000000000269,61.660000000002064,15.45000000000034,16.96000000000058,7.740000000000233,14.340000000000195,41.77000000000078,115.87000000000454,339.5300000000118,542.4300000000143,460.7500000000144,326.66000000001145,319.0700000000114,392.95000000001306,427.0400000000138,364.9600000000105,470.8100000000126,570.7400000000146,692.7000000000148,720.4700000000133,513.680000000013,335.9300000000116,234.50000000000844,167.64000000000635,87.79000000000336,38.52000000000101,16.53000000000049,14.270000000000337,7.720000000000012,11.490000000000192,50.25000000000157,150.5100000000055,416.390000000012,696.6000000000146,555.380000000015,401.3800000000135,319.0400000000107,400.0900000000132,394.4400000000129,452.64000000001334,550.9100000000151,719.8200000000161,989.350000000016,963.1500000000136,633.6400000000134,392.6100000000118,336.38000000001114,285.07000000001,158.23000000000522,74.17000000000316,29.400000000001096,5.370000000000216,12.60000000000021,13.740000000000386,50.790000000002024,160.29000000000752,442.9400000000118,755.1600000000135,591.0200000000148,460.40000000001464,424.65000000001413,410.0000000000119,430.0100000000129,424.0400000000129,496.78000000001384,762.3300000000152,1110.0200000000152,966.9200000000143,734.7700000000152,432.22000000001196,341.7300000000104,257.4900000000076,170.1600000000055,83.700000000003],\"type\":\"scatter\"},{\"mode\":\"lines\",\"name\":\"Actual Demand\",\"x\":[\"2022-10-15T00:00:00\",\"2022-10-15T01:00:00\",\"2022-10-15T02:00:00\",\"2022-10-15T03:00:00\",\"2022-10-15T04:00:00\",\"2022-10-15T05:00:00\",\"2022-10-15T06:00:00\",\"2022-10-15T07:00:00\",\"2022-10-15T08:00:00\",\"2022-10-15T09:00:00\",\"2022-10-15T10:00:00\",\"2022-10-15T11:00:00\",\"2022-10-15T12:00:00\",\"2022-10-15T13:00:00\",\"2022-10-15T14:00:00\",\"2022-10-15T15:00:00\",\"2022-10-15T16:00:00\",\"2022-10-15T17:00:00\",\"2022-10-15T18:00:00\",\"2022-10-15T19:00:00\",\"2022-10-15T20:00:00\",\"2022-10-15T21:00:00\",\"2022-10-15T22:00:00\",\"2022-10-15T23:00:00\",\"2022-10-16T00:00:00\",\"2022-10-16T01:00:00\",\"2022-10-16T02:00:00\",\"2022-10-16T03:00:00\",\"2022-10-16T04:00:00\",\"2022-10-16T05:00:00\",\"2022-10-16T06:00:00\",\"2022-10-16T07:00:00\",\"2022-10-16T08:00:00\",\"2022-10-16T09:00:00\",\"2022-10-16T10:00:00\",\"2022-10-16T11:00:00\",\"2022-10-16T12:00:00\",\"2022-10-16T13:00:00\",\"2022-10-16T14:00:00\",\"2022-10-16T15:00:00\",\"2022-10-16T16:00:00\",\"2022-10-16T17:00:00\",\"2022-10-16T18:00:00\",\"2022-10-16T19:00:00\",\"2022-10-16T20:00:00\",\"2022-10-16T21:00:00\",\"2022-10-16T22:00:00\",\"2022-10-16T23:00:00\",\"2022-10-17T00:00:00\",\"2022-10-17T01:00:00\",\"2022-10-17T02:00:00\",\"2022-10-17T03:00:00\",\"2022-10-17T04:00:00\",\"2022-10-17T05:00:00\",\"2022-10-17T06:00:00\",\"2022-10-17T07:00:00\",\"2022-10-17T08:00:00\",\"2022-10-17T09:00:00\",\"2022-10-17T10:00:00\",\"2022-10-17T11:00:00\",\"2022-10-17T12:00:00\",\"2022-10-17T13:00:00\",\"2022-10-17T14:00:00\",\"2022-10-17T15:00:00\",\"2022-10-17T16:00:00\",\"2022-10-17T17:00:00\",\"2022-10-17T18:00:00\",\"2022-10-17T19:00:00\",\"2022-10-17T20:00:00\",\"2022-10-17T21:00:00\",\"2022-10-17T22:00:00\",\"2022-10-17T23:00:00\",\"2022-10-18T00:00:00\",\"2022-10-18T01:00:00\",\"2022-10-18T02:00:00\",\"2022-10-18T03:00:00\",\"2022-10-18T04:00:00\",\"2022-10-18T05:00:00\",\"2022-10-18T06:00:00\",\"2022-10-18T07:00:00\",\"2022-10-18T08:00:00\",\"2022-10-18T09:00:00\",\"2022-10-18T10:00:00\",\"2022-10-18T11:00:00\",\"2022-10-18T12:00:00\",\"2022-10-18T13:00:00\",\"2022-10-18T14:00:00\",\"2022-10-18T15:00:00\",\"2022-10-18T16:00:00\",\"2022-10-18T17:00:00\",\"2022-10-18T18:00:00\",\"2022-10-18T19:00:00\",\"2022-10-18T20:00:00\",\"2022-10-18T21:00:00\",\"2022-10-18T22:00:00\",\"2022-10-18T23:00:00\",\"2022-10-19T00:00:00\",\"2022-10-19T01:00:00\",\"2022-10-19T02:00:00\",\"2022-10-19T03:00:00\",\"2022-10-19T04:00:00\",\"2022-10-19T05:00:00\",\"2022-10-19T06:00:00\",\"2022-10-19T07:00:00\",\"2022-10-19T08:00:00\",\"2022-10-19T09:00:00\",\"2022-10-19T10:00:00\",\"2022-10-19T11:00:00\",\"2022-10-19T12:00:00\",\"2022-10-19T13:00:00\",\"2022-10-19T14:00:00\",\"2022-10-19T15:00:00\",\"2022-10-19T16:00:00\",\"2022-10-19T17:00:00\",\"2022-10-19T18:00:00\",\"2022-10-19T19:00:00\",\"2022-10-19T20:00:00\",\"2022-10-19T21:00:00\",\"2022-10-19T22:00:00\",\"2022-10-19T23:00:00\",\"2022-10-20T00:00:00\"],\"y\":[144.99999999999994,126.00000000000006,70.99999999999991,29.99999999999993,17.999999999999982,16.99999999999996,29.999999999999986,72.99999999999994,166.00000000000009,252.0000000000003,373.00000000000006,438.00000000000034,519.0000000000003,543.0000000000002,555.0000000000002,504.0000000000003,456.0000000000001,450.00000000000045,433.0000000000002,303.0000000000003,232.00000000000006,207.00000000000023,181.0,188.00000000000009,189.00000000000017,125.99999999999993,102.99999999999997,31.99999999999994,26.999999999999954,9.999999999999988,35.99999999999997,51.99999999999993,134.99999999999997,230.00000000000014,324.00000000000034,356.0000000000005,469.00000000000034,468.0000000000005,453.00000000000017,450.00000000000017,496.0000000000003,391.0000000000001,388.0000000000002,222.0,150.00000000000009,127.99999999999994,98.99999999999979,52.00000000000002,47.99999999999989,12.999999999999988,11.999999999999998,6.999999999999987,11.999999999999998,38.99999999999997,112.99999999999982,297.0000000000001,557.0000000000003,455.00000000000017,264.0000000000003,262.0000000000001,314.00000000000034,338.0000000000001,288.00000000000034,383.0000000000001,518.0000000000002,788.0000000000003,638.0000000000003,444.0000000000001,282.0000000000002,169.99999999999986,139.99999999999991,72.99999999999989,37.99999999999994,15.000000000000023,13.999999999999973,6.999999999999999,9.999999999999998,53.99999999999993,145.99999999999991,402.0000000000002,714.0000000000003,537.0000000000002,328.0000000000002,281.0000000000002,354.0000000000002,334.00000000000017,367.0000000000004,436.0000000000004,687.0000000000002,1034.0000000000005,884.0000000000003,541.0000000000003,320.00000000000034,291.00000000000034,313.00000000000017,103.99999999999991,60.9999999999999,19.999999999999986,3.999999999999999,10.999999999999998,11.999999999999986,40.99999999999996,143.9999999999999,400.0000000000003,683.0000000000003,533.0000000000001,366.00000000000017,362.0000000000001,378.00000000000017,332.0000000000002,320.0000000000004,441.0000000000004,677.0000000000002,984.0000000000002,899.0000000000002,561.0000000000002,352.0000000000002,287.0000000000001,212.00000000000014,120.00000000000001,66.99999999999993],\"type\":\"scatter\"}],                        {\"template\":{\"data\":{\"histogram2dcontour\":[{\"type\":\"histogram2dcontour\",\"colorbar\":{\"outlinewidth\":0,\"ticks\":\"\"},\"colorscale\":[[0.0,\"#0d0887\"],[0.1111111111111111,\"#46039f\"],[0.2222222222222222,\"#7201a8\"],[0.3333333333333333,\"#9c179e\"],[0.4444444444444444,\"#bd3786\"],[0.5555555555555556,\"#d8576b\"],[0.6666666666666666,\"#ed7953\"],[0.7777777777777778,\"#fb9f3a\"],[0.8888888888888888,\"#fdca26\"],[1.0,\"#f0f921\"]]}],\"choropleth\":[{\"type\":\"choropleth\",\"colorbar\":{\"outlinewidth\":0,\"ticks\":\"\"}}],\"histogram2d\":[{\"type\":\"histogram2d\",\"colorbar\":{\"outlinewidth\":0,\"ticks\":\"\"},\"colorscale\":[[0.0,\"#0d0887\"],[0.1111111111111111,\"#46039f\"],[0.2222222222222222,\"#7201a8\"],[0.3333333333333333,\"#9c179e\"],[0.4444444444444444,\"#bd3786\"],[0.5555555555555556,\"#d8576b\"],[0.6666666666666666,\"#ed7953\"],[0.7777777777777778,\"#fb9f3a\"],[0.8888888888888888,\"#fdca26\"],[1.0,\"#f0f921\"]]}],\"heatmap\":[{\"type\":\"heatmap\",\"colorbar\":{\"outlinewidth\":0,\"ticks\":\"\"},\"colorscale\":[[0.0,\"#0d0887\"],[0.1111111111111111,\"#46039f\"],[0.2222222222222222,\"#7201a8\"],[0.3333333333333333,\"#9c179e\"],[0.4444444444444444,\"#bd3786\"],[0.5555555555555556,\"#d8576b\"],[0.6666666666666666,\"#ed7953\"],[0.7777777777777778,\"#fb9f3a\"],[0.8888888888888888,\"#fdca26\"],[1.0,\"#f0f921\"]]}],\"heatmapgl\":[{\"type\":\"heatmapgl\",\"colorbar\":{\"outlinewidth\":0,\"ticks\":\"\"},\"colorscale\":[[0.0,\"#0d0887\"],[0.1111111111111111,\"#46039f\"],[0.2222222222222222,\"#7201a8\"],[0.3333333333333333,\"#9c179e\"],[0.4444444444444444,\"#bd3786\"],[0.5555555555555556,\"#d8576b\"],[0.6666666666666666,\"#ed7953\"],[0.7777777777777778,\"#fb9f3a\"],[0.8888888888888888,\"#fdca26\"],[1.0,\"#f0f921\"]]}],\"contourcarpet\":[{\"type\":\"contourcarpet\",\"colorbar\":{\"outlinewidth\":0,\"ticks\":\"\"}}],\"contour\":[{\"type\":\"contour\",\"colorbar\":{\"outlinewidth\":0,\"ticks\":\"\"},\"colorscale\":[[0.0,\"#0d0887\"],[0.1111111111111111,\"#46039f\"],[0.2222222222222222,\"#7201a8\"],[0.3333333333333333,\"#9c179e\"],[0.4444444444444444,\"#bd3786\"],[0.5555555555555556,\"#d8576b\"],[0.6666666666666666,\"#ed7953\"],[0.7777777777777778,\"#fb9f3a\"],[0.8888888888888888,\"#fdca26\"],[1.0,\"#f0f921\"]]}],\"surface\":[{\"type\":\"surface\",\"colorbar\":{\"outlinewidth\":0,\"ticks\":\"\"},\"colorscale\":[[0.0,\"#0d0887\"],[0.1111111111111111,\"#46039f\"],[0.2222222222222222,\"#7201a8\"],[0.3333333333333333,\"#9c179e\"],[0.4444444444444444,\"#bd3786\"],[0.5555555555555556,\"#d8576b\"],[0.6666666666666666,\"#ed7953\"],[0.7777777777777778,\"#fb9f3a\"],[0.8888888888888888,\"#fdca26\"],[1.0,\"#f0f921\"]]}],\"mesh3d\":[{\"type\":\"mesh3d\",\"colorbar\":{\"outlinewidth\":0,\"ticks\":\"\"}}],\"scatter\":[{\"fillpattern\":{\"fillmode\":\"overlay\",\"size\":10,\"solidity\":0.2},\"type\":\"scatter\"}],\"parcoords\":[{\"type\":\"parcoords\",\"line\":{\"colorbar\":{\"outlinewidth\":0,\"ticks\":\"\"}}}],\"scatterpolargl\":[{\"type\":\"scatterpolargl\",\"marker\":{\"colorbar\":{\"outlinewidth\":0,\"ticks\":\"\"}}}],\"bar\":[{\"error_x\":{\"color\":\"#2a3f5f\"},\"error_y\":{\"color\":\"#2a3f5f\"},\"marker\":{\"line\":{\"color\":\"#E5ECF6\",\"width\":0.5},\"pattern\":{\"fillmode\":\"overlay\",\"size\":10,\"solidity\":0.2}},\"type\":\"bar\"}],\"scattergeo\":[{\"type\":\"scattergeo\",\"marker\":{\"colorbar\":{\"outlinewidth\":0,\"ticks\":\"\"}}}],\"scatterpolar\":[{\"type\":\"scatterpolar\",\"marker\":{\"colorbar\":{\"outlinewidth\":0,\"ticks\":\"\"}}}],\"histogram\":[{\"marker\":{\"pattern\":{\"fillmode\":\"overlay\",\"size\":10,\"solidity\":0.2}},\"type\":\"histogram\"}],\"scattergl\":[{\"type\":\"scattergl\",\"marker\":{\"colorbar\":{\"outlinewidth\":0,\"ticks\":\"\"}}}],\"scatter3d\":[{\"type\":\"scatter3d\",\"line\":{\"colorbar\":{\"outlinewidth\":0,\"ticks\":\"\"}},\"marker\":{\"colorbar\":{\"outlinewidth\":0,\"ticks\":\"\"}}}],\"scattermapbox\":[{\"type\":\"scattermapbox\",\"marker\":{\"colorbar\":{\"outlinewidth\":0,\"ticks\":\"\"}}}],\"scatterternary\":[{\"type\":\"scatterternary\",\"marker\":{\"colorbar\":{\"outlinewidth\":0,\"ticks\":\"\"}}}],\"scattercarpet\":[{\"type\":\"scattercarpet\",\"marker\":{\"colorbar\":{\"outlinewidth\":0,\"ticks\":\"\"}}}],\"carpet\":[{\"aaxis\":{\"endlinecolor\":\"#2a3f5f\",\"gridcolor\":\"white\",\"linecolor\":\"white\",\"minorgridcolor\":\"white\",\"startlinecolor\":\"#2a3f5f\"},\"baxis\":{\"endlinecolor\":\"#2a3f5f\",\"gridcolor\":\"white\",\"linecolor\":\"white\",\"minorgridcolor\":\"white\",\"startlinecolor\":\"#2a3f5f\"},\"type\":\"carpet\"}],\"table\":[{\"cells\":{\"fill\":{\"color\":\"#EBF0F8\"},\"line\":{\"color\":\"white\"}},\"header\":{\"fill\":{\"color\":\"#C8D4E3\"},\"line\":{\"color\":\"white\"}},\"type\":\"table\"}],\"barpolar\":[{\"marker\":{\"line\":{\"color\":\"#E5ECF6\",\"width\":0.5},\"pattern\":{\"fillmode\":\"overlay\",\"size\":10,\"solidity\":0.2}},\"type\":\"barpolar\"}],\"pie\":[{\"automargin\":true,\"type\":\"pie\"}]},\"layout\":{\"autotypenumbers\":\"strict\",\"colorway\":[\"#636efa\",\"#EF553B\",\"#00cc96\",\"#ab63fa\",\"#FFA15A\",\"#19d3f3\",\"#FF6692\",\"#B6E880\",\"#FF97FF\",\"#FECB52\"],\"font\":{\"color\":\"#2a3f5f\"},\"hovermode\":\"closest\",\"hoverlabel\":{\"align\":\"left\"},\"paper_bgcolor\":\"white\",\"plot_bgcolor\":\"#E5ECF6\",\"polar\":{\"bgcolor\":\"#E5ECF6\",\"angularaxis\":{\"gridcolor\":\"white\",\"linecolor\":\"white\",\"ticks\":\"\"},\"radialaxis\":{\"gridcolor\":\"white\",\"linecolor\":\"white\",\"ticks\":\"\"}},\"ternary\":{\"bgcolor\":\"#E5ECF6\",\"aaxis\":{\"gridcolor\":\"white\",\"linecolor\":\"white\",\"ticks\":\"\"},\"baxis\":{\"gridcolor\":\"white\",\"linecolor\":\"white\",\"ticks\":\"\"},\"caxis\":{\"gridcolor\":\"white\",\"linecolor\":\"white\",\"ticks\":\"\"}},\"coloraxis\":{\"colorbar\":{\"outlinewidth\":0,\"ticks\":\"\"}},\"colorscale\":{\"sequential\":[[0.0,\"#0d0887\"],[0.1111111111111111,\"#46039f\"],[0.2222222222222222,\"#7201a8\"],[0.3333333333333333,\"#9c179e\"],[0.4444444444444444,\"#bd3786\"],[0.5555555555555556,\"#d8576b\"],[0.6666666666666666,\"#ed7953\"],[0.7777777777777778,\"#fb9f3a\"],[0.8888888888888888,\"#fdca26\"],[1.0,\"#f0f921\"]],\"sequentialminus\":[[0.0,\"#0d0887\"],[0.1111111111111111,\"#46039f\"],[0.2222222222222222,\"#7201a8\"],[0.3333333333333333,\"#9c179e\"],[0.4444444444444444,\"#bd3786\"],[0.5555555555555556,\"#d8576b\"],[0.6666666666666666,\"#ed7953\"],[0.7777777777777778,\"#fb9f3a\"],[0.8888888888888888,\"#fdca26\"],[1.0,\"#f0f921\"]],\"diverging\":[[0,\"#8e0152\"],[0.1,\"#c51b7d\"],[0.2,\"#de77ae\"],[0.3,\"#f1b6da\"],[0.4,\"#fde0ef\"],[0.5,\"#f7f7f7\"],[0.6,\"#e6f5d0\"],[0.7,\"#b8e186\"],[0.8,\"#7fbc41\"],[0.9,\"#4d9221\"],[1,\"#276419\"]]},\"xaxis\":{\"gridcolor\":\"white\",\"linecolor\":\"white\",\"ticks\":\"\",\"title\":{\"standoff\":15},\"zerolinecolor\":\"white\",\"automargin\":true,\"zerolinewidth\":2},\"yaxis\":{\"gridcolor\":\"white\",\"linecolor\":\"white\",\"ticks\":\"\",\"title\":{\"standoff\":15},\"zerolinecolor\":\"white\",\"automargin\":true,\"zerolinewidth\":2},\"scene\":{\"xaxis\":{\"backgroundcolor\":\"#E5ECF6\",\"gridcolor\":\"white\",\"linecolor\":\"white\",\"showbackground\":true,\"ticks\":\"\",\"zerolinecolor\":\"white\",\"gridwidth\":2},\"yaxis\":{\"backgroundcolor\":\"#E5ECF6\",\"gridcolor\":\"white\",\"linecolor\":\"white\",\"showbackground\":true,\"ticks\":\"\",\"zerolinecolor\":\"white\",\"gridwidth\":2},\"zaxis\":{\"backgroundcolor\":\"#E5ECF6\",\"gridcolor\":\"white\",\"linecolor\":\"white\",\"showbackground\":true,\"ticks\":\"\",\"zerolinecolor\":\"white\",\"gridwidth\":2}},\"shapedefaults\":{\"line\":{\"color\":\"#2a3f5f\"}},\"annotationdefaults\":{\"arrowcolor\":\"#2a3f5f\",\"arrowhead\":0,\"arrowwidth\":1},\"geo\":{\"bgcolor\":\"white\",\"landcolor\":\"#E5ECF6\",\"subunitcolor\":\"white\",\"showland\":true,\"showlakes\":true,\"lakecolor\":\"white\"},\"title\":{\"x\":0.05},\"mapbox\":{\"style\":\"light\"}}},\"hovermode\":\"x\"},                        {\"responsive\": true}                    ).then(function(){\n",
       "                            \n",
       "var gd = document.getElementById('9363152b-a2d2-4bf9-8b29-ec20ef646019');\n",
       "var x = new MutationObserver(function (mutations, observer) {{\n",
       "        var display = window.getComputedStyle(gd).display;\n",
       "        if (!display || display === 'none') {{\n",
       "            console.log([gd, 'removed!']);\n",
       "            Plotly.purge(gd);\n",
       "            observer.disconnect();\n",
       "        }}\n",
       "}});\n",
       "\n",
       "// Listen for the removal of the full notebook cells\n",
       "var notebookContainer = gd.closest('#notebook-container');\n",
       "if (notebookContainer) {{\n",
       "    x.observe(notebookContainer, {childList: true});\n",
       "}}\n",
       "\n",
       "// Listen for the clearing of the current output cell\n",
       "var outputEl = gd.closest('.output');\n",
       "if (outputEl) {{\n",
       "    x.observe(outputEl, {childList: true});\n",
       "}}\n",
       "\n",
       "                        })                };                });            </script>        </div>"
      ]
     },
     "metadata": {},
     "output_type": "display_data"
    }
   ],
   "source": [
    "hourly_fig"
   ]
  },
  {
   "cell_type": "markdown",
   "id": "0c19428a",
   "metadata": {},
   "source": [
    "# Returns Prediction"
   ]
  },
  {
   "cell_type": "code",
   "execution_count": 14,
   "id": "32175303",
   "metadata": {},
   "outputs": [
    {
     "name": "stdout",
     "output_type": "stream",
     "text": [
      "1.4549880496610024\n",
      "1.0164518470790125\n"
     ]
    }
   ],
   "source": [
    "test_file_name = \"test_predictionsreturns_Dec_2022_weather_lags.csv\"\n",
    "target_scaler_file = 'target_scalerreturns_Dec_2022_weather_lags.sav'\n",
    "scaler_file = 'scalerreturns_Dec_2022_weather_lags.sav'\n",
    "\n",
    "test_file_returns, daily_fig_returns, hourly_fig_returns, rmse_score, mae_score = \\\n",
    "                                            get_prediction_results(test_file_name, target_scaler_file, scaler_file, \n",
    "                                                                   time_feature = \"end_time\",target = \"actual_returns\",\n",
    "                                                                                 period_start=\"2022-10-15\",\n",
    "                                                                                 period_end=\"2022-10-20\")"
   ]
  },
  {
   "cell_type": "code",
   "execution_count": 15,
   "id": "f5e962c3",
   "metadata": {},
   "outputs": [
    {
     "data": {
      "application/vnd.plotly.v1+json": {
       "config": {
        "plotlyServerURL": "https://plot.ly"
       },
       "data": [
        {
         "mode": "lines",
         "name": "Actual",
         "type": "scatter",
         "x": [
          "2022-10-02T00:00:00",
          "2022-10-03T00:00:00",
          "2022-10-04T00:00:00",
          "2022-10-05T00:00:00",
          "2022-10-06T00:00:00",
          "2022-10-07T00:00:00",
          "2022-10-08T00:00:00",
          "2022-10-09T00:00:00",
          "2022-10-10T00:00:00",
          "2022-10-11T00:00:00",
          "2022-10-12T00:00:00",
          "2022-10-13T00:00:00",
          "2022-10-14T00:00:00",
          "2022-10-15T00:00:00",
          "2022-10-16T00:00:00",
          "2022-10-17T00:00:00",
          "2022-10-18T00:00:00",
          "2022-10-19T00:00:00",
          "2022-10-20T00:00:00",
          "2022-10-21T00:00:00",
          "2022-10-22T00:00:00",
          "2022-10-23T00:00:00",
          "2022-10-24T00:00:00",
          "2022-10-25T00:00:00",
          "2022-10-26T00:00:00",
          "2022-10-27T00:00:00",
          "2022-10-28T00:00:00",
          "2022-10-29T00:00:00",
          "2022-10-30T00:00:00",
          "2022-10-31T00:00:00",
          "2022-11-01T00:00:00",
          "2022-11-02T00:00:00",
          "2022-11-03T00:00:00",
          "2022-11-04T00:00:00",
          "2022-11-05T00:00:00",
          "2022-11-06T00:00:00",
          "2022-11-07T00:00:00",
          "2022-11-08T00:00:00",
          "2022-11-09T00:00:00",
          "2022-11-10T00:00:00",
          "2022-11-11T00:00:00",
          "2022-11-12T00:00:00",
          "2022-11-13T00:00:00",
          "2022-11-14T00:00:00",
          "2022-11-15T00:00:00",
          "2022-11-16T00:00:00",
          "2022-11-17T00:00:00",
          "2022-11-18T00:00:00",
          "2022-11-19T00:00:00",
          "2022-11-20T00:00:00",
          "2022-11-21T00:00:00",
          "2022-11-22T00:00:00",
          "2022-11-23T00:00:00",
          "2022-11-24T00:00:00",
          "2022-11-25T00:00:00",
          "2022-11-26T00:00:00",
          "2022-11-27T00:00:00",
          "2022-11-28T00:00:00",
          "2022-11-29T00:00:00",
          "2022-11-30T00:00:00",
          "2022-12-01T00:00:00",
          "2022-12-02T00:00:00",
          "2022-12-03T00:00:00",
          "2022-12-04T00:00:00",
          "2022-12-05T00:00:00",
          "2022-12-06T00:00:00",
          "2022-12-07T00:00:00",
          "2022-12-08T00:00:00",
          "2022-12-09T00:00:00",
          "2022-12-10T00:00:00",
          "2022-12-11T00:00:00",
          "2022-12-12T00:00:00",
          "2022-12-13T00:00:00",
          "2022-12-14T00:00:00",
          "2022-12-15T00:00:00",
          "2022-12-16T00:00:00",
          "2022-12-17T00:00:00",
          "2022-12-18T00:00:00",
          "2022-12-19T00:00:00",
          "2022-12-20T00:00:00",
          "2022-12-21T00:00:00",
          "2022-12-22T00:00:00",
          "2022-12-23T00:00:00",
          "2022-12-24T00:00:00",
          "2022-12-25T00:00:00",
          "2022-12-26T00:00:00",
          "2022-12-27T00:00:00",
          "2022-12-28T00:00:00",
          "2022-12-29T00:00:00",
          "2022-12-30T00:00:00",
          "2022-12-31T00:00:00",
          "2023-01-01T00:00:00"
         ],
         "y": [
          5033.999999999999,
          6766,
          7651,
          7451,
          7884.999999999999,
          7516.999999999999,
          7677.999999999999,
          5729.999999999999,
          5796.999999999999,
          7221.999999999999,
          7203.999999999999,
          7654,
          6955.999999999999,
          6317.999999999999,
          5481,
          6447.999999999999,
          8202,
          8204,
          7752.999999999999,
          6876.999999999999,
          6610.999999999999,
          5918,
          6334,
          7291,
          7545.999999999999,
          8208,
          7140,
          6519,
          5462,
          6045,
          5493.999999999999,
          6896.999999999999,
          7163.999999999999,
          6775.999999999999,
          4505.999999999999,
          5121.999999999999,
          5813,
          4078.9999999999995,
          6590,
          6905.999999999999,
          6239.999999999999,
          5830.999999999999,
          4783.999999999999,
          5564.999999999999,
          6599,
          6713.999999999999,
          6674.999999999999,
          6233,
          5605.999999999999,
          4633.999999999999,
          4931,
          5062,
          4493.999999999999,
          2369.9999999999995,
          3413.9999999999995,
          3665.9999999999995,
          3570.9999999999995,
          4439.999999999999,
          5442,
          5543.999999999999,
          3483.9999999999995,
          5706,
          2128.9999999999995,
          3827,
          5184.999999999999,
          6137.999999999999,
          6369.999999999999,
          5196,
          5781,
          2261.9999999999995,
          2846.9999999999995,
          4686.999999999999,
          5651.999999999999,
          5544,
          5716.999999999999,
          5031.999999999999,
          4241.999999999999,
          3358.9999999999995,
          3482.9999999999995,
          3889.9999999999995,
          3733,
          3343.9999999999995,
          2940.9999999999995,
          2138.9999999999995,
          1490.9999999999998,
          1459.9999999999998,
          1620.9999999999998,
          2938.9999999999995,
          1030.9999999999998,
          1467,
          770.9999999999998,
          37.999999999999936
         ]
        },
        {
         "mode": "lines",
         "name": "Prediction",
         "type": "scatter",
         "x": [
          "2022-10-02T00:00:00",
          "2022-10-03T00:00:00",
          "2022-10-04T00:00:00",
          "2022-10-05T00:00:00",
          "2022-10-06T00:00:00",
          "2022-10-07T00:00:00",
          "2022-10-08T00:00:00",
          "2022-10-09T00:00:00",
          "2022-10-10T00:00:00",
          "2022-10-11T00:00:00",
          "2022-10-12T00:00:00",
          "2022-10-13T00:00:00",
          "2022-10-14T00:00:00",
          "2022-10-15T00:00:00",
          "2022-10-16T00:00:00",
          "2022-10-17T00:00:00",
          "2022-10-18T00:00:00",
          "2022-10-19T00:00:00",
          "2022-10-20T00:00:00",
          "2022-10-21T00:00:00",
          "2022-10-22T00:00:00",
          "2022-10-23T00:00:00",
          "2022-10-24T00:00:00",
          "2022-10-25T00:00:00",
          "2022-10-26T00:00:00",
          "2022-10-27T00:00:00",
          "2022-10-28T00:00:00",
          "2022-10-29T00:00:00",
          "2022-10-30T00:00:00",
          "2022-10-31T00:00:00",
          "2022-11-01T00:00:00",
          "2022-11-02T00:00:00",
          "2022-11-03T00:00:00",
          "2022-11-04T00:00:00",
          "2022-11-05T00:00:00",
          "2022-11-06T00:00:00",
          "2022-11-07T00:00:00",
          "2022-11-08T00:00:00",
          "2022-11-09T00:00:00",
          "2022-11-10T00:00:00",
          "2022-11-11T00:00:00",
          "2022-11-12T00:00:00",
          "2022-11-13T00:00:00",
          "2022-11-14T00:00:00",
          "2022-11-15T00:00:00",
          "2022-11-16T00:00:00",
          "2022-11-17T00:00:00",
          "2022-11-18T00:00:00",
          "2022-11-19T00:00:00",
          "2022-11-20T00:00:00",
          "2022-11-21T00:00:00",
          "2022-11-22T00:00:00",
          "2022-11-23T00:00:00",
          "2022-11-24T00:00:00",
          "2022-11-25T00:00:00",
          "2022-11-26T00:00:00",
          "2022-11-27T00:00:00",
          "2022-11-28T00:00:00",
          "2022-11-29T00:00:00",
          "2022-11-30T00:00:00",
          "2022-12-01T00:00:00",
          "2022-12-02T00:00:00",
          "2022-12-03T00:00:00",
          "2022-12-04T00:00:00",
          "2022-12-05T00:00:00",
          "2022-12-06T00:00:00",
          "2022-12-07T00:00:00",
          "2022-12-08T00:00:00",
          "2022-12-09T00:00:00",
          "2022-12-10T00:00:00",
          "2022-12-11T00:00:00",
          "2022-12-12T00:00:00",
          "2022-12-13T00:00:00",
          "2022-12-14T00:00:00",
          "2022-12-15T00:00:00",
          "2022-12-16T00:00:00",
          "2022-12-17T00:00:00",
          "2022-12-18T00:00:00",
          "2022-12-19T00:00:00",
          "2022-12-20T00:00:00",
          "2022-12-21T00:00:00",
          "2022-12-22T00:00:00",
          "2022-12-23T00:00:00",
          "2022-12-24T00:00:00",
          "2022-12-25T00:00:00",
          "2022-12-26T00:00:00",
          "2022-12-27T00:00:00",
          "2022-12-28T00:00:00",
          "2022-12-29T00:00:00",
          "2022-12-30T00:00:00",
          "2022-12-31T00:00:00",
          "2023-01-01T00:00:00"
         ],
         "y": [
          5119.019999999849,
          6948.439999999786,
          7550.169999999758,
          7922.5699999997805,
          8244.129999999772,
          8294.149999999754,
          8486.819999999767,
          6895.589999999799,
          6384.28999999978,
          7392.489999999759,
          7478.369999999772,
          7508.589999999749,
          7567.49999999977,
          6741.079999999769,
          5845.0599999998085,
          6667.239999999778,
          8216.41999999975,
          8691.539999999794,
          8539.719999999777,
          7486.399999999763,
          8132.479999999764,
          6834.109999999794,
          7099.0899999997555,
          7865.579999999737,
          7753.529999999771,
          7949.809999999799,
          7688.229999999761,
          6916.66999999976,
          6715.819999999785,
          6833.719999999784,
          6560.339999999808,
          7227.099999999777,
          7474.889999999771,
          7263.709999999769,
          5826.539999999818,
          5508.949999999812,
          6085.559999999788,
          5668.13999999983,
          6685.059999999782,
          7166.879999999767,
          6428.909999999788,
          6255.649999999797,
          5297.4199999998045,
          5882.919999999806,
          6896.989999999767,
          7738.799999999779,
          7310.7299999997695,
          6561.969999999784,
          6558.469999999779,
          5235.649999999816,
          5431.389999999804,
          5632.769999999809,
          5099.319999999817,
          2934.579999999892,
          3815.8199999998474,
          4311.179999999836,
          4068.8299999998458,
          4925.359999999797,
          6085.979999999799,
          6351.099999999772,
          4679.389999999845,
          6457.959999999774,
          3078.4299999998857,
          4636.7999999998265,
          5415.669999999799,
          6238.129999999777,
          6853.039999999777,
          6192.949999999783,
          6011.149999999781,
          3336.9599999998904,
          3775.349999999867,
          5383.549999999816,
          6301.419999999782,
          6487.8099999997885,
          6201.029999999784,
          5858.799999999789,
          4867.929999999842,
          4097.269999999852,
          4335.599999999834,
          4730.629999999827,
          4411.899999999843,
          3837.7099999998454,
          3448.6299999998682,
          2771.0699999998933,
          1927.989999999923,
          1865.7599999999297,
          2369.129999999913,
          3785.5399999998554,
          1631.2699999999375,
          2334.2999999999156,
          1205.3899999999528,
          32.36999999999858
         ]
        }
       ],
       "layout": {
        "hovermode": "x",
        "template": {
         "data": {
          "bar": [
           {
            "error_x": {
             "color": "#2a3f5f"
            },
            "error_y": {
             "color": "#2a3f5f"
            },
            "marker": {
             "line": {
              "color": "#E5ECF6",
              "width": 0.5
             },
             "pattern": {
              "fillmode": "overlay",
              "size": 10,
              "solidity": 0.2
             }
            },
            "type": "bar"
           }
          ],
          "barpolar": [
           {
            "marker": {
             "line": {
              "color": "#E5ECF6",
              "width": 0.5
             },
             "pattern": {
              "fillmode": "overlay",
              "size": 10,
              "solidity": 0.2
             }
            },
            "type": "barpolar"
           }
          ],
          "carpet": [
           {
            "aaxis": {
             "endlinecolor": "#2a3f5f",
             "gridcolor": "white",
             "linecolor": "white",
             "minorgridcolor": "white",
             "startlinecolor": "#2a3f5f"
            },
            "baxis": {
             "endlinecolor": "#2a3f5f",
             "gridcolor": "white",
             "linecolor": "white",
             "minorgridcolor": "white",
             "startlinecolor": "#2a3f5f"
            },
            "type": "carpet"
           }
          ],
          "choropleth": [
           {
            "colorbar": {
             "outlinewidth": 0,
             "ticks": ""
            },
            "type": "choropleth"
           }
          ],
          "contour": [
           {
            "colorbar": {
             "outlinewidth": 0,
             "ticks": ""
            },
            "colorscale": [
             [
              0,
              "#0d0887"
             ],
             [
              0.1111111111111111,
              "#46039f"
             ],
             [
              0.2222222222222222,
              "#7201a8"
             ],
             [
              0.3333333333333333,
              "#9c179e"
             ],
             [
              0.4444444444444444,
              "#bd3786"
             ],
             [
              0.5555555555555556,
              "#d8576b"
             ],
             [
              0.6666666666666666,
              "#ed7953"
             ],
             [
              0.7777777777777778,
              "#fb9f3a"
             ],
             [
              0.8888888888888888,
              "#fdca26"
             ],
             [
              1,
              "#f0f921"
             ]
            ],
            "type": "contour"
           }
          ],
          "contourcarpet": [
           {
            "colorbar": {
             "outlinewidth": 0,
             "ticks": ""
            },
            "type": "contourcarpet"
           }
          ],
          "heatmap": [
           {
            "colorbar": {
             "outlinewidth": 0,
             "ticks": ""
            },
            "colorscale": [
             [
              0,
              "#0d0887"
             ],
             [
              0.1111111111111111,
              "#46039f"
             ],
             [
              0.2222222222222222,
              "#7201a8"
             ],
             [
              0.3333333333333333,
              "#9c179e"
             ],
             [
              0.4444444444444444,
              "#bd3786"
             ],
             [
              0.5555555555555556,
              "#d8576b"
             ],
             [
              0.6666666666666666,
              "#ed7953"
             ],
             [
              0.7777777777777778,
              "#fb9f3a"
             ],
             [
              0.8888888888888888,
              "#fdca26"
             ],
             [
              1,
              "#f0f921"
             ]
            ],
            "type": "heatmap"
           }
          ],
          "heatmapgl": [
           {
            "colorbar": {
             "outlinewidth": 0,
             "ticks": ""
            },
            "colorscale": [
             [
              0,
              "#0d0887"
             ],
             [
              0.1111111111111111,
              "#46039f"
             ],
             [
              0.2222222222222222,
              "#7201a8"
             ],
             [
              0.3333333333333333,
              "#9c179e"
             ],
             [
              0.4444444444444444,
              "#bd3786"
             ],
             [
              0.5555555555555556,
              "#d8576b"
             ],
             [
              0.6666666666666666,
              "#ed7953"
             ],
             [
              0.7777777777777778,
              "#fb9f3a"
             ],
             [
              0.8888888888888888,
              "#fdca26"
             ],
             [
              1,
              "#f0f921"
             ]
            ],
            "type": "heatmapgl"
           }
          ],
          "histogram": [
           {
            "marker": {
             "pattern": {
              "fillmode": "overlay",
              "size": 10,
              "solidity": 0.2
             }
            },
            "type": "histogram"
           }
          ],
          "histogram2d": [
           {
            "colorbar": {
             "outlinewidth": 0,
             "ticks": ""
            },
            "colorscale": [
             [
              0,
              "#0d0887"
             ],
             [
              0.1111111111111111,
              "#46039f"
             ],
             [
              0.2222222222222222,
              "#7201a8"
             ],
             [
              0.3333333333333333,
              "#9c179e"
             ],
             [
              0.4444444444444444,
              "#bd3786"
             ],
             [
              0.5555555555555556,
              "#d8576b"
             ],
             [
              0.6666666666666666,
              "#ed7953"
             ],
             [
              0.7777777777777778,
              "#fb9f3a"
             ],
             [
              0.8888888888888888,
              "#fdca26"
             ],
             [
              1,
              "#f0f921"
             ]
            ],
            "type": "histogram2d"
           }
          ],
          "histogram2dcontour": [
           {
            "colorbar": {
             "outlinewidth": 0,
             "ticks": ""
            },
            "colorscale": [
             [
              0,
              "#0d0887"
             ],
             [
              0.1111111111111111,
              "#46039f"
             ],
             [
              0.2222222222222222,
              "#7201a8"
             ],
             [
              0.3333333333333333,
              "#9c179e"
             ],
             [
              0.4444444444444444,
              "#bd3786"
             ],
             [
              0.5555555555555556,
              "#d8576b"
             ],
             [
              0.6666666666666666,
              "#ed7953"
             ],
             [
              0.7777777777777778,
              "#fb9f3a"
             ],
             [
              0.8888888888888888,
              "#fdca26"
             ],
             [
              1,
              "#f0f921"
             ]
            ],
            "type": "histogram2dcontour"
           }
          ],
          "mesh3d": [
           {
            "colorbar": {
             "outlinewidth": 0,
             "ticks": ""
            },
            "type": "mesh3d"
           }
          ],
          "parcoords": [
           {
            "line": {
             "colorbar": {
              "outlinewidth": 0,
              "ticks": ""
             }
            },
            "type": "parcoords"
           }
          ],
          "pie": [
           {
            "automargin": true,
            "type": "pie"
           }
          ],
          "scatter": [
           {
            "fillpattern": {
             "fillmode": "overlay",
             "size": 10,
             "solidity": 0.2
            },
            "type": "scatter"
           }
          ],
          "scatter3d": [
           {
            "line": {
             "colorbar": {
              "outlinewidth": 0,
              "ticks": ""
             }
            },
            "marker": {
             "colorbar": {
              "outlinewidth": 0,
              "ticks": ""
             }
            },
            "type": "scatter3d"
           }
          ],
          "scattercarpet": [
           {
            "marker": {
             "colorbar": {
              "outlinewidth": 0,
              "ticks": ""
             }
            },
            "type": "scattercarpet"
           }
          ],
          "scattergeo": [
           {
            "marker": {
             "colorbar": {
              "outlinewidth": 0,
              "ticks": ""
             }
            },
            "type": "scattergeo"
           }
          ],
          "scattergl": [
           {
            "marker": {
             "colorbar": {
              "outlinewidth": 0,
              "ticks": ""
             }
            },
            "type": "scattergl"
           }
          ],
          "scattermapbox": [
           {
            "marker": {
             "colorbar": {
              "outlinewidth": 0,
              "ticks": ""
             }
            },
            "type": "scattermapbox"
           }
          ],
          "scatterpolar": [
           {
            "marker": {
             "colorbar": {
              "outlinewidth": 0,
              "ticks": ""
             }
            },
            "type": "scatterpolar"
           }
          ],
          "scatterpolargl": [
           {
            "marker": {
             "colorbar": {
              "outlinewidth": 0,
              "ticks": ""
             }
            },
            "type": "scatterpolargl"
           }
          ],
          "scatterternary": [
           {
            "marker": {
             "colorbar": {
              "outlinewidth": 0,
              "ticks": ""
             }
            },
            "type": "scatterternary"
           }
          ],
          "surface": [
           {
            "colorbar": {
             "outlinewidth": 0,
             "ticks": ""
            },
            "colorscale": [
             [
              0,
              "#0d0887"
             ],
             [
              0.1111111111111111,
              "#46039f"
             ],
             [
              0.2222222222222222,
              "#7201a8"
             ],
             [
              0.3333333333333333,
              "#9c179e"
             ],
             [
              0.4444444444444444,
              "#bd3786"
             ],
             [
              0.5555555555555556,
              "#d8576b"
             ],
             [
              0.6666666666666666,
              "#ed7953"
             ],
             [
              0.7777777777777778,
              "#fb9f3a"
             ],
             [
              0.8888888888888888,
              "#fdca26"
             ],
             [
              1,
              "#f0f921"
             ]
            ],
            "type": "surface"
           }
          ],
          "table": [
           {
            "cells": {
             "fill": {
              "color": "#EBF0F8"
             },
             "line": {
              "color": "white"
             }
            },
            "header": {
             "fill": {
              "color": "#C8D4E3"
             },
             "line": {
              "color": "white"
             }
            },
            "type": "table"
           }
          ]
         },
         "layout": {
          "annotationdefaults": {
           "arrowcolor": "#2a3f5f",
           "arrowhead": 0,
           "arrowwidth": 1
          },
          "autotypenumbers": "strict",
          "coloraxis": {
           "colorbar": {
            "outlinewidth": 0,
            "ticks": ""
           }
          },
          "colorscale": {
           "diverging": [
            [
             0,
             "#8e0152"
            ],
            [
             0.1,
             "#c51b7d"
            ],
            [
             0.2,
             "#de77ae"
            ],
            [
             0.3,
             "#f1b6da"
            ],
            [
             0.4,
             "#fde0ef"
            ],
            [
             0.5,
             "#f7f7f7"
            ],
            [
             0.6,
             "#e6f5d0"
            ],
            [
             0.7,
             "#b8e186"
            ],
            [
             0.8,
             "#7fbc41"
            ],
            [
             0.9,
             "#4d9221"
            ],
            [
             1,
             "#276419"
            ]
           ],
           "sequential": [
            [
             0,
             "#0d0887"
            ],
            [
             0.1111111111111111,
             "#46039f"
            ],
            [
             0.2222222222222222,
             "#7201a8"
            ],
            [
             0.3333333333333333,
             "#9c179e"
            ],
            [
             0.4444444444444444,
             "#bd3786"
            ],
            [
             0.5555555555555556,
             "#d8576b"
            ],
            [
             0.6666666666666666,
             "#ed7953"
            ],
            [
             0.7777777777777778,
             "#fb9f3a"
            ],
            [
             0.8888888888888888,
             "#fdca26"
            ],
            [
             1,
             "#f0f921"
            ]
           ],
           "sequentialminus": [
            [
             0,
             "#0d0887"
            ],
            [
             0.1111111111111111,
             "#46039f"
            ],
            [
             0.2222222222222222,
             "#7201a8"
            ],
            [
             0.3333333333333333,
             "#9c179e"
            ],
            [
             0.4444444444444444,
             "#bd3786"
            ],
            [
             0.5555555555555556,
             "#d8576b"
            ],
            [
             0.6666666666666666,
             "#ed7953"
            ],
            [
             0.7777777777777778,
             "#fb9f3a"
            ],
            [
             0.8888888888888888,
             "#fdca26"
            ],
            [
             1,
             "#f0f921"
            ]
           ]
          },
          "colorway": [
           "#636efa",
           "#EF553B",
           "#00cc96",
           "#ab63fa",
           "#FFA15A",
           "#19d3f3",
           "#FF6692",
           "#B6E880",
           "#FF97FF",
           "#FECB52"
          ],
          "font": {
           "color": "#2a3f5f"
          },
          "geo": {
           "bgcolor": "white",
           "lakecolor": "white",
           "landcolor": "#E5ECF6",
           "showlakes": true,
           "showland": true,
           "subunitcolor": "white"
          },
          "hoverlabel": {
           "align": "left"
          },
          "hovermode": "closest",
          "mapbox": {
           "style": "light"
          },
          "paper_bgcolor": "white",
          "plot_bgcolor": "#E5ECF6",
          "polar": {
           "angularaxis": {
            "gridcolor": "white",
            "linecolor": "white",
            "ticks": ""
           },
           "bgcolor": "#E5ECF6",
           "radialaxis": {
            "gridcolor": "white",
            "linecolor": "white",
            "ticks": ""
           }
          },
          "scene": {
           "xaxis": {
            "backgroundcolor": "#E5ECF6",
            "gridcolor": "white",
            "gridwidth": 2,
            "linecolor": "white",
            "showbackground": true,
            "ticks": "",
            "zerolinecolor": "white"
           },
           "yaxis": {
            "backgroundcolor": "#E5ECF6",
            "gridcolor": "white",
            "gridwidth": 2,
            "linecolor": "white",
            "showbackground": true,
            "ticks": "",
            "zerolinecolor": "white"
           },
           "zaxis": {
            "backgroundcolor": "#E5ECF6",
            "gridcolor": "white",
            "gridwidth": 2,
            "linecolor": "white",
            "showbackground": true,
            "ticks": "",
            "zerolinecolor": "white"
           }
          },
          "shapedefaults": {
           "line": {
            "color": "#2a3f5f"
           }
          },
          "ternary": {
           "aaxis": {
            "gridcolor": "white",
            "linecolor": "white",
            "ticks": ""
           },
           "baxis": {
            "gridcolor": "white",
            "linecolor": "white",
            "ticks": ""
           },
           "bgcolor": "#E5ECF6",
           "caxis": {
            "gridcolor": "white",
            "linecolor": "white",
            "ticks": ""
           }
          },
          "title": {
           "x": 0.05
          },
          "xaxis": {
           "automargin": true,
           "gridcolor": "white",
           "linecolor": "white",
           "ticks": "",
           "title": {
            "standoff": 15
           },
           "zerolinecolor": "white",
           "zerolinewidth": 2
          },
          "yaxis": {
           "automargin": true,
           "gridcolor": "white",
           "linecolor": "white",
           "ticks": "",
           "title": {
            "standoff": 15
           },
           "zerolinecolor": "white",
           "zerolinewidth": 2
          }
         }
        },
        "title": {
         "text": "Returns Daily Prediction Output"
        }
       }
      },
      "text/html": [
       "<div>                            <div id=\"bfa4d476-5a7e-4222-9d22-fc698dff890f\" class=\"plotly-graph-div\" style=\"height:525px; width:100%;\"></div>            <script type=\"text/javascript\">                require([\"plotly\"], function(Plotly) {                    window.PLOTLYENV=window.PLOTLYENV || {};                                    if (document.getElementById(\"bfa4d476-5a7e-4222-9d22-fc698dff890f\")) {                    Plotly.newPlot(                        \"bfa4d476-5a7e-4222-9d22-fc698dff890f\",                        [{\"mode\":\"lines\",\"name\":\"Actual\",\"x\":[\"2022-10-02T00:00:00\",\"2022-10-03T00:00:00\",\"2022-10-04T00:00:00\",\"2022-10-05T00:00:00\",\"2022-10-06T00:00:00\",\"2022-10-07T00:00:00\",\"2022-10-08T00:00:00\",\"2022-10-09T00:00:00\",\"2022-10-10T00:00:00\",\"2022-10-11T00:00:00\",\"2022-10-12T00:00:00\",\"2022-10-13T00:00:00\",\"2022-10-14T00:00:00\",\"2022-10-15T00:00:00\",\"2022-10-16T00:00:00\",\"2022-10-17T00:00:00\",\"2022-10-18T00:00:00\",\"2022-10-19T00:00:00\",\"2022-10-20T00:00:00\",\"2022-10-21T00:00:00\",\"2022-10-22T00:00:00\",\"2022-10-23T00:00:00\",\"2022-10-24T00:00:00\",\"2022-10-25T00:00:00\",\"2022-10-26T00:00:00\",\"2022-10-27T00:00:00\",\"2022-10-28T00:00:00\",\"2022-10-29T00:00:00\",\"2022-10-30T00:00:00\",\"2022-10-31T00:00:00\",\"2022-11-01T00:00:00\",\"2022-11-02T00:00:00\",\"2022-11-03T00:00:00\",\"2022-11-04T00:00:00\",\"2022-11-05T00:00:00\",\"2022-11-06T00:00:00\",\"2022-11-07T00:00:00\",\"2022-11-08T00:00:00\",\"2022-11-09T00:00:00\",\"2022-11-10T00:00:00\",\"2022-11-11T00:00:00\",\"2022-11-12T00:00:00\",\"2022-11-13T00:00:00\",\"2022-11-14T00:00:00\",\"2022-11-15T00:00:00\",\"2022-11-16T00:00:00\",\"2022-11-17T00:00:00\",\"2022-11-18T00:00:00\",\"2022-11-19T00:00:00\",\"2022-11-20T00:00:00\",\"2022-11-21T00:00:00\",\"2022-11-22T00:00:00\",\"2022-11-23T00:00:00\",\"2022-11-24T00:00:00\",\"2022-11-25T00:00:00\",\"2022-11-26T00:00:00\",\"2022-11-27T00:00:00\",\"2022-11-28T00:00:00\",\"2022-11-29T00:00:00\",\"2022-11-30T00:00:00\",\"2022-12-01T00:00:00\",\"2022-12-02T00:00:00\",\"2022-12-03T00:00:00\",\"2022-12-04T00:00:00\",\"2022-12-05T00:00:00\",\"2022-12-06T00:00:00\",\"2022-12-07T00:00:00\",\"2022-12-08T00:00:00\",\"2022-12-09T00:00:00\",\"2022-12-10T00:00:00\",\"2022-12-11T00:00:00\",\"2022-12-12T00:00:00\",\"2022-12-13T00:00:00\",\"2022-12-14T00:00:00\",\"2022-12-15T00:00:00\",\"2022-12-16T00:00:00\",\"2022-12-17T00:00:00\",\"2022-12-18T00:00:00\",\"2022-12-19T00:00:00\",\"2022-12-20T00:00:00\",\"2022-12-21T00:00:00\",\"2022-12-22T00:00:00\",\"2022-12-23T00:00:00\",\"2022-12-24T00:00:00\",\"2022-12-25T00:00:00\",\"2022-12-26T00:00:00\",\"2022-12-27T00:00:00\",\"2022-12-28T00:00:00\",\"2022-12-29T00:00:00\",\"2022-12-30T00:00:00\",\"2022-12-31T00:00:00\",\"2023-01-01T00:00:00\"],\"y\":[5033.999999999999,6766.0,7651.0,7451.0,7884.999999999999,7516.999999999999,7677.999999999999,5729.999999999999,5796.999999999999,7221.999999999999,7203.999999999999,7654.0,6955.999999999999,6317.999999999999,5481.0,6447.999999999999,8202.0,8204.0,7752.999999999999,6876.999999999999,6610.999999999999,5918.0,6334.0,7291.0,7545.999999999999,8208.0,7140.0,6519.0,5462.0,6045.0,5493.999999999999,6896.999999999999,7163.999999999999,6775.999999999999,4505.999999999999,5121.999999999999,5813.0,4078.9999999999995,6590.0,6905.999999999999,6239.999999999999,5830.999999999999,4783.999999999999,5564.999999999999,6599.0,6713.999999999999,6674.999999999999,6233.0,5605.999999999999,4633.999999999999,4931.0,5062.0,4493.999999999999,2369.9999999999995,3413.9999999999995,3665.9999999999995,3570.9999999999995,4439.999999999999,5442.0,5543.999999999999,3483.9999999999995,5706.0,2128.9999999999995,3827.0,5184.999999999999,6137.999999999999,6369.999999999999,5196.0,5781.0,2261.9999999999995,2846.9999999999995,4686.999999999999,5651.999999999999,5544.0,5716.999999999999,5031.999999999999,4241.999999999999,3358.9999999999995,3482.9999999999995,3889.9999999999995,3733.0,3343.9999999999995,2940.9999999999995,2138.9999999999995,1490.9999999999998,1459.9999999999998,1620.9999999999998,2938.9999999999995,1030.9999999999998,1467.0,770.9999999999998,37.999999999999936],\"type\":\"scatter\"},{\"mode\":\"lines\",\"name\":\"Prediction\",\"x\":[\"2022-10-02T00:00:00\",\"2022-10-03T00:00:00\",\"2022-10-04T00:00:00\",\"2022-10-05T00:00:00\",\"2022-10-06T00:00:00\",\"2022-10-07T00:00:00\",\"2022-10-08T00:00:00\",\"2022-10-09T00:00:00\",\"2022-10-10T00:00:00\",\"2022-10-11T00:00:00\",\"2022-10-12T00:00:00\",\"2022-10-13T00:00:00\",\"2022-10-14T00:00:00\",\"2022-10-15T00:00:00\",\"2022-10-16T00:00:00\",\"2022-10-17T00:00:00\",\"2022-10-18T00:00:00\",\"2022-10-19T00:00:00\",\"2022-10-20T00:00:00\",\"2022-10-21T00:00:00\",\"2022-10-22T00:00:00\",\"2022-10-23T00:00:00\",\"2022-10-24T00:00:00\",\"2022-10-25T00:00:00\",\"2022-10-26T00:00:00\",\"2022-10-27T00:00:00\",\"2022-10-28T00:00:00\",\"2022-10-29T00:00:00\",\"2022-10-30T00:00:00\",\"2022-10-31T00:00:00\",\"2022-11-01T00:00:00\",\"2022-11-02T00:00:00\",\"2022-11-03T00:00:00\",\"2022-11-04T00:00:00\",\"2022-11-05T00:00:00\",\"2022-11-06T00:00:00\",\"2022-11-07T00:00:00\",\"2022-11-08T00:00:00\",\"2022-11-09T00:00:00\",\"2022-11-10T00:00:00\",\"2022-11-11T00:00:00\",\"2022-11-12T00:00:00\",\"2022-11-13T00:00:00\",\"2022-11-14T00:00:00\",\"2022-11-15T00:00:00\",\"2022-11-16T00:00:00\",\"2022-11-17T00:00:00\",\"2022-11-18T00:00:00\",\"2022-11-19T00:00:00\",\"2022-11-20T00:00:00\",\"2022-11-21T00:00:00\",\"2022-11-22T00:00:00\",\"2022-11-23T00:00:00\",\"2022-11-24T00:00:00\",\"2022-11-25T00:00:00\",\"2022-11-26T00:00:00\",\"2022-11-27T00:00:00\",\"2022-11-28T00:00:00\",\"2022-11-29T00:00:00\",\"2022-11-30T00:00:00\",\"2022-12-01T00:00:00\",\"2022-12-02T00:00:00\",\"2022-12-03T00:00:00\",\"2022-12-04T00:00:00\",\"2022-12-05T00:00:00\",\"2022-12-06T00:00:00\",\"2022-12-07T00:00:00\",\"2022-12-08T00:00:00\",\"2022-12-09T00:00:00\",\"2022-12-10T00:00:00\",\"2022-12-11T00:00:00\",\"2022-12-12T00:00:00\",\"2022-12-13T00:00:00\",\"2022-12-14T00:00:00\",\"2022-12-15T00:00:00\",\"2022-12-16T00:00:00\",\"2022-12-17T00:00:00\",\"2022-12-18T00:00:00\",\"2022-12-19T00:00:00\",\"2022-12-20T00:00:00\",\"2022-12-21T00:00:00\",\"2022-12-22T00:00:00\",\"2022-12-23T00:00:00\",\"2022-12-24T00:00:00\",\"2022-12-25T00:00:00\",\"2022-12-26T00:00:00\",\"2022-12-27T00:00:00\",\"2022-12-28T00:00:00\",\"2022-12-29T00:00:00\",\"2022-12-30T00:00:00\",\"2022-12-31T00:00:00\",\"2023-01-01T00:00:00\"],\"y\":[5119.019999999849,6948.439999999786,7550.169999999758,7922.5699999997805,8244.129999999772,8294.149999999754,8486.819999999767,6895.589999999799,6384.28999999978,7392.489999999759,7478.369999999772,7508.589999999749,7567.49999999977,6741.079999999769,5845.0599999998085,6667.239999999778,8216.41999999975,8691.539999999794,8539.719999999777,7486.399999999763,8132.479999999764,6834.109999999794,7099.0899999997555,7865.579999999737,7753.529999999771,7949.809999999799,7688.229999999761,6916.66999999976,6715.819999999785,6833.719999999784,6560.339999999808,7227.099999999777,7474.889999999771,7263.709999999769,5826.539999999818,5508.949999999812,6085.559999999788,5668.13999999983,6685.059999999782,7166.879999999767,6428.909999999788,6255.649999999797,5297.4199999998045,5882.919999999806,6896.989999999767,7738.799999999779,7310.7299999997695,6561.969999999784,6558.469999999779,5235.649999999816,5431.389999999804,5632.769999999809,5099.319999999817,2934.579999999892,3815.8199999998474,4311.179999999836,4068.8299999998458,4925.359999999797,6085.979999999799,6351.099999999772,4679.389999999845,6457.959999999774,3078.4299999998857,4636.7999999998265,5415.669999999799,6238.129999999777,6853.039999999777,6192.949999999783,6011.149999999781,3336.9599999998904,3775.349999999867,5383.549999999816,6301.419999999782,6487.8099999997885,6201.029999999784,5858.799999999789,4867.929999999842,4097.269999999852,4335.599999999834,4730.629999999827,4411.899999999843,3837.7099999998454,3448.6299999998682,2771.0699999998933,1927.989999999923,1865.7599999999297,2369.129999999913,3785.5399999998554,1631.2699999999375,2334.2999999999156,1205.3899999999528,32.36999999999858],\"type\":\"scatter\"}],                        {\"template\":{\"data\":{\"histogram2dcontour\":[{\"type\":\"histogram2dcontour\",\"colorbar\":{\"outlinewidth\":0,\"ticks\":\"\"},\"colorscale\":[[0.0,\"#0d0887\"],[0.1111111111111111,\"#46039f\"],[0.2222222222222222,\"#7201a8\"],[0.3333333333333333,\"#9c179e\"],[0.4444444444444444,\"#bd3786\"],[0.5555555555555556,\"#d8576b\"],[0.6666666666666666,\"#ed7953\"],[0.7777777777777778,\"#fb9f3a\"],[0.8888888888888888,\"#fdca26\"],[1.0,\"#f0f921\"]]}],\"choropleth\":[{\"type\":\"choropleth\",\"colorbar\":{\"outlinewidth\":0,\"ticks\":\"\"}}],\"histogram2d\":[{\"type\":\"histogram2d\",\"colorbar\":{\"outlinewidth\":0,\"ticks\":\"\"},\"colorscale\":[[0.0,\"#0d0887\"],[0.1111111111111111,\"#46039f\"],[0.2222222222222222,\"#7201a8\"],[0.3333333333333333,\"#9c179e\"],[0.4444444444444444,\"#bd3786\"],[0.5555555555555556,\"#d8576b\"],[0.6666666666666666,\"#ed7953\"],[0.7777777777777778,\"#fb9f3a\"],[0.8888888888888888,\"#fdca26\"],[1.0,\"#f0f921\"]]}],\"heatmap\":[{\"type\":\"heatmap\",\"colorbar\":{\"outlinewidth\":0,\"ticks\":\"\"},\"colorscale\":[[0.0,\"#0d0887\"],[0.1111111111111111,\"#46039f\"],[0.2222222222222222,\"#7201a8\"],[0.3333333333333333,\"#9c179e\"],[0.4444444444444444,\"#bd3786\"],[0.5555555555555556,\"#d8576b\"],[0.6666666666666666,\"#ed7953\"],[0.7777777777777778,\"#fb9f3a\"],[0.8888888888888888,\"#fdca26\"],[1.0,\"#f0f921\"]]}],\"heatmapgl\":[{\"type\":\"heatmapgl\",\"colorbar\":{\"outlinewidth\":0,\"ticks\":\"\"},\"colorscale\":[[0.0,\"#0d0887\"],[0.1111111111111111,\"#46039f\"],[0.2222222222222222,\"#7201a8\"],[0.3333333333333333,\"#9c179e\"],[0.4444444444444444,\"#bd3786\"],[0.5555555555555556,\"#d8576b\"],[0.6666666666666666,\"#ed7953\"],[0.7777777777777778,\"#fb9f3a\"],[0.8888888888888888,\"#fdca26\"],[1.0,\"#f0f921\"]]}],\"contourcarpet\":[{\"type\":\"contourcarpet\",\"colorbar\":{\"outlinewidth\":0,\"ticks\":\"\"}}],\"contour\":[{\"type\":\"contour\",\"colorbar\":{\"outlinewidth\":0,\"ticks\":\"\"},\"colorscale\":[[0.0,\"#0d0887\"],[0.1111111111111111,\"#46039f\"],[0.2222222222222222,\"#7201a8\"],[0.3333333333333333,\"#9c179e\"],[0.4444444444444444,\"#bd3786\"],[0.5555555555555556,\"#d8576b\"],[0.6666666666666666,\"#ed7953\"],[0.7777777777777778,\"#fb9f3a\"],[0.8888888888888888,\"#fdca26\"],[1.0,\"#f0f921\"]]}],\"surface\":[{\"type\":\"surface\",\"colorbar\":{\"outlinewidth\":0,\"ticks\":\"\"},\"colorscale\":[[0.0,\"#0d0887\"],[0.1111111111111111,\"#46039f\"],[0.2222222222222222,\"#7201a8\"],[0.3333333333333333,\"#9c179e\"],[0.4444444444444444,\"#bd3786\"],[0.5555555555555556,\"#d8576b\"],[0.6666666666666666,\"#ed7953\"],[0.7777777777777778,\"#fb9f3a\"],[0.8888888888888888,\"#fdca26\"],[1.0,\"#f0f921\"]]}],\"mesh3d\":[{\"type\":\"mesh3d\",\"colorbar\":{\"outlinewidth\":0,\"ticks\":\"\"}}],\"scatter\":[{\"fillpattern\":{\"fillmode\":\"overlay\",\"size\":10,\"solidity\":0.2},\"type\":\"scatter\"}],\"parcoords\":[{\"type\":\"parcoords\",\"line\":{\"colorbar\":{\"outlinewidth\":0,\"ticks\":\"\"}}}],\"scatterpolargl\":[{\"type\":\"scatterpolargl\",\"marker\":{\"colorbar\":{\"outlinewidth\":0,\"ticks\":\"\"}}}],\"bar\":[{\"error_x\":{\"color\":\"#2a3f5f\"},\"error_y\":{\"color\":\"#2a3f5f\"},\"marker\":{\"line\":{\"color\":\"#E5ECF6\",\"width\":0.5},\"pattern\":{\"fillmode\":\"overlay\",\"size\":10,\"solidity\":0.2}},\"type\":\"bar\"}],\"scattergeo\":[{\"type\":\"scattergeo\",\"marker\":{\"colorbar\":{\"outlinewidth\":0,\"ticks\":\"\"}}}],\"scatterpolar\":[{\"type\":\"scatterpolar\",\"marker\":{\"colorbar\":{\"outlinewidth\":0,\"ticks\":\"\"}}}],\"histogram\":[{\"marker\":{\"pattern\":{\"fillmode\":\"overlay\",\"size\":10,\"solidity\":0.2}},\"type\":\"histogram\"}],\"scattergl\":[{\"type\":\"scattergl\",\"marker\":{\"colorbar\":{\"outlinewidth\":0,\"ticks\":\"\"}}}],\"scatter3d\":[{\"type\":\"scatter3d\",\"line\":{\"colorbar\":{\"outlinewidth\":0,\"ticks\":\"\"}},\"marker\":{\"colorbar\":{\"outlinewidth\":0,\"ticks\":\"\"}}}],\"scattermapbox\":[{\"type\":\"scattermapbox\",\"marker\":{\"colorbar\":{\"outlinewidth\":0,\"ticks\":\"\"}}}],\"scatterternary\":[{\"type\":\"scatterternary\",\"marker\":{\"colorbar\":{\"outlinewidth\":0,\"ticks\":\"\"}}}],\"scattercarpet\":[{\"type\":\"scattercarpet\",\"marker\":{\"colorbar\":{\"outlinewidth\":0,\"ticks\":\"\"}}}],\"carpet\":[{\"aaxis\":{\"endlinecolor\":\"#2a3f5f\",\"gridcolor\":\"white\",\"linecolor\":\"white\",\"minorgridcolor\":\"white\",\"startlinecolor\":\"#2a3f5f\"},\"baxis\":{\"endlinecolor\":\"#2a3f5f\",\"gridcolor\":\"white\",\"linecolor\":\"white\",\"minorgridcolor\":\"white\",\"startlinecolor\":\"#2a3f5f\"},\"type\":\"carpet\"}],\"table\":[{\"cells\":{\"fill\":{\"color\":\"#EBF0F8\"},\"line\":{\"color\":\"white\"}},\"header\":{\"fill\":{\"color\":\"#C8D4E3\"},\"line\":{\"color\":\"white\"}},\"type\":\"table\"}],\"barpolar\":[{\"marker\":{\"line\":{\"color\":\"#E5ECF6\",\"width\":0.5},\"pattern\":{\"fillmode\":\"overlay\",\"size\":10,\"solidity\":0.2}},\"type\":\"barpolar\"}],\"pie\":[{\"automargin\":true,\"type\":\"pie\"}]},\"layout\":{\"autotypenumbers\":\"strict\",\"colorway\":[\"#636efa\",\"#EF553B\",\"#00cc96\",\"#ab63fa\",\"#FFA15A\",\"#19d3f3\",\"#FF6692\",\"#B6E880\",\"#FF97FF\",\"#FECB52\"],\"font\":{\"color\":\"#2a3f5f\"},\"hovermode\":\"closest\",\"hoverlabel\":{\"align\":\"left\"},\"paper_bgcolor\":\"white\",\"plot_bgcolor\":\"#E5ECF6\",\"polar\":{\"bgcolor\":\"#E5ECF6\",\"angularaxis\":{\"gridcolor\":\"white\",\"linecolor\":\"white\",\"ticks\":\"\"},\"radialaxis\":{\"gridcolor\":\"white\",\"linecolor\":\"white\",\"ticks\":\"\"}},\"ternary\":{\"bgcolor\":\"#E5ECF6\",\"aaxis\":{\"gridcolor\":\"white\",\"linecolor\":\"white\",\"ticks\":\"\"},\"baxis\":{\"gridcolor\":\"white\",\"linecolor\":\"white\",\"ticks\":\"\"},\"caxis\":{\"gridcolor\":\"white\",\"linecolor\":\"white\",\"ticks\":\"\"}},\"coloraxis\":{\"colorbar\":{\"outlinewidth\":0,\"ticks\":\"\"}},\"colorscale\":{\"sequential\":[[0.0,\"#0d0887\"],[0.1111111111111111,\"#46039f\"],[0.2222222222222222,\"#7201a8\"],[0.3333333333333333,\"#9c179e\"],[0.4444444444444444,\"#bd3786\"],[0.5555555555555556,\"#d8576b\"],[0.6666666666666666,\"#ed7953\"],[0.7777777777777778,\"#fb9f3a\"],[0.8888888888888888,\"#fdca26\"],[1.0,\"#f0f921\"]],\"sequentialminus\":[[0.0,\"#0d0887\"],[0.1111111111111111,\"#46039f\"],[0.2222222222222222,\"#7201a8\"],[0.3333333333333333,\"#9c179e\"],[0.4444444444444444,\"#bd3786\"],[0.5555555555555556,\"#d8576b\"],[0.6666666666666666,\"#ed7953\"],[0.7777777777777778,\"#fb9f3a\"],[0.8888888888888888,\"#fdca26\"],[1.0,\"#f0f921\"]],\"diverging\":[[0,\"#8e0152\"],[0.1,\"#c51b7d\"],[0.2,\"#de77ae\"],[0.3,\"#f1b6da\"],[0.4,\"#fde0ef\"],[0.5,\"#f7f7f7\"],[0.6,\"#e6f5d0\"],[0.7,\"#b8e186\"],[0.8,\"#7fbc41\"],[0.9,\"#4d9221\"],[1,\"#276419\"]]},\"xaxis\":{\"gridcolor\":\"white\",\"linecolor\":\"white\",\"ticks\":\"\",\"title\":{\"standoff\":15},\"zerolinecolor\":\"white\",\"automargin\":true,\"zerolinewidth\":2},\"yaxis\":{\"gridcolor\":\"white\",\"linecolor\":\"white\",\"ticks\":\"\",\"title\":{\"standoff\":15},\"zerolinecolor\":\"white\",\"automargin\":true,\"zerolinewidth\":2},\"scene\":{\"xaxis\":{\"backgroundcolor\":\"#E5ECF6\",\"gridcolor\":\"white\",\"linecolor\":\"white\",\"showbackground\":true,\"ticks\":\"\",\"zerolinecolor\":\"white\",\"gridwidth\":2},\"yaxis\":{\"backgroundcolor\":\"#E5ECF6\",\"gridcolor\":\"white\",\"linecolor\":\"white\",\"showbackground\":true,\"ticks\":\"\",\"zerolinecolor\":\"white\",\"gridwidth\":2},\"zaxis\":{\"backgroundcolor\":\"#E5ECF6\",\"gridcolor\":\"white\",\"linecolor\":\"white\",\"showbackground\":true,\"ticks\":\"\",\"zerolinecolor\":\"white\",\"gridwidth\":2}},\"shapedefaults\":{\"line\":{\"color\":\"#2a3f5f\"}},\"annotationdefaults\":{\"arrowcolor\":\"#2a3f5f\",\"arrowhead\":0,\"arrowwidth\":1},\"geo\":{\"bgcolor\":\"white\",\"landcolor\":\"#E5ECF6\",\"subunitcolor\":\"white\",\"showland\":true,\"showlakes\":true,\"lakecolor\":\"white\"},\"title\":{\"x\":0.05},\"mapbox\":{\"style\":\"light\"}}},\"hovermode\":\"x\",\"title\":{\"text\":\"Returns Daily Prediction Output\"}},                        {\"responsive\": true}                    ).then(function(){\n",
       "                            \n",
       "var gd = document.getElementById('bfa4d476-5a7e-4222-9d22-fc698dff890f');\n",
       "var x = new MutationObserver(function (mutations, observer) {{\n",
       "        var display = window.getComputedStyle(gd).display;\n",
       "        if (!display || display === 'none') {{\n",
       "            console.log([gd, 'removed!']);\n",
       "            Plotly.purge(gd);\n",
       "            observer.disconnect();\n",
       "        }}\n",
       "}});\n",
       "\n",
       "// Listen for the removal of the full notebook cells\n",
       "var notebookContainer = gd.closest('#notebook-container');\n",
       "if (notebookContainer) {{\n",
       "    x.observe(notebookContainer, {childList: true});\n",
       "}}\n",
       "\n",
       "// Listen for the clearing of the current output cell\n",
       "var outputEl = gd.closest('.output');\n",
       "if (outputEl) {{\n",
       "    x.observe(outputEl, {childList: true});\n",
       "}}\n",
       "\n",
       "                        })                };                });            </script>        </div>"
      ]
     },
     "metadata": {},
     "output_type": "display_data"
    }
   ],
   "source": [
    "daily_fig_returns.update_layout(title=\"Returns Daily Prediction Output\")"
   ]
  },
  {
   "cell_type": "code",
   "execution_count": 16,
   "id": "3b7e2f64",
   "metadata": {},
   "outputs": [
    {
     "data": {
      "application/vnd.plotly.v1+json": {
       "config": {
        "plotlyServerURL": "https://plot.ly"
       },
       "data": [
        {
         "mode": "lines",
         "name": "Actual",
         "type": "scatter",
         "x": [
          "2022-10-15T00:00:00",
          "2022-10-15T01:00:00",
          "2022-10-15T02:00:00",
          "2022-10-15T03:00:00",
          "2022-10-15T04:00:00",
          "2022-10-15T05:00:00",
          "2022-10-15T06:00:00",
          "2022-10-15T07:00:00",
          "2022-10-15T08:00:00",
          "2022-10-15T09:00:00",
          "2022-10-15T10:00:00",
          "2022-10-15T11:00:00",
          "2022-10-15T12:00:00",
          "2022-10-15T13:00:00",
          "2022-10-15T14:00:00",
          "2022-10-15T15:00:00",
          "2022-10-15T16:00:00",
          "2022-10-15T17:00:00",
          "2022-10-15T18:00:00",
          "2022-10-15T19:00:00",
          "2022-10-15T20:00:00",
          "2022-10-15T21:00:00",
          "2022-10-15T22:00:00",
          "2022-10-15T23:00:00",
          "2022-10-16T00:00:00",
          "2022-10-16T01:00:00",
          "2022-10-16T02:00:00",
          "2022-10-16T03:00:00",
          "2022-10-16T04:00:00",
          "2022-10-16T05:00:00",
          "2022-10-16T06:00:00",
          "2022-10-16T07:00:00",
          "2022-10-16T08:00:00",
          "2022-10-16T09:00:00",
          "2022-10-16T10:00:00",
          "2022-10-16T11:00:00",
          "2022-10-16T12:00:00",
          "2022-10-16T13:00:00",
          "2022-10-16T14:00:00",
          "2022-10-16T15:00:00",
          "2022-10-16T16:00:00",
          "2022-10-16T17:00:00",
          "2022-10-16T18:00:00",
          "2022-10-16T19:00:00",
          "2022-10-16T20:00:00",
          "2022-10-16T21:00:00",
          "2022-10-16T22:00:00",
          "2022-10-16T23:00:00",
          "2022-10-17T00:00:00",
          "2022-10-17T01:00:00",
          "2022-10-17T02:00:00",
          "2022-10-17T03:00:00",
          "2022-10-17T04:00:00",
          "2022-10-17T05:00:00",
          "2022-10-17T06:00:00",
          "2022-10-17T07:00:00",
          "2022-10-17T08:00:00",
          "2022-10-17T09:00:00",
          "2022-10-17T10:00:00",
          "2022-10-17T11:00:00",
          "2022-10-17T12:00:00",
          "2022-10-17T13:00:00",
          "2022-10-17T14:00:00",
          "2022-10-17T15:00:00",
          "2022-10-17T16:00:00",
          "2022-10-17T17:00:00",
          "2022-10-17T18:00:00",
          "2022-10-17T19:00:00",
          "2022-10-17T20:00:00",
          "2022-10-17T21:00:00",
          "2022-10-17T22:00:00",
          "2022-10-17T23:00:00",
          "2022-10-18T00:00:00",
          "2022-10-18T01:00:00",
          "2022-10-18T02:00:00",
          "2022-10-18T03:00:00",
          "2022-10-18T04:00:00",
          "2022-10-18T05:00:00",
          "2022-10-18T06:00:00",
          "2022-10-18T07:00:00",
          "2022-10-18T08:00:00",
          "2022-10-18T09:00:00",
          "2022-10-18T10:00:00",
          "2022-10-18T11:00:00",
          "2022-10-18T12:00:00",
          "2022-10-18T13:00:00",
          "2022-10-18T14:00:00",
          "2022-10-18T15:00:00",
          "2022-10-18T16:00:00",
          "2022-10-18T17:00:00",
          "2022-10-18T18:00:00",
          "2022-10-18T19:00:00",
          "2022-10-18T20:00:00",
          "2022-10-18T21:00:00",
          "2022-10-18T22:00:00",
          "2022-10-18T23:00:00",
          "2022-10-19T00:00:00",
          "2022-10-19T01:00:00",
          "2022-10-19T02:00:00",
          "2022-10-19T03:00:00",
          "2022-10-19T04:00:00",
          "2022-10-19T05:00:00",
          "2022-10-19T06:00:00",
          "2022-10-19T07:00:00",
          "2022-10-19T08:00:00",
          "2022-10-19T09:00:00",
          "2022-10-19T10:00:00",
          "2022-10-19T11:00:00",
          "2022-10-19T12:00:00",
          "2022-10-19T13:00:00",
          "2022-10-19T14:00:00",
          "2022-10-19T15:00:00",
          "2022-10-19T16:00:00",
          "2022-10-19T17:00:00",
          "2022-10-19T18:00:00",
          "2022-10-19T19:00:00",
          "2022-10-19T20:00:00",
          "2022-10-19T21:00:00",
          "2022-10-19T22:00:00",
          "2022-10-19T23:00:00",
          "2022-10-20T00:00:00"
         ],
         "y": [
          138.9999999999997,
          117.99999999999974,
          95.99999999999973,
          23.999999999999915,
          18.999999999999932,
          17.999999999999936,
          25.999999999999908,
          59.99999999999983,
          148.99999999999972,
          227.99999999999977,
          338.9999999999997,
          429.99999999999966,
          499.99999999999983,
          533.9999999999998,
          565.9999999999997,
          502.9999999999998,
          478.9999999999998,
          477.99999999999966,
          455.99999999999983,
          330.9999999999997,
          259.99999999999966,
          187.99999999999966,
          187.99999999999972,
          188.99999999999972,
          181.99999999999977,
          138.99999999999963,
          110.99999999999977,
          46.999999999999844,
          21.999999999999922,
          13.99999999999995,
          27.9999999999999,
          56.999999999999844,
          107.99999999999982,
          212.99999999999972,
          282.9999999999998,
          372.99999999999966,
          424.9999999999997,
          471.9999999999997,
          457.9999999999998,
          471.9999999999997,
          499.9999999999997,
          438.9999999999998,
          426.9999999999998,
          247.99999999999977,
          181.99999999999977,
          121.99999999999967,
          100.99999999999977,
          57.99999999999982,
          53.999999999999844,
          14.999999999999947,
          11.999999999999957,
          6.999999999999975,
          8.999999999999968,
          29.999999999999893,
          98.9999999999998,
          254.99999999999972,
          520.9999999999999,
          495.9999999999998,
          291.9999999999998,
          255.99999999999977,
          304.9999999999998,
          331.99999999999966,
          294.9999999999998,
          372.9999999999997,
          458.9999999999998,
          757.9999999999999,
          675.9999999999999,
          493.9999999999997,
          305.9999999999998,
          189.99999999999963,
          139.99999999999972,
          73.9999999999998,
          46.999999999999865,
          15.999999999999943,
          16.99999999999994,
          6.999999999999975,
          4.999999999999982,
          47.99999999999983,
          125.99999999999972,
          321.9999999999999,
          699.9999999999999,
          604.9999999999999,
          343.9999999999998,
          275.99999999999966,
          342.9999999999998,
          337.9999999999997,
          340.99999999999983,
          402.9999999999998,
          619.9999999999998,
          948.9999999999998,
          936.9999999999999,
          625.9999999999998,
          362.9999999999997,
          286.9999999999997,
          334.99999999999983,
          146.99999999999977,
          62.9999999999998,
          24.99999999999991,
          7.999999999999972,
          9.999999999999964,
          6.999999999999975,
          39.99999999999987,
          112.99999999999983,
          331.9999999999999,
          657.9999999999999,
          603.9999999999999,
          401.9999999999998,
          344.9999999999998,
          369.9999999999997,
          339.9999999999998,
          306.9999999999997,
          399.9999999999997,
          590.9999999999998,
          957.9999999999998,
          958.9999999999999,
          631.9999999999998,
          380.9999999999997,
          302.9999999999997,
          220.99999999999972,
          134.99999999999977,
          79.9999999999998
         ]
        },
        {
         "mode": "lines",
         "name": "Prediction",
         "type": "scatter",
         "x": [
          "2022-10-15T00:00:00",
          "2022-10-15T01:00:00",
          "2022-10-15T02:00:00",
          "2022-10-15T03:00:00",
          "2022-10-15T04:00:00",
          "2022-10-15T05:00:00",
          "2022-10-15T06:00:00",
          "2022-10-15T07:00:00",
          "2022-10-15T08:00:00",
          "2022-10-15T09:00:00",
          "2022-10-15T10:00:00",
          "2022-10-15T11:00:00",
          "2022-10-15T12:00:00",
          "2022-10-15T13:00:00",
          "2022-10-15T14:00:00",
          "2022-10-15T15:00:00",
          "2022-10-15T16:00:00",
          "2022-10-15T17:00:00",
          "2022-10-15T18:00:00",
          "2022-10-15T19:00:00",
          "2022-10-15T20:00:00",
          "2022-10-15T21:00:00",
          "2022-10-15T22:00:00",
          "2022-10-15T23:00:00",
          "2022-10-16T00:00:00",
          "2022-10-16T01:00:00",
          "2022-10-16T02:00:00",
          "2022-10-16T03:00:00",
          "2022-10-16T04:00:00",
          "2022-10-16T05:00:00",
          "2022-10-16T06:00:00",
          "2022-10-16T07:00:00",
          "2022-10-16T08:00:00",
          "2022-10-16T09:00:00",
          "2022-10-16T10:00:00",
          "2022-10-16T11:00:00",
          "2022-10-16T12:00:00",
          "2022-10-16T13:00:00",
          "2022-10-16T14:00:00",
          "2022-10-16T15:00:00",
          "2022-10-16T16:00:00",
          "2022-10-16T17:00:00",
          "2022-10-16T18:00:00",
          "2022-10-16T19:00:00",
          "2022-10-16T20:00:00",
          "2022-10-16T21:00:00",
          "2022-10-16T22:00:00",
          "2022-10-16T23:00:00",
          "2022-10-17T00:00:00",
          "2022-10-17T01:00:00",
          "2022-10-17T02:00:00",
          "2022-10-17T03:00:00",
          "2022-10-17T04:00:00",
          "2022-10-17T05:00:00",
          "2022-10-17T06:00:00",
          "2022-10-17T07:00:00",
          "2022-10-17T08:00:00",
          "2022-10-17T09:00:00",
          "2022-10-17T10:00:00",
          "2022-10-17T11:00:00",
          "2022-10-17T12:00:00",
          "2022-10-17T13:00:00",
          "2022-10-17T14:00:00",
          "2022-10-17T15:00:00",
          "2022-10-17T16:00:00",
          "2022-10-17T17:00:00",
          "2022-10-17T18:00:00",
          "2022-10-17T19:00:00",
          "2022-10-17T20:00:00",
          "2022-10-17T21:00:00",
          "2022-10-17T22:00:00",
          "2022-10-17T23:00:00",
          "2022-10-18T00:00:00",
          "2022-10-18T01:00:00",
          "2022-10-18T02:00:00",
          "2022-10-18T03:00:00",
          "2022-10-18T04:00:00",
          "2022-10-18T05:00:00",
          "2022-10-18T06:00:00",
          "2022-10-18T07:00:00",
          "2022-10-18T08:00:00",
          "2022-10-18T09:00:00",
          "2022-10-18T10:00:00",
          "2022-10-18T11:00:00",
          "2022-10-18T12:00:00",
          "2022-10-18T13:00:00",
          "2022-10-18T14:00:00",
          "2022-10-18T15:00:00",
          "2022-10-18T16:00:00",
          "2022-10-18T17:00:00",
          "2022-10-18T18:00:00",
          "2022-10-18T19:00:00",
          "2022-10-18T20:00:00",
          "2022-10-18T21:00:00",
          "2022-10-18T22:00:00",
          "2022-10-18T23:00:00",
          "2022-10-19T00:00:00",
          "2022-10-19T01:00:00",
          "2022-10-19T02:00:00",
          "2022-10-19T03:00:00",
          "2022-10-19T04:00:00",
          "2022-10-19T05:00:00",
          "2022-10-19T06:00:00",
          "2022-10-19T07:00:00",
          "2022-10-19T08:00:00",
          "2022-10-19T09:00:00",
          "2022-10-19T10:00:00",
          "2022-10-19T11:00:00",
          "2022-10-19T12:00:00",
          "2022-10-19T13:00:00",
          "2022-10-19T14:00:00",
          "2022-10-19T15:00:00",
          "2022-10-19T16:00:00",
          "2022-10-19T17:00:00",
          "2022-10-19T18:00:00",
          "2022-10-19T19:00:00",
          "2022-10-19T20:00:00",
          "2022-10-19T21:00:00",
          "2022-10-19T22:00:00",
          "2022-10-19T23:00:00",
          "2022-10-20T00:00:00"
         ],
         "y": [
          152.25999999999416,
          125.57999999999413,
          108.3999999999954,
          36.269999999998475,
          24.959999999998892,
          22.54999999999948,
          37.07999999999822,
          75.21999999999684,
          174.8499999999927,
          291.0399999999896,
          366.17999999998807,
          453.1899999999852,
          516.3199999999846,
          521.5499999999861,
          538.3899999999843,
          540.4199999999843,
          496.64999999998696,
          519.4599999999864,
          479.21999999998695,
          363.93999999998783,
          258.30999999999034,
          218.35999999999095,
          208.37999999999175,
          212.4999999999914,
          171.58999999999267,
          143.7399999999946,
          134.27999999999412,
          50.179999999998074,
          23.299999999999436,
          14.039999999999884,
          28.639999999999326,
          60.06999999999809,
          124.67999999999485,
          221.8899999999909,
          323.0399999999877,
          381.6199999999875,
          450.09999999998695,
          488.7299999999854,
          521.5099999999851,
          483.5499999999864,
          487.5399999999873,
          497.80999999998625,
          454.82999999998685,
          293.73999999998983,
          182.78999999999226,
          131.70999999999475,
          114.46999999999484,
          61.20999999999742,
          55.719999999998294,
          15.139999999999699,
          13.38999999999972,
          8.059999999999796,
          9.809999999999896,
          30.229999999999112,
          92.79999999999663,
          265.4299999999913,
          427.50999999998857,
          462.39999999998776,
          322.5999999999886,
          269.63999999999015,
          335.49999999998937,
          362.52999999998815,
          373.81999999998766,
          437.09999999998627,
          530.8899999999833,
          657.159999999984,
          725.5299999999838,
          491.7799999999848,
          331.0699999999869,
          201.5599999999924,
          166.4699999999932,
          81.09999999999646,
          49.739999999998695,
          16.92999999999952,
          15.029999999999678,
          6.679999999999874,
          5.279999999999848,
          44.08999999999805,
          123.22999999999628,
          338.05999999999057,
          627.2899999999892,
          553.5999999999872,
          352.6699999999892,
          315.4099999999883,
          337.2299999999883,
          350.3899999999875,
          393.4899999999858,
          441.499999999986,
          629.1999999999824,
          862.0199999999834,
          911.1499999999854,
          651.8399999999849,
          397.2599999999867,
          313.46999999998866,
          307.1999999999874,
          173.65999999999312,
          54.92999999999783,
          24.809999999999388,
          9.749999999999739,
          10.969999999999747,
          7.859999999999676,
          42.11999999999813,
          122.05999999999565,
          342.5299999999896,
          671.429999999989,
          598.4999999999886,
          419.9599999999872,
          352.7399999999883,
          401.4599999999874,
          394.0099999999867,
          373.27999999998735,
          430.5699999999867,
          634.5799999999832,
          936.2799999999834,
          974.1899999999846,
          702.6799999999855,
          411.77999999998764,
          330.6399999999891,
          256.4599999999912,
          187.9499999999918,
          93.64999999999658
         ]
        }
       ],
       "layout": {
        "hovermode": "x",
        "template": {
         "data": {
          "bar": [
           {
            "error_x": {
             "color": "#2a3f5f"
            },
            "error_y": {
             "color": "#2a3f5f"
            },
            "marker": {
             "line": {
              "color": "#E5ECF6",
              "width": 0.5
             },
             "pattern": {
              "fillmode": "overlay",
              "size": 10,
              "solidity": 0.2
             }
            },
            "type": "bar"
           }
          ],
          "barpolar": [
           {
            "marker": {
             "line": {
              "color": "#E5ECF6",
              "width": 0.5
             },
             "pattern": {
              "fillmode": "overlay",
              "size": 10,
              "solidity": 0.2
             }
            },
            "type": "barpolar"
           }
          ],
          "carpet": [
           {
            "aaxis": {
             "endlinecolor": "#2a3f5f",
             "gridcolor": "white",
             "linecolor": "white",
             "minorgridcolor": "white",
             "startlinecolor": "#2a3f5f"
            },
            "baxis": {
             "endlinecolor": "#2a3f5f",
             "gridcolor": "white",
             "linecolor": "white",
             "minorgridcolor": "white",
             "startlinecolor": "#2a3f5f"
            },
            "type": "carpet"
           }
          ],
          "choropleth": [
           {
            "colorbar": {
             "outlinewidth": 0,
             "ticks": ""
            },
            "type": "choropleth"
           }
          ],
          "contour": [
           {
            "colorbar": {
             "outlinewidth": 0,
             "ticks": ""
            },
            "colorscale": [
             [
              0,
              "#0d0887"
             ],
             [
              0.1111111111111111,
              "#46039f"
             ],
             [
              0.2222222222222222,
              "#7201a8"
             ],
             [
              0.3333333333333333,
              "#9c179e"
             ],
             [
              0.4444444444444444,
              "#bd3786"
             ],
             [
              0.5555555555555556,
              "#d8576b"
             ],
             [
              0.6666666666666666,
              "#ed7953"
             ],
             [
              0.7777777777777778,
              "#fb9f3a"
             ],
             [
              0.8888888888888888,
              "#fdca26"
             ],
             [
              1,
              "#f0f921"
             ]
            ],
            "type": "contour"
           }
          ],
          "contourcarpet": [
           {
            "colorbar": {
             "outlinewidth": 0,
             "ticks": ""
            },
            "type": "contourcarpet"
           }
          ],
          "heatmap": [
           {
            "colorbar": {
             "outlinewidth": 0,
             "ticks": ""
            },
            "colorscale": [
             [
              0,
              "#0d0887"
             ],
             [
              0.1111111111111111,
              "#46039f"
             ],
             [
              0.2222222222222222,
              "#7201a8"
             ],
             [
              0.3333333333333333,
              "#9c179e"
             ],
             [
              0.4444444444444444,
              "#bd3786"
             ],
             [
              0.5555555555555556,
              "#d8576b"
             ],
             [
              0.6666666666666666,
              "#ed7953"
             ],
             [
              0.7777777777777778,
              "#fb9f3a"
             ],
             [
              0.8888888888888888,
              "#fdca26"
             ],
             [
              1,
              "#f0f921"
             ]
            ],
            "type": "heatmap"
           }
          ],
          "heatmapgl": [
           {
            "colorbar": {
             "outlinewidth": 0,
             "ticks": ""
            },
            "colorscale": [
             [
              0,
              "#0d0887"
             ],
             [
              0.1111111111111111,
              "#46039f"
             ],
             [
              0.2222222222222222,
              "#7201a8"
             ],
             [
              0.3333333333333333,
              "#9c179e"
             ],
             [
              0.4444444444444444,
              "#bd3786"
             ],
             [
              0.5555555555555556,
              "#d8576b"
             ],
             [
              0.6666666666666666,
              "#ed7953"
             ],
             [
              0.7777777777777778,
              "#fb9f3a"
             ],
             [
              0.8888888888888888,
              "#fdca26"
             ],
             [
              1,
              "#f0f921"
             ]
            ],
            "type": "heatmapgl"
           }
          ],
          "histogram": [
           {
            "marker": {
             "pattern": {
              "fillmode": "overlay",
              "size": 10,
              "solidity": 0.2
             }
            },
            "type": "histogram"
           }
          ],
          "histogram2d": [
           {
            "colorbar": {
             "outlinewidth": 0,
             "ticks": ""
            },
            "colorscale": [
             [
              0,
              "#0d0887"
             ],
             [
              0.1111111111111111,
              "#46039f"
             ],
             [
              0.2222222222222222,
              "#7201a8"
             ],
             [
              0.3333333333333333,
              "#9c179e"
             ],
             [
              0.4444444444444444,
              "#bd3786"
             ],
             [
              0.5555555555555556,
              "#d8576b"
             ],
             [
              0.6666666666666666,
              "#ed7953"
             ],
             [
              0.7777777777777778,
              "#fb9f3a"
             ],
             [
              0.8888888888888888,
              "#fdca26"
             ],
             [
              1,
              "#f0f921"
             ]
            ],
            "type": "histogram2d"
           }
          ],
          "histogram2dcontour": [
           {
            "colorbar": {
             "outlinewidth": 0,
             "ticks": ""
            },
            "colorscale": [
             [
              0,
              "#0d0887"
             ],
             [
              0.1111111111111111,
              "#46039f"
             ],
             [
              0.2222222222222222,
              "#7201a8"
             ],
             [
              0.3333333333333333,
              "#9c179e"
             ],
             [
              0.4444444444444444,
              "#bd3786"
             ],
             [
              0.5555555555555556,
              "#d8576b"
             ],
             [
              0.6666666666666666,
              "#ed7953"
             ],
             [
              0.7777777777777778,
              "#fb9f3a"
             ],
             [
              0.8888888888888888,
              "#fdca26"
             ],
             [
              1,
              "#f0f921"
             ]
            ],
            "type": "histogram2dcontour"
           }
          ],
          "mesh3d": [
           {
            "colorbar": {
             "outlinewidth": 0,
             "ticks": ""
            },
            "type": "mesh3d"
           }
          ],
          "parcoords": [
           {
            "line": {
             "colorbar": {
              "outlinewidth": 0,
              "ticks": ""
             }
            },
            "type": "parcoords"
           }
          ],
          "pie": [
           {
            "automargin": true,
            "type": "pie"
           }
          ],
          "scatter": [
           {
            "fillpattern": {
             "fillmode": "overlay",
             "size": 10,
             "solidity": 0.2
            },
            "type": "scatter"
           }
          ],
          "scatter3d": [
           {
            "line": {
             "colorbar": {
              "outlinewidth": 0,
              "ticks": ""
             }
            },
            "marker": {
             "colorbar": {
              "outlinewidth": 0,
              "ticks": ""
             }
            },
            "type": "scatter3d"
           }
          ],
          "scattercarpet": [
           {
            "marker": {
             "colorbar": {
              "outlinewidth": 0,
              "ticks": ""
             }
            },
            "type": "scattercarpet"
           }
          ],
          "scattergeo": [
           {
            "marker": {
             "colorbar": {
              "outlinewidth": 0,
              "ticks": ""
             }
            },
            "type": "scattergeo"
           }
          ],
          "scattergl": [
           {
            "marker": {
             "colorbar": {
              "outlinewidth": 0,
              "ticks": ""
             }
            },
            "type": "scattergl"
           }
          ],
          "scattermapbox": [
           {
            "marker": {
             "colorbar": {
              "outlinewidth": 0,
              "ticks": ""
             }
            },
            "type": "scattermapbox"
           }
          ],
          "scatterpolar": [
           {
            "marker": {
             "colorbar": {
              "outlinewidth": 0,
              "ticks": ""
             }
            },
            "type": "scatterpolar"
           }
          ],
          "scatterpolargl": [
           {
            "marker": {
             "colorbar": {
              "outlinewidth": 0,
              "ticks": ""
             }
            },
            "type": "scatterpolargl"
           }
          ],
          "scatterternary": [
           {
            "marker": {
             "colorbar": {
              "outlinewidth": 0,
              "ticks": ""
             }
            },
            "type": "scatterternary"
           }
          ],
          "surface": [
           {
            "colorbar": {
             "outlinewidth": 0,
             "ticks": ""
            },
            "colorscale": [
             [
              0,
              "#0d0887"
             ],
             [
              0.1111111111111111,
              "#46039f"
             ],
             [
              0.2222222222222222,
              "#7201a8"
             ],
             [
              0.3333333333333333,
              "#9c179e"
             ],
             [
              0.4444444444444444,
              "#bd3786"
             ],
             [
              0.5555555555555556,
              "#d8576b"
             ],
             [
              0.6666666666666666,
              "#ed7953"
             ],
             [
              0.7777777777777778,
              "#fb9f3a"
             ],
             [
              0.8888888888888888,
              "#fdca26"
             ],
             [
              1,
              "#f0f921"
             ]
            ],
            "type": "surface"
           }
          ],
          "table": [
           {
            "cells": {
             "fill": {
              "color": "#EBF0F8"
             },
             "line": {
              "color": "white"
             }
            },
            "header": {
             "fill": {
              "color": "#C8D4E3"
             },
             "line": {
              "color": "white"
             }
            },
            "type": "table"
           }
          ]
         },
         "layout": {
          "annotationdefaults": {
           "arrowcolor": "#2a3f5f",
           "arrowhead": 0,
           "arrowwidth": 1
          },
          "autotypenumbers": "strict",
          "coloraxis": {
           "colorbar": {
            "outlinewidth": 0,
            "ticks": ""
           }
          },
          "colorscale": {
           "diverging": [
            [
             0,
             "#8e0152"
            ],
            [
             0.1,
             "#c51b7d"
            ],
            [
             0.2,
             "#de77ae"
            ],
            [
             0.3,
             "#f1b6da"
            ],
            [
             0.4,
             "#fde0ef"
            ],
            [
             0.5,
             "#f7f7f7"
            ],
            [
             0.6,
             "#e6f5d0"
            ],
            [
             0.7,
             "#b8e186"
            ],
            [
             0.8,
             "#7fbc41"
            ],
            [
             0.9,
             "#4d9221"
            ],
            [
             1,
             "#276419"
            ]
           ],
           "sequential": [
            [
             0,
             "#0d0887"
            ],
            [
             0.1111111111111111,
             "#46039f"
            ],
            [
             0.2222222222222222,
             "#7201a8"
            ],
            [
             0.3333333333333333,
             "#9c179e"
            ],
            [
             0.4444444444444444,
             "#bd3786"
            ],
            [
             0.5555555555555556,
             "#d8576b"
            ],
            [
             0.6666666666666666,
             "#ed7953"
            ],
            [
             0.7777777777777778,
             "#fb9f3a"
            ],
            [
             0.8888888888888888,
             "#fdca26"
            ],
            [
             1,
             "#f0f921"
            ]
           ],
           "sequentialminus": [
            [
             0,
             "#0d0887"
            ],
            [
             0.1111111111111111,
             "#46039f"
            ],
            [
             0.2222222222222222,
             "#7201a8"
            ],
            [
             0.3333333333333333,
             "#9c179e"
            ],
            [
             0.4444444444444444,
             "#bd3786"
            ],
            [
             0.5555555555555556,
             "#d8576b"
            ],
            [
             0.6666666666666666,
             "#ed7953"
            ],
            [
             0.7777777777777778,
             "#fb9f3a"
            ],
            [
             0.8888888888888888,
             "#fdca26"
            ],
            [
             1,
             "#f0f921"
            ]
           ]
          },
          "colorway": [
           "#636efa",
           "#EF553B",
           "#00cc96",
           "#ab63fa",
           "#FFA15A",
           "#19d3f3",
           "#FF6692",
           "#B6E880",
           "#FF97FF",
           "#FECB52"
          ],
          "font": {
           "color": "#2a3f5f"
          },
          "geo": {
           "bgcolor": "white",
           "lakecolor": "white",
           "landcolor": "#E5ECF6",
           "showlakes": true,
           "showland": true,
           "subunitcolor": "white"
          },
          "hoverlabel": {
           "align": "left"
          },
          "hovermode": "closest",
          "mapbox": {
           "style": "light"
          },
          "paper_bgcolor": "white",
          "plot_bgcolor": "#E5ECF6",
          "polar": {
           "angularaxis": {
            "gridcolor": "white",
            "linecolor": "white",
            "ticks": ""
           },
           "bgcolor": "#E5ECF6",
           "radialaxis": {
            "gridcolor": "white",
            "linecolor": "white",
            "ticks": ""
           }
          },
          "scene": {
           "xaxis": {
            "backgroundcolor": "#E5ECF6",
            "gridcolor": "white",
            "gridwidth": 2,
            "linecolor": "white",
            "showbackground": true,
            "ticks": "",
            "zerolinecolor": "white"
           },
           "yaxis": {
            "backgroundcolor": "#E5ECF6",
            "gridcolor": "white",
            "gridwidth": 2,
            "linecolor": "white",
            "showbackground": true,
            "ticks": "",
            "zerolinecolor": "white"
           },
           "zaxis": {
            "backgroundcolor": "#E5ECF6",
            "gridcolor": "white",
            "gridwidth": 2,
            "linecolor": "white",
            "showbackground": true,
            "ticks": "",
            "zerolinecolor": "white"
           }
          },
          "shapedefaults": {
           "line": {
            "color": "#2a3f5f"
           }
          },
          "ternary": {
           "aaxis": {
            "gridcolor": "white",
            "linecolor": "white",
            "ticks": ""
           },
           "baxis": {
            "gridcolor": "white",
            "linecolor": "white",
            "ticks": ""
           },
           "bgcolor": "#E5ECF6",
           "caxis": {
            "gridcolor": "white",
            "linecolor": "white",
            "ticks": ""
           }
          },
          "title": {
           "x": 0.05
          },
          "xaxis": {
           "automargin": true,
           "gridcolor": "white",
           "linecolor": "white",
           "ticks": "",
           "title": {
            "standoff": 15
           },
           "zerolinecolor": "white",
           "zerolinewidth": 2
          },
          "yaxis": {
           "automargin": true,
           "gridcolor": "white",
           "linecolor": "white",
           "ticks": "",
           "title": {
            "standoff": 15
           },
           "zerolinecolor": "white",
           "zerolinewidth": 2
          }
         }
        },
        "title": {
         "text": "Returns Hourly Prediction Sample Output"
        }
       }
      },
      "text/html": [
       "<div>                            <div id=\"0b0edb00-3670-4865-a7a6-d269f7d902bf\" class=\"plotly-graph-div\" style=\"height:525px; width:100%;\"></div>            <script type=\"text/javascript\">                require([\"plotly\"], function(Plotly) {                    window.PLOTLYENV=window.PLOTLYENV || {};                                    if (document.getElementById(\"0b0edb00-3670-4865-a7a6-d269f7d902bf\")) {                    Plotly.newPlot(                        \"0b0edb00-3670-4865-a7a6-d269f7d902bf\",                        [{\"mode\":\"lines\",\"name\":\"Actual\",\"x\":[\"2022-10-15T00:00:00\",\"2022-10-15T01:00:00\",\"2022-10-15T02:00:00\",\"2022-10-15T03:00:00\",\"2022-10-15T04:00:00\",\"2022-10-15T05:00:00\",\"2022-10-15T06:00:00\",\"2022-10-15T07:00:00\",\"2022-10-15T08:00:00\",\"2022-10-15T09:00:00\",\"2022-10-15T10:00:00\",\"2022-10-15T11:00:00\",\"2022-10-15T12:00:00\",\"2022-10-15T13:00:00\",\"2022-10-15T14:00:00\",\"2022-10-15T15:00:00\",\"2022-10-15T16:00:00\",\"2022-10-15T17:00:00\",\"2022-10-15T18:00:00\",\"2022-10-15T19:00:00\",\"2022-10-15T20:00:00\",\"2022-10-15T21:00:00\",\"2022-10-15T22:00:00\",\"2022-10-15T23:00:00\",\"2022-10-16T00:00:00\",\"2022-10-16T01:00:00\",\"2022-10-16T02:00:00\",\"2022-10-16T03:00:00\",\"2022-10-16T04:00:00\",\"2022-10-16T05:00:00\",\"2022-10-16T06:00:00\",\"2022-10-16T07:00:00\",\"2022-10-16T08:00:00\",\"2022-10-16T09:00:00\",\"2022-10-16T10:00:00\",\"2022-10-16T11:00:00\",\"2022-10-16T12:00:00\",\"2022-10-16T13:00:00\",\"2022-10-16T14:00:00\",\"2022-10-16T15:00:00\",\"2022-10-16T16:00:00\",\"2022-10-16T17:00:00\",\"2022-10-16T18:00:00\",\"2022-10-16T19:00:00\",\"2022-10-16T20:00:00\",\"2022-10-16T21:00:00\",\"2022-10-16T22:00:00\",\"2022-10-16T23:00:00\",\"2022-10-17T00:00:00\",\"2022-10-17T01:00:00\",\"2022-10-17T02:00:00\",\"2022-10-17T03:00:00\",\"2022-10-17T04:00:00\",\"2022-10-17T05:00:00\",\"2022-10-17T06:00:00\",\"2022-10-17T07:00:00\",\"2022-10-17T08:00:00\",\"2022-10-17T09:00:00\",\"2022-10-17T10:00:00\",\"2022-10-17T11:00:00\",\"2022-10-17T12:00:00\",\"2022-10-17T13:00:00\",\"2022-10-17T14:00:00\",\"2022-10-17T15:00:00\",\"2022-10-17T16:00:00\",\"2022-10-17T17:00:00\",\"2022-10-17T18:00:00\",\"2022-10-17T19:00:00\",\"2022-10-17T20:00:00\",\"2022-10-17T21:00:00\",\"2022-10-17T22:00:00\",\"2022-10-17T23:00:00\",\"2022-10-18T00:00:00\",\"2022-10-18T01:00:00\",\"2022-10-18T02:00:00\",\"2022-10-18T03:00:00\",\"2022-10-18T04:00:00\",\"2022-10-18T05:00:00\",\"2022-10-18T06:00:00\",\"2022-10-18T07:00:00\",\"2022-10-18T08:00:00\",\"2022-10-18T09:00:00\",\"2022-10-18T10:00:00\",\"2022-10-18T11:00:00\",\"2022-10-18T12:00:00\",\"2022-10-18T13:00:00\",\"2022-10-18T14:00:00\",\"2022-10-18T15:00:00\",\"2022-10-18T16:00:00\",\"2022-10-18T17:00:00\",\"2022-10-18T18:00:00\",\"2022-10-18T19:00:00\",\"2022-10-18T20:00:00\",\"2022-10-18T21:00:00\",\"2022-10-18T22:00:00\",\"2022-10-18T23:00:00\",\"2022-10-19T00:00:00\",\"2022-10-19T01:00:00\",\"2022-10-19T02:00:00\",\"2022-10-19T03:00:00\",\"2022-10-19T04:00:00\",\"2022-10-19T05:00:00\",\"2022-10-19T06:00:00\",\"2022-10-19T07:00:00\",\"2022-10-19T08:00:00\",\"2022-10-19T09:00:00\",\"2022-10-19T10:00:00\",\"2022-10-19T11:00:00\",\"2022-10-19T12:00:00\",\"2022-10-19T13:00:00\",\"2022-10-19T14:00:00\",\"2022-10-19T15:00:00\",\"2022-10-19T16:00:00\",\"2022-10-19T17:00:00\",\"2022-10-19T18:00:00\",\"2022-10-19T19:00:00\",\"2022-10-19T20:00:00\",\"2022-10-19T21:00:00\",\"2022-10-19T22:00:00\",\"2022-10-19T23:00:00\",\"2022-10-20T00:00:00\"],\"y\":[138.9999999999997,117.99999999999974,95.99999999999973,23.999999999999915,18.999999999999932,17.999999999999936,25.999999999999908,59.99999999999983,148.99999999999972,227.99999999999977,338.9999999999997,429.99999999999966,499.99999999999983,533.9999999999998,565.9999999999997,502.9999999999998,478.9999999999998,477.99999999999966,455.99999999999983,330.9999999999997,259.99999999999966,187.99999999999966,187.99999999999972,188.99999999999972,181.99999999999977,138.99999999999963,110.99999999999977,46.999999999999844,21.999999999999922,13.99999999999995,27.9999999999999,56.999999999999844,107.99999999999982,212.99999999999972,282.9999999999998,372.99999999999966,424.9999999999997,471.9999999999997,457.9999999999998,471.9999999999997,499.9999999999997,438.9999999999998,426.9999999999998,247.99999999999977,181.99999999999977,121.99999999999967,100.99999999999977,57.99999999999982,53.999999999999844,14.999999999999947,11.999999999999957,6.999999999999975,8.999999999999968,29.999999999999893,98.9999999999998,254.99999999999972,520.9999999999999,495.9999999999998,291.9999999999998,255.99999999999977,304.9999999999998,331.99999999999966,294.9999999999998,372.9999999999997,458.9999999999998,757.9999999999999,675.9999999999999,493.9999999999997,305.9999999999998,189.99999999999963,139.99999999999972,73.9999999999998,46.999999999999865,15.999999999999943,16.99999999999994,6.999999999999975,4.999999999999982,47.99999999999983,125.99999999999972,321.9999999999999,699.9999999999999,604.9999999999999,343.9999999999998,275.99999999999966,342.9999999999998,337.9999999999997,340.99999999999983,402.9999999999998,619.9999999999998,948.9999999999998,936.9999999999999,625.9999999999998,362.9999999999997,286.9999999999997,334.99999999999983,146.99999999999977,62.9999999999998,24.99999999999991,7.999999999999972,9.999999999999964,6.999999999999975,39.99999999999987,112.99999999999983,331.9999999999999,657.9999999999999,603.9999999999999,401.9999999999998,344.9999999999998,369.9999999999997,339.9999999999998,306.9999999999997,399.9999999999997,590.9999999999998,957.9999999999998,958.9999999999999,631.9999999999998,380.9999999999997,302.9999999999997,220.99999999999972,134.99999999999977,79.9999999999998],\"type\":\"scatter\"},{\"mode\":\"lines\",\"name\":\"Prediction\",\"x\":[\"2022-10-15T00:00:00\",\"2022-10-15T01:00:00\",\"2022-10-15T02:00:00\",\"2022-10-15T03:00:00\",\"2022-10-15T04:00:00\",\"2022-10-15T05:00:00\",\"2022-10-15T06:00:00\",\"2022-10-15T07:00:00\",\"2022-10-15T08:00:00\",\"2022-10-15T09:00:00\",\"2022-10-15T10:00:00\",\"2022-10-15T11:00:00\",\"2022-10-15T12:00:00\",\"2022-10-15T13:00:00\",\"2022-10-15T14:00:00\",\"2022-10-15T15:00:00\",\"2022-10-15T16:00:00\",\"2022-10-15T17:00:00\",\"2022-10-15T18:00:00\",\"2022-10-15T19:00:00\",\"2022-10-15T20:00:00\",\"2022-10-15T21:00:00\",\"2022-10-15T22:00:00\",\"2022-10-15T23:00:00\",\"2022-10-16T00:00:00\",\"2022-10-16T01:00:00\",\"2022-10-16T02:00:00\",\"2022-10-16T03:00:00\",\"2022-10-16T04:00:00\",\"2022-10-16T05:00:00\",\"2022-10-16T06:00:00\",\"2022-10-16T07:00:00\",\"2022-10-16T08:00:00\",\"2022-10-16T09:00:00\",\"2022-10-16T10:00:00\",\"2022-10-16T11:00:00\",\"2022-10-16T12:00:00\",\"2022-10-16T13:00:00\",\"2022-10-16T14:00:00\",\"2022-10-16T15:00:00\",\"2022-10-16T16:00:00\",\"2022-10-16T17:00:00\",\"2022-10-16T18:00:00\",\"2022-10-16T19:00:00\",\"2022-10-16T20:00:00\",\"2022-10-16T21:00:00\",\"2022-10-16T22:00:00\",\"2022-10-16T23:00:00\",\"2022-10-17T00:00:00\",\"2022-10-17T01:00:00\",\"2022-10-17T02:00:00\",\"2022-10-17T03:00:00\",\"2022-10-17T04:00:00\",\"2022-10-17T05:00:00\",\"2022-10-17T06:00:00\",\"2022-10-17T07:00:00\",\"2022-10-17T08:00:00\",\"2022-10-17T09:00:00\",\"2022-10-17T10:00:00\",\"2022-10-17T11:00:00\",\"2022-10-17T12:00:00\",\"2022-10-17T13:00:00\",\"2022-10-17T14:00:00\",\"2022-10-17T15:00:00\",\"2022-10-17T16:00:00\",\"2022-10-17T17:00:00\",\"2022-10-17T18:00:00\",\"2022-10-17T19:00:00\",\"2022-10-17T20:00:00\",\"2022-10-17T21:00:00\",\"2022-10-17T22:00:00\",\"2022-10-17T23:00:00\",\"2022-10-18T00:00:00\",\"2022-10-18T01:00:00\",\"2022-10-18T02:00:00\",\"2022-10-18T03:00:00\",\"2022-10-18T04:00:00\",\"2022-10-18T05:00:00\",\"2022-10-18T06:00:00\",\"2022-10-18T07:00:00\",\"2022-10-18T08:00:00\",\"2022-10-18T09:00:00\",\"2022-10-18T10:00:00\",\"2022-10-18T11:00:00\",\"2022-10-18T12:00:00\",\"2022-10-18T13:00:00\",\"2022-10-18T14:00:00\",\"2022-10-18T15:00:00\",\"2022-10-18T16:00:00\",\"2022-10-18T17:00:00\",\"2022-10-18T18:00:00\",\"2022-10-18T19:00:00\",\"2022-10-18T20:00:00\",\"2022-10-18T21:00:00\",\"2022-10-18T22:00:00\",\"2022-10-18T23:00:00\",\"2022-10-19T00:00:00\",\"2022-10-19T01:00:00\",\"2022-10-19T02:00:00\",\"2022-10-19T03:00:00\",\"2022-10-19T04:00:00\",\"2022-10-19T05:00:00\",\"2022-10-19T06:00:00\",\"2022-10-19T07:00:00\",\"2022-10-19T08:00:00\",\"2022-10-19T09:00:00\",\"2022-10-19T10:00:00\",\"2022-10-19T11:00:00\",\"2022-10-19T12:00:00\",\"2022-10-19T13:00:00\",\"2022-10-19T14:00:00\",\"2022-10-19T15:00:00\",\"2022-10-19T16:00:00\",\"2022-10-19T17:00:00\",\"2022-10-19T18:00:00\",\"2022-10-19T19:00:00\",\"2022-10-19T20:00:00\",\"2022-10-19T21:00:00\",\"2022-10-19T22:00:00\",\"2022-10-19T23:00:00\",\"2022-10-20T00:00:00\"],\"y\":[152.25999999999416,125.57999999999413,108.3999999999954,36.269999999998475,24.959999999998892,22.54999999999948,37.07999999999822,75.21999999999684,174.8499999999927,291.0399999999896,366.17999999998807,453.1899999999852,516.3199999999846,521.5499999999861,538.3899999999843,540.4199999999843,496.64999999998696,519.4599999999864,479.21999999998695,363.93999999998783,258.30999999999034,218.35999999999095,208.37999999999175,212.4999999999914,171.58999999999267,143.7399999999946,134.27999999999412,50.179999999998074,23.299999999999436,14.039999999999884,28.639999999999326,60.06999999999809,124.67999999999485,221.8899999999909,323.0399999999877,381.6199999999875,450.09999999998695,488.7299999999854,521.5099999999851,483.5499999999864,487.5399999999873,497.80999999998625,454.82999999998685,293.73999999998983,182.78999999999226,131.70999999999475,114.46999999999484,61.20999999999742,55.719999999998294,15.139999999999699,13.38999999999972,8.059999999999796,9.809999999999896,30.229999999999112,92.79999999999663,265.4299999999913,427.50999999998857,462.39999999998776,322.5999999999886,269.63999999999015,335.49999999998937,362.52999999998815,373.81999999998766,437.09999999998627,530.8899999999833,657.159999999984,725.5299999999838,491.7799999999848,331.0699999999869,201.5599999999924,166.4699999999932,81.09999999999646,49.739999999998695,16.92999999999952,15.029999999999678,6.679999999999874,5.279999999999848,44.08999999999805,123.22999999999628,338.05999999999057,627.2899999999892,553.5999999999872,352.6699999999892,315.4099999999883,337.2299999999883,350.3899999999875,393.4899999999858,441.499999999986,629.1999999999824,862.0199999999834,911.1499999999854,651.8399999999849,397.2599999999867,313.46999999998866,307.1999999999874,173.65999999999312,54.92999999999783,24.809999999999388,9.749999999999739,10.969999999999747,7.859999999999676,42.11999999999813,122.05999999999565,342.5299999999896,671.429999999989,598.4999999999886,419.9599999999872,352.7399999999883,401.4599999999874,394.0099999999867,373.27999999998735,430.5699999999867,634.5799999999832,936.2799999999834,974.1899999999846,702.6799999999855,411.77999999998764,330.6399999999891,256.4599999999912,187.9499999999918,93.64999999999658],\"type\":\"scatter\"}],                        {\"template\":{\"data\":{\"histogram2dcontour\":[{\"type\":\"histogram2dcontour\",\"colorbar\":{\"outlinewidth\":0,\"ticks\":\"\"},\"colorscale\":[[0.0,\"#0d0887\"],[0.1111111111111111,\"#46039f\"],[0.2222222222222222,\"#7201a8\"],[0.3333333333333333,\"#9c179e\"],[0.4444444444444444,\"#bd3786\"],[0.5555555555555556,\"#d8576b\"],[0.6666666666666666,\"#ed7953\"],[0.7777777777777778,\"#fb9f3a\"],[0.8888888888888888,\"#fdca26\"],[1.0,\"#f0f921\"]]}],\"choropleth\":[{\"type\":\"choropleth\",\"colorbar\":{\"outlinewidth\":0,\"ticks\":\"\"}}],\"histogram2d\":[{\"type\":\"histogram2d\",\"colorbar\":{\"outlinewidth\":0,\"ticks\":\"\"},\"colorscale\":[[0.0,\"#0d0887\"],[0.1111111111111111,\"#46039f\"],[0.2222222222222222,\"#7201a8\"],[0.3333333333333333,\"#9c179e\"],[0.4444444444444444,\"#bd3786\"],[0.5555555555555556,\"#d8576b\"],[0.6666666666666666,\"#ed7953\"],[0.7777777777777778,\"#fb9f3a\"],[0.8888888888888888,\"#fdca26\"],[1.0,\"#f0f921\"]]}],\"heatmap\":[{\"type\":\"heatmap\",\"colorbar\":{\"outlinewidth\":0,\"ticks\":\"\"},\"colorscale\":[[0.0,\"#0d0887\"],[0.1111111111111111,\"#46039f\"],[0.2222222222222222,\"#7201a8\"],[0.3333333333333333,\"#9c179e\"],[0.4444444444444444,\"#bd3786\"],[0.5555555555555556,\"#d8576b\"],[0.6666666666666666,\"#ed7953\"],[0.7777777777777778,\"#fb9f3a\"],[0.8888888888888888,\"#fdca26\"],[1.0,\"#f0f921\"]]}],\"heatmapgl\":[{\"type\":\"heatmapgl\",\"colorbar\":{\"outlinewidth\":0,\"ticks\":\"\"},\"colorscale\":[[0.0,\"#0d0887\"],[0.1111111111111111,\"#46039f\"],[0.2222222222222222,\"#7201a8\"],[0.3333333333333333,\"#9c179e\"],[0.4444444444444444,\"#bd3786\"],[0.5555555555555556,\"#d8576b\"],[0.6666666666666666,\"#ed7953\"],[0.7777777777777778,\"#fb9f3a\"],[0.8888888888888888,\"#fdca26\"],[1.0,\"#f0f921\"]]}],\"contourcarpet\":[{\"type\":\"contourcarpet\",\"colorbar\":{\"outlinewidth\":0,\"ticks\":\"\"}}],\"contour\":[{\"type\":\"contour\",\"colorbar\":{\"outlinewidth\":0,\"ticks\":\"\"},\"colorscale\":[[0.0,\"#0d0887\"],[0.1111111111111111,\"#46039f\"],[0.2222222222222222,\"#7201a8\"],[0.3333333333333333,\"#9c179e\"],[0.4444444444444444,\"#bd3786\"],[0.5555555555555556,\"#d8576b\"],[0.6666666666666666,\"#ed7953\"],[0.7777777777777778,\"#fb9f3a\"],[0.8888888888888888,\"#fdca26\"],[1.0,\"#f0f921\"]]}],\"surface\":[{\"type\":\"surface\",\"colorbar\":{\"outlinewidth\":0,\"ticks\":\"\"},\"colorscale\":[[0.0,\"#0d0887\"],[0.1111111111111111,\"#46039f\"],[0.2222222222222222,\"#7201a8\"],[0.3333333333333333,\"#9c179e\"],[0.4444444444444444,\"#bd3786\"],[0.5555555555555556,\"#d8576b\"],[0.6666666666666666,\"#ed7953\"],[0.7777777777777778,\"#fb9f3a\"],[0.8888888888888888,\"#fdca26\"],[1.0,\"#f0f921\"]]}],\"mesh3d\":[{\"type\":\"mesh3d\",\"colorbar\":{\"outlinewidth\":0,\"ticks\":\"\"}}],\"scatter\":[{\"fillpattern\":{\"fillmode\":\"overlay\",\"size\":10,\"solidity\":0.2},\"type\":\"scatter\"}],\"parcoords\":[{\"type\":\"parcoords\",\"line\":{\"colorbar\":{\"outlinewidth\":0,\"ticks\":\"\"}}}],\"scatterpolargl\":[{\"type\":\"scatterpolargl\",\"marker\":{\"colorbar\":{\"outlinewidth\":0,\"ticks\":\"\"}}}],\"bar\":[{\"error_x\":{\"color\":\"#2a3f5f\"},\"error_y\":{\"color\":\"#2a3f5f\"},\"marker\":{\"line\":{\"color\":\"#E5ECF6\",\"width\":0.5},\"pattern\":{\"fillmode\":\"overlay\",\"size\":10,\"solidity\":0.2}},\"type\":\"bar\"}],\"scattergeo\":[{\"type\":\"scattergeo\",\"marker\":{\"colorbar\":{\"outlinewidth\":0,\"ticks\":\"\"}}}],\"scatterpolar\":[{\"type\":\"scatterpolar\",\"marker\":{\"colorbar\":{\"outlinewidth\":0,\"ticks\":\"\"}}}],\"histogram\":[{\"marker\":{\"pattern\":{\"fillmode\":\"overlay\",\"size\":10,\"solidity\":0.2}},\"type\":\"histogram\"}],\"scattergl\":[{\"type\":\"scattergl\",\"marker\":{\"colorbar\":{\"outlinewidth\":0,\"ticks\":\"\"}}}],\"scatter3d\":[{\"type\":\"scatter3d\",\"line\":{\"colorbar\":{\"outlinewidth\":0,\"ticks\":\"\"}},\"marker\":{\"colorbar\":{\"outlinewidth\":0,\"ticks\":\"\"}}}],\"scattermapbox\":[{\"type\":\"scattermapbox\",\"marker\":{\"colorbar\":{\"outlinewidth\":0,\"ticks\":\"\"}}}],\"scatterternary\":[{\"type\":\"scatterternary\",\"marker\":{\"colorbar\":{\"outlinewidth\":0,\"ticks\":\"\"}}}],\"scattercarpet\":[{\"type\":\"scattercarpet\",\"marker\":{\"colorbar\":{\"outlinewidth\":0,\"ticks\":\"\"}}}],\"carpet\":[{\"aaxis\":{\"endlinecolor\":\"#2a3f5f\",\"gridcolor\":\"white\",\"linecolor\":\"white\",\"minorgridcolor\":\"white\",\"startlinecolor\":\"#2a3f5f\"},\"baxis\":{\"endlinecolor\":\"#2a3f5f\",\"gridcolor\":\"white\",\"linecolor\":\"white\",\"minorgridcolor\":\"white\",\"startlinecolor\":\"#2a3f5f\"},\"type\":\"carpet\"}],\"table\":[{\"cells\":{\"fill\":{\"color\":\"#EBF0F8\"},\"line\":{\"color\":\"white\"}},\"header\":{\"fill\":{\"color\":\"#C8D4E3\"},\"line\":{\"color\":\"white\"}},\"type\":\"table\"}],\"barpolar\":[{\"marker\":{\"line\":{\"color\":\"#E5ECF6\",\"width\":0.5},\"pattern\":{\"fillmode\":\"overlay\",\"size\":10,\"solidity\":0.2}},\"type\":\"barpolar\"}],\"pie\":[{\"automargin\":true,\"type\":\"pie\"}]},\"layout\":{\"autotypenumbers\":\"strict\",\"colorway\":[\"#636efa\",\"#EF553B\",\"#00cc96\",\"#ab63fa\",\"#FFA15A\",\"#19d3f3\",\"#FF6692\",\"#B6E880\",\"#FF97FF\",\"#FECB52\"],\"font\":{\"color\":\"#2a3f5f\"},\"hovermode\":\"closest\",\"hoverlabel\":{\"align\":\"left\"},\"paper_bgcolor\":\"white\",\"plot_bgcolor\":\"#E5ECF6\",\"polar\":{\"bgcolor\":\"#E5ECF6\",\"angularaxis\":{\"gridcolor\":\"white\",\"linecolor\":\"white\",\"ticks\":\"\"},\"radialaxis\":{\"gridcolor\":\"white\",\"linecolor\":\"white\",\"ticks\":\"\"}},\"ternary\":{\"bgcolor\":\"#E5ECF6\",\"aaxis\":{\"gridcolor\":\"white\",\"linecolor\":\"white\",\"ticks\":\"\"},\"baxis\":{\"gridcolor\":\"white\",\"linecolor\":\"white\",\"ticks\":\"\"},\"caxis\":{\"gridcolor\":\"white\",\"linecolor\":\"white\",\"ticks\":\"\"}},\"coloraxis\":{\"colorbar\":{\"outlinewidth\":0,\"ticks\":\"\"}},\"colorscale\":{\"sequential\":[[0.0,\"#0d0887\"],[0.1111111111111111,\"#46039f\"],[0.2222222222222222,\"#7201a8\"],[0.3333333333333333,\"#9c179e\"],[0.4444444444444444,\"#bd3786\"],[0.5555555555555556,\"#d8576b\"],[0.6666666666666666,\"#ed7953\"],[0.7777777777777778,\"#fb9f3a\"],[0.8888888888888888,\"#fdca26\"],[1.0,\"#f0f921\"]],\"sequentialminus\":[[0.0,\"#0d0887\"],[0.1111111111111111,\"#46039f\"],[0.2222222222222222,\"#7201a8\"],[0.3333333333333333,\"#9c179e\"],[0.4444444444444444,\"#bd3786\"],[0.5555555555555556,\"#d8576b\"],[0.6666666666666666,\"#ed7953\"],[0.7777777777777778,\"#fb9f3a\"],[0.8888888888888888,\"#fdca26\"],[1.0,\"#f0f921\"]],\"diverging\":[[0,\"#8e0152\"],[0.1,\"#c51b7d\"],[0.2,\"#de77ae\"],[0.3,\"#f1b6da\"],[0.4,\"#fde0ef\"],[0.5,\"#f7f7f7\"],[0.6,\"#e6f5d0\"],[0.7,\"#b8e186\"],[0.8,\"#7fbc41\"],[0.9,\"#4d9221\"],[1,\"#276419\"]]},\"xaxis\":{\"gridcolor\":\"white\",\"linecolor\":\"white\",\"ticks\":\"\",\"title\":{\"standoff\":15},\"zerolinecolor\":\"white\",\"automargin\":true,\"zerolinewidth\":2},\"yaxis\":{\"gridcolor\":\"white\",\"linecolor\":\"white\",\"ticks\":\"\",\"title\":{\"standoff\":15},\"zerolinecolor\":\"white\",\"automargin\":true,\"zerolinewidth\":2},\"scene\":{\"xaxis\":{\"backgroundcolor\":\"#E5ECF6\",\"gridcolor\":\"white\",\"linecolor\":\"white\",\"showbackground\":true,\"ticks\":\"\",\"zerolinecolor\":\"white\",\"gridwidth\":2},\"yaxis\":{\"backgroundcolor\":\"#E5ECF6\",\"gridcolor\":\"white\",\"linecolor\":\"white\",\"showbackground\":true,\"ticks\":\"\",\"zerolinecolor\":\"white\",\"gridwidth\":2},\"zaxis\":{\"backgroundcolor\":\"#E5ECF6\",\"gridcolor\":\"white\",\"linecolor\":\"white\",\"showbackground\":true,\"ticks\":\"\",\"zerolinecolor\":\"white\",\"gridwidth\":2}},\"shapedefaults\":{\"line\":{\"color\":\"#2a3f5f\"}},\"annotationdefaults\":{\"arrowcolor\":\"#2a3f5f\",\"arrowhead\":0,\"arrowwidth\":1},\"geo\":{\"bgcolor\":\"white\",\"landcolor\":\"#E5ECF6\",\"subunitcolor\":\"white\",\"showland\":true,\"showlakes\":true,\"lakecolor\":\"white\"},\"title\":{\"x\":0.05},\"mapbox\":{\"style\":\"light\"}}},\"hovermode\":\"x\",\"title\":{\"text\":\"Returns Hourly Prediction Sample Output\"}},                        {\"responsive\": true}                    ).then(function(){\n",
       "                            \n",
       "var gd = document.getElementById('0b0edb00-3670-4865-a7a6-d269f7d902bf');\n",
       "var x = new MutationObserver(function (mutations, observer) {{\n",
       "        var display = window.getComputedStyle(gd).display;\n",
       "        if (!display || display === 'none') {{\n",
       "            console.log([gd, 'removed!']);\n",
       "            Plotly.purge(gd);\n",
       "            observer.disconnect();\n",
       "        }}\n",
       "}});\n",
       "\n",
       "// Listen for the removal of the full notebook cells\n",
       "var notebookContainer = gd.closest('#notebook-container');\n",
       "if (notebookContainer) {{\n",
       "    x.observe(notebookContainer, {childList: true});\n",
       "}}\n",
       "\n",
       "// Listen for the clearing of the current output cell\n",
       "var outputEl = gd.closest('.output');\n",
       "if (outputEl) {{\n",
       "    x.observe(outputEl, {childList: true});\n",
       "}}\n",
       "\n",
       "                        })                };                });            </script>        </div>"
      ]
     },
     "metadata": {},
     "output_type": "display_data"
    }
   ],
   "source": [
    "hourly_fig_returns.update_layout(title=\"Returns Hourly Prediction Sample Output\")"
   ]
  },
  {
   "cell_type": "code",
   "execution_count": 17,
   "id": "f7a15320",
   "metadata": {},
   "outputs": [],
   "source": [
    "df = add_datetime(test_file, \"start_time\")"
   ]
  },
  {
   "cell_type": "code",
   "execution_count": null,
   "id": "5644f82b",
   "metadata": {},
   "outputs": [],
   "source": []
  },
  {
   "cell_type": "code",
   "execution_count": 18,
   "id": "e84e86d5",
   "metadata": {},
   "outputs": [
    {
     "data": {
      "text/plain": [
       "Timestamp('2022-12-01 00:00:00')"
      ]
     },
     "execution_count": 18,
     "metadata": {},
     "output_type": "execute_result"
    }
   ],
   "source": [
    "pd.to_datetime(\"2022-12-1\")"
   ]
  },
  {
   "cell_type": "code",
   "execution_count": null,
   "id": "5c41bf33",
   "metadata": {},
   "outputs": [],
   "source": []
  }
 ],
 "metadata": {
  "kernelspec": {
   "display_name": "Python 3 (ipykernel)",
   "language": "python",
   "name": "python3"
  },
  "language_info": {
   "codemirror_mode": {
    "name": "ipython",
    "version": 3
   },
   "file_extension": ".py",
   "mimetype": "text/x-python",
   "name": "python",
   "nbconvert_exporter": "python",
   "pygments_lexer": "ipython3",
   "version": "3.7.11"
  }
 },
 "nbformat": 4,
 "nbformat_minor": 5
}
